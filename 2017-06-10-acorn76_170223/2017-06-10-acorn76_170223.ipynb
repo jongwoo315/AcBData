{
 "cells": [
  {
   "cell_type": "markdown",
   "metadata": {},
   "source": [
    "# MySQL connection"
   ]
  },
  {
   "cell_type": "code",
   "execution_count": 43,
   "metadata": {
    "collapsed": true
   },
   "outputs": [],
   "source": [
    "import MySQLdb as mdb\n",
    "con = mdb.connect('localhost', 'root', '123', 'acorn')"
   ]
  },
  {
   "cell_type": "code",
   "execution_count": 54,
   "metadata": {
    "collapsed": false
   },
   "outputs": [
    {
     "name": "stdout",
     "output_type": "stream",
     "text": [
      "mysql version: 5.7.17-0ubuntu0.16.04.1\n"
     ]
    }
   ],
   "source": [
    "try:\n",
    "    con.query('select version()')\n",
    "    result = con.use_result()\n",
    "    \n",
    "    print 'mysql version: %s' % result.fetch_row()[0]\n",
    "\n",
    "except mdb.Error, e:\n",
    "    print 'error %d: %s' % (e.args[0], e.args[1])\n",
    "    sys.exit(1)\n",
    "    \n",
    "finally:\n",
    "    if con:\n",
    "        con.close()"
   ]
  },
  {
   "cell_type": "markdown",
   "metadata": {},
   "source": [
    "# Creating and populating a table"
   ]
  },
  {
   "cell_type": "code",
   "execution_count": 83,
   "metadata": {
    "collapsed": false
   },
   "outputs": [
    {
     "name": "stdout",
     "output_type": "stream",
     "text": [
      "None\n"
     ]
    }
   ],
   "source": [
    "con = mdb.connect('localhost', 'root', '123', 'acorn')\n",
    "cur = con.cursor()\n",
    "cur.execute('create table pet(name varchar(20), owner varchar(20), species varchar(20), sex char(1), birth date, death date)')\n",
    "print cur.description"
   ]
  },
  {
   "cell_type": "code",
   "execution_count": 84,
   "metadata": {
    "collapsed": false
   },
   "outputs": [],
   "source": [
    "sql = \"insert into pet(name, owner, species, sex, birth, death) values (%s, %s, %s, %s, %s, %s)\"\n",
    "cur.execute(sql, ('yuri10', 'jong', 'cat', 'f', '2014-1-1', '2015-7-31'))\n",
    "con.commit()"
   ]
  },
  {
   "cell_type": "code",
   "execution_count": 85,
   "metadata": {
    "collapsed": true
   },
   "outputs": [],
   "source": [
    "cur.execute(sql, ('yuri11', 'jong', 'cat', 'f', '2014-1-1', '2015-7-31'))\n",
    "con.commit()"
   ]
  },
  {
   "cell_type": "code",
   "execution_count": 86,
   "metadata": {
    "collapsed": true
   },
   "outputs": [],
   "source": [
    "cur.execute(sql, ('yuri12', 'jong', 'cat', 'f', '2014-1-1', '2015-7-31'))\n",
    "con.commit()"
   ]
  },
  {
   "cell_type": "code",
   "execution_count": 87,
   "metadata": {
    "collapsed": true
   },
   "outputs": [],
   "source": [
    "cur.execute(sql, ('yuri13', 'jong', 'cat', 'f', '2014-1-1', '2015-7-31'))\n",
    "con.commit()"
   ]
  },
  {
   "cell_type": "code",
   "execution_count": 102,
   "metadata": {
    "collapsed": false
   },
   "outputs": [
    {
     "name": "stdout",
     "output_type": "stream",
     "text": [
      "4\n"
     ]
    }
   ],
   "source": [
    "cur.execute(\"select * from pet\")\n",
    "print cur.rowcount"
   ]
  },
  {
   "cell_type": "code",
   "execution_count": 101,
   "metadata": {
    "collapsed": false
   },
   "outputs": [
    {
     "name": "stdout",
     "output_type": "stream",
     "text": [
      "(('name', 253, 6, 20, 20, 0, 1), ('owner', 253, 4, 20, 20, 0, 1), ('species', 253, 3, 20, 20, 0, 1), ('sex', 254, 1, 1, 1, 0, 1), ('birth', 10, 10, 10, 10, 0, 1), ('death', 10, 10, 10, 10, 0, 1))\n"
     ]
    }
   ],
   "source": [
    "print cur.description"
   ]
  },
  {
   "cell_type": "code",
   "execution_count": 103,
   "metadata": {
    "collapsed": false
   },
   "outputs": [
    {
     "data": {
      "text/plain": [
       "(('yuri10',\n",
       "  'jong',\n",
       "  'cat',\n",
       "  'f',\n",
       "  datetime.date(2014, 1, 1),\n",
       "  datetime.date(2015, 7, 31)),\n",
       " ('yuri11',\n",
       "  'jong',\n",
       "  'cat',\n",
       "  'f',\n",
       "  datetime.date(2014, 1, 1),\n",
       "  datetime.date(2015, 7, 31)),\n",
       " ('yuri12',\n",
       "  'jong',\n",
       "  'cat',\n",
       "  'f',\n",
       "  datetime.date(2014, 1, 1),\n",
       "  datetime.date(2015, 7, 31)),\n",
       " ('yuri13',\n",
       "  'jong',\n",
       "  'cat',\n",
       "  'f',\n",
       "  datetime.date(2014, 1, 1),\n",
       "  datetime.date(2015, 7, 31)))"
      ]
     },
     "execution_count": 103,
     "metadata": {},
     "output_type": "execute_result"
    }
   ],
   "source": [
    "cur.fetchall()"
   ]
  },
  {
   "cell_type": "code",
   "execution_count": 104,
   "metadata": {
    "collapsed": false
   },
   "outputs": [
    {
     "data": {
      "text/plain": [
       "('yuri10',\n",
       " 'jong',\n",
       " 'cat',\n",
       " 'f',\n",
       " datetime.date(2014, 1, 1),\n",
       " datetime.date(2015, 7, 31))"
      ]
     },
     "execution_count": 104,
     "metadata": {},
     "output_type": "execute_result"
    }
   ],
   "source": [
    "cur.execute(\"select * from pet\")\n",
    "cur.fetchone()"
   ]
  },
  {
   "cell_type": "code",
   "execution_count": 105,
   "metadata": {
    "collapsed": false
   },
   "outputs": [
    {
     "data": {
      "text/plain": [
       "(('yuri10',\n",
       "  'jong',\n",
       "  'cat',\n",
       "  'f',\n",
       "  datetime.date(2014, 1, 1),\n",
       "  datetime.date(2015, 7, 31)),\n",
       " ('yuri11',\n",
       "  'jong',\n",
       "  'cat',\n",
       "  'f',\n",
       "  datetime.date(2014, 1, 1),\n",
       "  datetime.date(2015, 7, 31)),\n",
       " ('yuri12',\n",
       "  'jong',\n",
       "  'cat',\n",
       "  'f',\n",
       "  datetime.date(2014, 1, 1),\n",
       "  datetime.date(2015, 7, 31)))"
      ]
     },
     "execution_count": 105,
     "metadata": {},
     "output_type": "execute_result"
    }
   ],
   "source": [
    "cur.execute(\"select * from pet\")\n",
    "cur.fetchmany(3)"
   ]
  },
  {
   "cell_type": "code",
   "execution_count": 82,
   "metadata": {
    "collapsed": true
   },
   "outputs": [],
   "source": [
    "con.close()"
   ]
  },
  {
   "cell_type": "markdown",
   "metadata": {},
   "source": [
    "# execute many"
   ]
  },
  {
   "cell_type": "code",
   "execution_count": 125,
   "metadata": {
    "collapsed": true
   },
   "outputs": [],
   "source": [
    "con = mdb.connect('localhost', 'root', '123', 'acorn')\n",
    "cur = con.cursor()"
   ]
  },
  {
   "cell_type": "code",
   "execution_count": 130,
   "metadata": {
    "collapsed": false
   },
   "outputs": [
    {
     "data": {
      "text/plain": [
       "4L"
      ]
     },
     "execution_count": 130,
     "metadata": {},
     "output_type": "execute_result"
    }
   ],
   "source": [
    "#con = mdb.connect('localhost', 'root', '123', 'acorn')\n",
    "#cur.execute('create table pet(name varchar(20), owner varchar(20), species varchar(20), sex char(1), birth date, death date)')\n",
    "#print cur.description\n",
    "sql = \"insert into pet(name, owner, species, sex, birth, death) values (%s, %s, %s, %s, %s, %s)\"\n",
    "#cur.execute(sql, ('yuri10', 'jong', 'cat', 'f', '2014-1-1', '2015-7-31'))\n",
    "cur.executemany(sql, [('yuri18', 'jong', 'cat', 'f', '2014-1-1', '2015-7-31'), \n",
    "                      ('yuri19', 'jong', 'cat', 'f', '2014-1-1', '2015-7-31'),\n",
    "                      ('yuri20', 'jong', 'cat', 'f', '2014-1-1', '2015-7-31'),\n",
    "                      ('yuri21', 'jong', 'cat', 'f', '2014-1-1', '2015-7-31')])"
   ]
  },
  {
   "cell_type": "code",
   "execution_count": 131,
   "metadata": {
    "collapsed": true
   },
   "outputs": [],
   "source": [
    "con.commit()"
   ]
  },
  {
   "cell_type": "code",
   "execution_count": 132,
   "metadata": {
    "collapsed": false
   },
   "outputs": [
    {
     "data": {
      "text/plain": [
       "(('yuri10',\n",
       "  'jong',\n",
       "  'cat',\n",
       "  'f',\n",
       "  datetime.date(2014, 1, 1),\n",
       "  datetime.date(2015, 7, 31)),\n",
       " ('yuri11',\n",
       "  'jong',\n",
       "  'cat',\n",
       "  'f',\n",
       "  datetime.date(2014, 1, 1),\n",
       "  datetime.date(2015, 7, 31)),\n",
       " ('yuri12',\n",
       "  'jong',\n",
       "  'cat',\n",
       "  'f',\n",
       "  datetime.date(2014, 1, 1),\n",
       "  datetime.date(2015, 7, 31)),\n",
       " ('yuri13',\n",
       "  'jong',\n",
       "  'cat',\n",
       "  'f',\n",
       "  datetime.date(2014, 1, 1),\n",
       "  datetime.date(2015, 7, 31)),\n",
       " ('yuri14',\n",
       "  'jong',\n",
       "  'cat',\n",
       "  'f',\n",
       "  datetime.date(2014, 1, 1),\n",
       "  datetime.date(2015, 7, 31)),\n",
       " ('yuri15',\n",
       "  'jong',\n",
       "  'cat',\n",
       "  'f',\n",
       "  datetime.date(2014, 1, 1),\n",
       "  datetime.date(2015, 7, 31)),\n",
       " ('yuri16',\n",
       "  'jong',\n",
       "  'cat',\n",
       "  'f',\n",
       "  datetime.date(2014, 1, 1),\n",
       "  datetime.date(2015, 7, 31)),\n",
       " ('yuri17',\n",
       "  'jong',\n",
       "  'cat',\n",
       "  'f',\n",
       "  datetime.date(2014, 1, 1),\n",
       "  datetime.date(2015, 7, 31)),\n",
       " ('yuri14',\n",
       "  'jong',\n",
       "  'cat',\n",
       "  'f',\n",
       "  datetime.date(2014, 1, 1),\n",
       "  datetime.date(2015, 7, 31)),\n",
       " ('yuri15',\n",
       "  'jong',\n",
       "  'cat',\n",
       "  'f',\n",
       "  datetime.date(2014, 1, 1),\n",
       "  datetime.date(2015, 7, 31)),\n",
       " ('yuri16',\n",
       "  'jong',\n",
       "  'cat',\n",
       "  'f',\n",
       "  datetime.date(2014, 1, 1),\n",
       "  datetime.date(2015, 7, 31)),\n",
       " ('yuri17',\n",
       "  'jong',\n",
       "  'cat',\n",
       "  'f',\n",
       "  datetime.date(2014, 1, 1),\n",
       "  datetime.date(2015, 7, 31)),\n",
       " ('yuri14',\n",
       "  'jong',\n",
       "  'cat',\n",
       "  'f',\n",
       "  datetime.date(2014, 1, 1),\n",
       "  datetime.date(2015, 7, 31)),\n",
       " ('yuri15',\n",
       "  'jong',\n",
       "  'cat',\n",
       "  'f',\n",
       "  datetime.date(2014, 1, 1),\n",
       "  datetime.date(2015, 7, 31)),\n",
       " ('yuri16',\n",
       "  'jong',\n",
       "  'cat',\n",
       "  'f',\n",
       "  datetime.date(2014, 1, 1),\n",
       "  datetime.date(2015, 7, 31)),\n",
       " ('yuri17',\n",
       "  'jong',\n",
       "  'cat',\n",
       "  'f',\n",
       "  datetime.date(2014, 1, 1),\n",
       "  datetime.date(2015, 7, 31)),\n",
       " ('yuri18',\n",
       "  'jong',\n",
       "  'cat',\n",
       "  'f',\n",
       "  datetime.date(2014, 1, 1),\n",
       "  datetime.date(2015, 7, 31)),\n",
       " ('yuri19',\n",
       "  'jong',\n",
       "  'cat',\n",
       "  'f',\n",
       "  datetime.date(2014, 1, 1),\n",
       "  datetime.date(2015, 7, 31)),\n",
       " ('yuri20',\n",
       "  'jong',\n",
       "  'cat',\n",
       "  'f',\n",
       "  datetime.date(2014, 1, 1),\n",
       "  datetime.date(2015, 7, 31)),\n",
       " ('yuri21',\n",
       "  'jong',\n",
       "  'cat',\n",
       "  'f',\n",
       "  datetime.date(2014, 1, 1),\n",
       "  datetime.date(2015, 7, 31)),\n",
       " ('yuri18',\n",
       "  'jong',\n",
       "  'cat',\n",
       "  'f',\n",
       "  datetime.date(2014, 1, 1),\n",
       "  datetime.date(2015, 7, 31)),\n",
       " ('yuri19',\n",
       "  'jong',\n",
       "  'cat',\n",
       "  'f',\n",
       "  datetime.date(2014, 1, 1),\n",
       "  datetime.date(2015, 7, 31)),\n",
       " ('yuri20',\n",
       "  'jong',\n",
       "  'cat',\n",
       "  'f',\n",
       "  datetime.date(2014, 1, 1),\n",
       "  datetime.date(2015, 7, 31)),\n",
       " ('yuri21',\n",
       "  'jong',\n",
       "  'cat',\n",
       "  'f',\n",
       "  datetime.date(2014, 1, 1),\n",
       "  datetime.date(2015, 7, 31)))"
      ]
     },
     "execution_count": 132,
     "metadata": {},
     "output_type": "execute_result"
    }
   ],
   "source": [
    "cur.execute(\"select * from pet\")\n",
    "cur.fetchall()"
   ]
  }
 ],
 "metadata": {
  "kernelspec": {
   "display_name": "Python 2",
   "language": "python",
   "name": "python2"
  },
  "language_info": {
   "codemirror_mode": {
    "name": "ipython",
    "version": 2
   },
   "file_extension": ".py",
   "mimetype": "text/x-python",
   "name": "python",
   "nbconvert_exporter": "python",
   "pygments_lexer": "ipython2",
   "version": "2.7.12"
  }
 },
 "nbformat": 4,
 "nbformat_minor": 2
}
