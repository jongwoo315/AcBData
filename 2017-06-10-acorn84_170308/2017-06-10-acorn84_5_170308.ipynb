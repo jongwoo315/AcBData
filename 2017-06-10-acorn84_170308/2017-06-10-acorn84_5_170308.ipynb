{
 "cells": [
  {
   "cell_type": "raw",
   "metadata": {},
   "source": [
    "원래 ipynb 제목\n",
    "6. 테이블parser.ipynb"
   ]
  },
  {
   "cell_type": "markdown",
   "metadata": {},
   "source": [
    "http://srome.github.io/Parsing-HTML-Tables-in-Python-with-BeautifulSoup-and-pandas/  \n",
    "https://www.w3schools.com/colors/colors_names.asp"
   ]
  },
  {
   "cell_type": "code",
   "execution_count": 3,
   "metadata": {},
   "outputs": [],
   "source": [
    "import requests\n",
    "import pandas as pd\n",
    "from bs4 import BeautifulSoup"
   ]
  },
  {
   "cell_type": "code",
   "execution_count": 5,
   "metadata": {},
   "outputs": [],
   "source": [
    "class HTMLTableParser:\n",
    "    def parse_url(self, url):\n",
    "        response = requests.get(url)\n",
    "        soup = BeautifulSoup(response.text, 'lxml')\n",
    "        return [(table('id'), self.parse_html_table(table)) for table in soup.find_all('table')]\n",
    "    def parse_html_table(self, table):\n",
    "        n_columns = 0\n",
    "        n_rows = 0\n",
    "        column_names = []\n",
    "        for row in table.find_all('tr'):\n",
    "            td_tags = row.find_all('td')\n",
    "            if len(td_tags) > 0:\n",
    "                n_rows += 1\n",
    "                if n_columns == 0:\n",
    "                    n_columns = len(td_tags)\n",
    "            th_tags = row.find_all('th')\n",
    "            if len(th_tags) > 0 and len(column_names) == 0:\n",
    "                for th in th_tags:\n",
    "                    column_names.append(th.get_text())\n",
    "        if len(column_names) > 0 and len(column_names) != n_columns:\n",
    "            raise Exception('Column titles do not match the number of columns')\n",
    "\n",
    "        columns = column_names if len(column_names) > 0 else range(0, n_columns)\n",
    "        df = pd.DataFrame(columns=columns, index=range(0, n_rows))\n",
    "        row_maker = 0\n",
    "        for row in table.find_all('tr'):\n",
    "            column_maker = 0\n",
    "            columns = row.find_all('td')\n",
    "            for column in columns:\n",
    "                df.iat[row_maker, column_maker] = column.get_text()\n",
    "                column_maker += 1\n",
    "            if len(columns) > 0:\n",
    "                row_maker += 1\n",
    "        for col in df:\n",
    "                try:\n",
    "                    df[col] = df[col].astype(float)\n",
    "                except ValueError:\n",
    "                    pass\n",
    "            \n",
    "        return df    "
   ]
  },
  {
   "cell_type": "code",
   "execution_count": 19,
   "metadata": {},
   "outputs": [
    {
     "data": {
      "text/html": [
       "<div>\n",
       "<table border=\"1\" class=\"dataframe\">\n",
       "  <thead>\n",
       "    <tr style=\"text-align: right;\">\n",
       "      <th></th>\n",
       "      <th>Color Name</th>\n",
       "      <th>HEX</th>\n",
       "      <th>Color</th>\n",
       "      <th>Shades</th>\n",
       "      <th>Mix</th>\n",
       "    </tr>\n",
       "  </thead>\n",
       "  <tbody>\n",
       "    <tr>\n",
       "      <th>0</th>\n",
       "      <td>AliceBlue</td>\n",
       "      <td>#F0F8FF</td>\n",
       "      <td></td>\n",
       "      <td>Shades</td>\n",
       "      <td>Mix</td>\n",
       "    </tr>\n",
       "    <tr>\n",
       "      <th>1</th>\n",
       "      <td>AntiqueWhite</td>\n",
       "      <td>#FAEBD7</td>\n",
       "      <td></td>\n",
       "      <td>Shades</td>\n",
       "      <td>Mix</td>\n",
       "    </tr>\n",
       "    <tr>\n",
       "      <th>2</th>\n",
       "      <td>Aqua</td>\n",
       "      <td>#00FFFF</td>\n",
       "      <td></td>\n",
       "      <td>Shades</td>\n",
       "      <td>Mix</td>\n",
       "    </tr>\n",
       "    <tr>\n",
       "      <th>3</th>\n",
       "      <td>Aquamarine</td>\n",
       "      <td>#7FFFD4</td>\n",
       "      <td></td>\n",
       "      <td>Shades</td>\n",
       "      <td>Mix</td>\n",
       "    </tr>\n",
       "    <tr>\n",
       "      <th>4</th>\n",
       "      <td>Azure</td>\n",
       "      <td>#F0FFFF</td>\n",
       "      <td></td>\n",
       "      <td>Shades</td>\n",
       "      <td>Mix</td>\n",
       "    </tr>\n",
       "  </tbody>\n",
       "</table>\n",
       "</div>"
      ],
      "text/plain": [
       "      Color Name      HEX Color  Shades  Mix\n",
       "0     AliceBlue   #F0F8FF        Shades  Mix\n",
       "1  AntiqueWhite   #FAEBD7        Shades  Mix\n",
       "2          Aqua   #00FFFF        Shades  Mix\n",
       "3    Aquamarine   #7FFFD4        Shades  Mix\n",
       "4         Azure   #F0FFFF        Shades  Mix"
      ]
     },
     "execution_count": 19,
     "metadata": {},
     "output_type": "execute_result"
    }
   ],
   "source": [
    "hp = HTMLTableParser()\n",
    "table = hp.parse_url('https://www.w3schools.com/colors/colors_names.asp')[0][1]\n",
    "table.head()"
   ]
  },
  {
   "cell_type": "code",
   "execution_count": 31,
   "metadata": {},
   "outputs": [
    {
     "data": {
      "text/html": [
       "<div>\n",
       "<table border=\"1\" class=\"dataframe\">\n",
       "  <thead>\n",
       "    <tr style=\"text-align: right;\">\n",
       "      <th></th>\n",
       "      <th>0</th>\n",
       "      <th>1</th>\n",
       "      <th>2</th>\n",
       "    </tr>\n",
       "  </thead>\n",
       "  <tbody>\n",
       "    <tr>\n",
       "      <th>0</th>\n",
       "      <td>\\n\\n랭킹뉴스\\n\\n많이 본 뉴스 선택됨\\n주간 클릭 \\n주간댓글 \\n주간 검색어...</td>\n",
       "      <td>\\n\\n\\r\\n\\tif (nil) {\\r\\n\\t\\tnil.init('naver_ne...</td>\n",
       "      <td>\\n\\n\\n\\n\\n\\n가장 많이 본 뉴스\\n\\n\\n\\n종합\\n정치\\n경제\\n사회\\n...</td>\n",
       "    </tr>\n",
       "  </tbody>\n",
       "</table>\n",
       "</div>"
      ],
      "text/plain": [
       "                                                   0  \\\n",
       "0  \\n\\n랭킹뉴스\\n\\n많이 본 뉴스 선택됨\\n주간 클릭 \\n주간댓글 \\n주간 검색어...   \n",
       "\n",
       "                                                   1  \\\n",
       "0  \\n\\n\\r\\n\\tif (nil) {\\r\\n\\t\\tnil.init('naver_ne...   \n",
       "\n",
       "                                                   2  \n",
       "0  \\n\\n\\n\\n\\n\\n가장 많이 본 뉴스\\n\\n\\n\\n종합\\n정치\\n경제\\n사회\\n...  "
      ]
     },
     "execution_count": 31,
     "metadata": {},
     "output_type": "execute_result"
    }
   ],
   "source": [
    "import requests\n",
    "url = 'http://news.naver.com/main/ranking/read.nhn?mid=etc&sid1=111&rankingType=popular_day&oid=421&aid=0002598201&date=20170308'\n",
    "#url1 = 'https://docs.oracle.com/javase/7/docs/api/'\n",
    "hp = HTMLTableParser()\n",
    "table = hp.parse_url(url)[0][1]\n",
    "table.head()"
   ]
  }
 ],
 "metadata": {
  "kernelspec": {
   "display_name": "Python 2",
   "language": "python",
   "name": "python2"
  },
  "language_info": {
   "codemirror_mode": {
    "name": "ipython",
    "version": 2
   },
   "file_extension": ".py",
   "mimetype": "text/x-python",
   "name": "python",
   "nbconvert_exporter": "python",
   "pygments_lexer": "ipython2",
   "version": "2.7.12"
  }
 },
 "nbformat": 4,
 "nbformat_minor": 2
}
