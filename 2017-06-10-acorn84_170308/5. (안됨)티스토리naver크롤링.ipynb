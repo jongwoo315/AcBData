{
 "cells": [
  {
   "cell_type": "code",
   "execution_count": null,
   "metadata": {},
   "outputs": [],
   "source": [
    "원래 ipynb 제목"
   ]
  },
  {
   "cell_type": "markdown",
   "metadata": {},
   "source": [
    "http://dataanalytics.tistory.com/13 # 뉴스  \n",
    "http://dataanalytics.tistory.com/14 # 카페"
   ]
  },
  {
   "cell_type": "code",
   "execution_count": null,
   "metadata": {},
   "outputs": [],
   "source": [
    "import urllib\n",
    "from bs4 import BeautifulSoup\n",
    "\n",
    "defaultURL = 'https://openapi.naver.com/v1/search/news.xml?'\n",
    "sort = '&sort=sim'\n",
    "start = '&start=1'\n",
    "display = '&display=100'\n",
    "query = '&query='+urllib.quote_plus(str(input(\"검색어: \")))\n",
    "# python3\n",
    "#query = '&query='+urllib.parse.quote_plus(str(input(\"검색어: \")))\n",
    "\n",
    "fullURL = defaultURL + sort + start + display + query\n",
    "\n",
    "print(fullURL)\n",
    "\n",
    "file = open(\"/home/jw/Documents/[JUPYTER_WORKSPACE]/acorn수업/0308class_day12_svc/news.txt\",\"w\" 'utf-8')\n",
    "\n",
    "headers = {\n",
    "    'Host' : 'openapi.naver.com' ,\n",
    "    'User-Agent' : 'curl/7.43.0',\n",
    "    'Accept' : '*/*',\n",
    "    'Content-Type' : 'application/xml',\n",
    "    'X-Naver-Client-Id' : 'Naver Client Id',\n",
    "    'X-Naver-Client-Secret' : 'Naver Client Secret '\n",
    "    }\n",
    "\n",
    "#req = urllib.request.Request(fullURL, headers=headers)\n",
    "#f = urllib.request.urlopen(req)\n",
    "req = urllib2.urlopen(fullURL, headers=headers)\n",
    "f = urllib.request.urlopen(req)\n",
    "\n",
    "resultXML = f.read( )\n",
    "xmlsoup = BeautifulSoup(resultXML,'html.parser')\n",
    "\n",
    "items = xmlsoup.find_all('item')\n",
    "\n",
    "for item in items :\n",
    "     file.write('-----------------------------------------\\n')\n",
    "     file.write('뉴스제목 : ' + item.title.get_text(strip=True) + '\\n')\n",
    "     file.write('요약내용 : ' + item.description.get_text(strip=True) + '\\n')\n",
    "     file.write('\\n')\n",
    "\n",
    "file.close( )"
   ]
  },
  {
   "cell_type": "code",
   "execution_count": null,
   "metadata": {},
   "outputs": [],
   "source": [
    "print fullURL"
   ]
  },
  {
   "cell_type": "code",
   "execution_count": null,
   "metadata": {},
   "outputs": [],
   "source": []
  },
  {
   "cell_type": "code",
   "execution_count": null,
   "metadata": {},
   "outputs": [],
   "source": []
  },
  {
   "cell_type": "code",
   "execution_count": null,
   "metadata": {},
   "outputs": [],
   "source": []
  },
  {
   "cell_type": "code",
   "execution_count": null,
   "metadata": {},
   "outputs": [],
   "source": []
  }
 ],
 "metadata": {
  "kernelspec": {
   "display_name": "Python 2",
   "language": "python",
   "name": "python2"
  },
  "language_info": {
   "codemirror_mode": {
    "name": "ipython",
    "version": 2
   },
   "file_extension": ".py",
   "mimetype": "text/x-python",
   "name": "python",
   "nbconvert_exporter": "python",
   "pygments_lexer": "ipython2",
   "version": "2.7.12"
  }
 },
 "nbformat": 4,
 "nbformat_minor": 2
}
