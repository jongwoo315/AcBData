{
 "cells": [
  {
   "cell_type": "raw",
   "metadata": {},
   "source": [
    "원래 ipynb 제목\n",
    "ex_from_internet.ipynb"
   ]
  },
  {
   "cell_type": "code",
   "execution_count": 1,
   "metadata": {},
   "outputs": [
    {
     "name": "stdout",
     "output_type": "stream",
     "text": [
      "WARNING:tensorflow:From <ipython-input-1-cfc83b8abdf7>:68: initialize_all_variables (from tensorflow.python.ops.variables) is deprecated and will be removed after 2017-03-02.\n",
      "Instructions for updating:\n",
      "Use `tf.global_variables_initializer` instead.\n",
      "Iteration: 0001 cost= 0.193798304 W= 0.52833 b= -0.109066\n",
      "Iteration: 0021 cost= 0.135769054 W= 0.807193 b= -0.0160484\n",
      "Iteration: 0041 cost= 0.134560347 W= 0.844438 b= -0.00363103\n",
      "Iteration: 0061 cost= 0.134515598 W= 0.849413 b= -0.00197339\n",
      "Iteration: 0081 cost= 0.134511694 W= 0.850077 b= -0.0017521\n",
      "Iteration: 0101 cost= 0.134511217 W= 0.850166 b= -0.00172257\n",
      "Iteration: 0121 cost= 0.134511173 W= 0.850178 b= -0.00171862\n",
      "Iteration: 0141 cost= 0.134511143 W= 0.850179 b= -0.00171809\n",
      "Iteration: 0161 cost= 0.134511143 W= 0.850179 b= -0.00171803\n",
      "Iteration: 0181 cost= 0.134511158 W= 0.850179 b= -0.00171802\n",
      "Tuning completed: cost= 0.134511158 W= 0.850179 b= -0.00171802\n",
      "Testing data cost: 0.00789466\n"
     ]
    },
    {
     "data": {
      "image/png": "[encoded data removed]",
      "text/plain": [
       "<matplotlib.figure.Figure at 0x7f58d86ecf60>"
      ]
     },
     "metadata": {},
     "output_type": "display_data"
    },
    {
     "data": {
      "image/png": "[encoded data removed]",
      "text/plain": [
       "<matplotlib.figure.Figure at 0x7f58aaa6b9b0>"
      ]
     },
     "metadata": {},
     "output_type": "display_data"
    }
   ],
   "source": [
    "#! /usr/bin/python3\n",
    "import tensorflow as tf\n",
    "import numpy\n",
    "import matplotlib.pyplot as plt\n",
    "\n",
    "# Train a data set\n",
    "\n",
    "size_data = numpy.asarray([2104, 1600, 2400, 1416, 3000, 1985, 1534, 1427,\n",
    "                           1380, 1494, 1940, 2000, 1890, 4478, 1268, 2300,\n",
    "                           1320, 1236, 2609, 3031, 1767, 1888, 1604, 1962,\n",
    "                           3890, 1100, 1458, 2526, 2200, 2637, 1839, 1000,\n",
    "                           2040, 3137, 1811, 1437, 1239, 2132, 4215, 2162,\n",
    "                           1664, 2238, 2567, 1200, 852, 1852, 1203])\n",
    "price_data = numpy.asarray([399900, 329900, 369000, 232000, 539900, 299900, 314900, 198999,\n",
    "                            212000, 242500, 239999, 347000, 329999, 699900, 259900, 449900,\n",
    "                            299900, 199900, 499998, 599000, 252900, 255000, 242900, 259900,\n",
    "                            573900, 249900, 464500, 469000, 475000, 299900, 349900, 169900,\n",
    "                            314900, 579900, 285900, 249900, 229900, 345000, 549000, 287000,\n",
    "                            368500, 329900, 314000, 299000, 179900, 299900, 239500])\n",
    "\n",
    "# Test a data set\n",
    "\n",
    "size_data_test = numpy.asarray([1600, 1494, 1236, 1100, 3137, 2238])\n",
    "price_data_test = numpy.asarray([329900, 242500, 199900, 249900, 579900, 329900])\n",
    "\n",
    "\n",
    "def normalize(array):\n",
    "    return (array - array.mean()) / array.std()\n",
    "\n",
    "\n",
    "# Normalize a data set\n",
    "\n",
    "size_data_n = normalize(size_data)\n",
    "price_data_n = normalize(price_data)\n",
    "\n",
    "size_data_test_n = normalize(size_data_test)\n",
    "price_data_test_n = normalize(price_data_test)\n",
    "\n",
    "# Display a plot\n",
    "plt.plot(size_data, price_data, 'ro', label='Samples data')\n",
    "plt.legend()\n",
    "plt.draw()\n",
    "\n",
    "samples_number = price_data_n.size\n",
    "\n",
    "# TF graph input\n",
    "X = tf.placeholder(\"float\")\n",
    "Y = tf.placeholder(\"float\")\n",
    "\n",
    "# Create a model\n",
    "\n",
    "# Set model weights\n",
    "W = tf.Variable(numpy.random.randn(), name=\"weight\")\n",
    "b = tf.Variable(numpy.random.randn(), name=\"bias\")\n",
    "\n",
    "# Set parameters\n",
    "learning_rate = 0.1\n",
    "training_iteration = 200\n",
    "\n",
    "# Construct a linear model\n",
    "model = tf.add(tf.multiply(X, W), b)\n",
    "\n",
    "# Minimize squared errors\n",
    "cost_function = tf.reduce_sum(tf.pow(model - Y, 2)) / (2 * samples_number)  # L2 loss\n",
    "optimizer = tf.train.GradientDescentOptimizer(learning_rate).minimize(cost_function)  # Gradient descent\n",
    "\n",
    "# Initialize variables\n",
    "init = tf.initialize_all_variables()\n",
    "\n",
    "# Launch a graph\n",
    "with tf.Session() as sess:\n",
    "    sess.run(init)\n",
    "\n",
    "    display_step = 20\n",
    "    # Fit all training data\n",
    "    for iteration in range(training_iteration):\n",
    "        for (x, y) in zip(size_data_n, price_data_n):\n",
    "            sess.run(optimizer, feed_dict={X: x, Y: y})\n",
    "\n",
    "        # Display logs per iteration step\n",
    "        if iteration % display_step == 0:\n",
    "            print (\"Iteration:\", '%04d' % (iteration + 1), \"cost=\", \"{:.9f}\".format(\n",
    "                sess.run(cost_function, feed_dict={X: size_data_n, Y: price_data_n})), \\\n",
    "                \"W=\", sess.run(W), \"b=\", sess.run(b))\n",
    "\n",
    "    tuning_cost = sess.run(cost_function, feed_dict={X: normalize(size_data_n), Y: normalize(price_data_n)})\n",
    "\n",
    "    print (\"Tuning completed:\", \"cost=\", \"{:.9f}\".format(tuning_cost), \"W=\", sess.run(W), \"b=\", sess.run(b))\n",
    "\n",
    "    # Validate a tuning model\n",
    "\n",
    "    testing_cost = sess.run(cost_function, feed_dict={X: size_data_test_n, Y: price_data_test_n})\n",
    "\n",
    "    print (\"Testing data cost:\", testing_cost)\n",
    "\n",
    "    # Display a plot\n",
    "    plt.figure()\n",
    "    plt.plot(size_data_n, price_data_n, 'ro', label='Normalized samples')\n",
    "    plt.plot(size_data_test_n, price_data_test_n, 'go', label='Normalized testing samples')\n",
    "    plt.plot(size_data_n, sess.run(W) * size_data_n + sess.run(b), label='Fitted line')\n",
    "    plt.legend()\n",
    "\n",
    "    plt.show()"
   ]
  }
 ],
 "metadata": {
  "kernelspec": {
   "display_name": "Python 3",
   "language": "python",
   "name": "python3"
  },
  "language_info": {
   "codemirror_mode": {
    "name": "ipython",
    "version": 3
   },
   "file_extension": ".py",
   "mimetype": "text/x-python",
   "name": "python",
   "nbconvert_exporter": "python",
   "pygments_lexer": "ipython3",
   "version": "3.5.2"
  }
 },
 "nbformat": 4,
 "nbformat_minor": 2
}
