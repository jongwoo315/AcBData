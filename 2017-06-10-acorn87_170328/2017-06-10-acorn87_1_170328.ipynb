{
 "cells": [
  {
   "cell_type": "raw",
   "metadata": {},
   "source": [
    "원래 ipynb 제목\n",
    "ex_from_class.ipynb"
   ]
  },
  {
   "cell_type": "code",
   "execution_count": 2,
   "metadata": {},
   "outputs": [
    {
     "name": "stdout",
     "output_type": "stream",
     "text": [
      "Tensor(\"a_shape_1:0\", shape=(0,), dtype=int32)\n",
      "23\n"
     ]
    }
   ],
   "source": [
    "#! /usr/bin/python3\n",
    "import tensorflow as tf\n",
    "\n",
    "a = tf.constant(5, name='input_a')\n",
    "b = tf.constant(3, name='input_b')\n",
    "c = tf.multiply(a, b, name='mul_c')  # tf.multiply, tf.subtract and tf.negative\n",
    "d = tf.add(a, b, name='add_d')\n",
    "e = tf.add(c, d, name='add_e')\n",
    "shape = tf.shape(a, name='a_shape')\n",
    "\n",
    "print (shape)\n",
    "#print (sess.run(shape))  # 텐서 객체의 값을 보고 싶을 때는 sess.run()을 이용\n",
    "\n",
    "sess = tf.Session()\n",
    "sess.run(e)\n",
    "sess.run(c)\n",
    "print (sess.run(e))  # numpy형 : tensor type은 1:1로 matching됨\n",
    "\n",
    "writer = tf.summary.FileWriter('/tmp/my_graph', sess.graph)\n",
    "writer = tf.summary.FileWriter('/tmp/my_graph2', graph=sess.graph)"
   ]
  }
 ],
 "metadata": {
  "kernelspec": {
   "display_name": "Python 3",
   "language": "python",
   "name": "python3"
  },
  "language_info": {
   "codemirror_mode": {
    "name": "ipython",
    "version": 3
   },
   "file_extension": ".py",
   "mimetype": "text/x-python",
   "name": "python",
   "nbconvert_exporter": "python",
   "pygments_lexer": "ipython3",
   "version": "3.5.2"
  }
 },
 "nbformat": 4,
 "nbformat_minor": 2
}
