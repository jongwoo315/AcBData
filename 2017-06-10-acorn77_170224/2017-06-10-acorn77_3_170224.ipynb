{
 "cells": [
  {
   "cell_type": "code",
   "execution_count": 74,
   "metadata": {
    "collapsed": true
   },
   "outputs": [],
   "source": [
    "import pymongo as pym"
   ]
  },
  {
   "cell_type": "code",
   "execution_count": 75,
   "metadata": {
    "collapsed": true
   },
   "outputs": [],
   "source": [
    "client = pym.MongoClient('localhost', 27017)"
   ]
  },
  {
   "cell_type": "code",
   "execution_count": 76,
   "metadata": {
    "collapsed": true
   },
   "outputs": [],
   "source": [
    "db = client.test"
   ]
  },
  {
   "cell_type": "code",
   "execution_count": 70,
   "metadata": {
    "collapsed": true
   },
   "outputs": [],
   "source": [
    "import datetime"
   ]
  },
  {
   "cell_type": "code",
   "execution_count": 79,
   "metadata": {
    "collapsed": false
   },
   "outputs": [],
   "source": [
    "post = {'author':'mike', 'text':'my first blog post!', \n",
    "        'tags':['mongodb', 'python', 'pymongo'],\n",
    "       'date':datetime.datetime.utcnow()}"
   ]
  },
  {
   "cell_type": "code",
   "execution_count": 78,
   "metadata": {
    "collapsed": true
   },
   "outputs": [],
   "source": [
    "post2 = {'author':'kim', 'text':'second blog post', \n",
    "        'tags':['mysql', 'python', 'mongod'],\n",
    "       'date':datetime.datetime.utcnow()}"
   ]
  },
  {
   "cell_type": "code",
   "execution_count": 80,
   "metadata": {
    "collapsed": false
   },
   "outputs": [
    {
     "data": {
      "text/plain": [
       "True"
      ]
     },
     "execution_count": 80,
     "metadata": {},
     "output_type": "execute_result"
    }
   ],
   "source": [
    "isinstance(post, dict)"
   ]
  },
  {
   "cell_type": "code",
   "execution_count": 86,
   "metadata": {
    "collapsed": true
   },
   "outputs": [],
   "source": [
    "# posts 콜렉션 삭제\n",
    "db.posts.drop()"
   ]
  },
  {
   "cell_type": "code",
   "execution_count": 85,
   "metadata": {
    "collapsed": true
   },
   "outputs": [],
   "source": [
    "collection_posts = db.posts"
   ]
  },
  {
   "cell_type": "code",
   "execution_count": 87,
   "metadata": {
    "collapsed": false
   },
   "outputs": [
    {
     "data": {
      "text/plain": [
       "<pymongo.results.InsertOneResult at 0x7fd8aed3eeb0>"
      ]
     },
     "execution_count": 87,
     "metadata": {},
     "output_type": "execute_result"
    }
   ],
   "source": [
    "collection_posts.insert_one(post)"
   ]
  },
  {
   "cell_type": "code",
   "execution_count": 88,
   "metadata": {
    "collapsed": false
   },
   "outputs": [
    {
     "data": {
      "text/plain": [
       "<pymongo.results.InsertOneResult at 0x7fd8aed3ee60>"
      ]
     },
     "execution_count": 88,
     "metadata": {},
     "output_type": "execute_result"
    }
   ],
   "source": [
    "collection_posts.insert_one(post2)"
   ]
  },
  {
   "cell_type": "code",
   "execution_count": 89,
   "metadata": {
    "collapsed": false
   },
   "outputs": [
    {
     "data": {
      "text/plain": [
       "{u'_id': ObjectId('58af95e33753321118ef76b8'),\n",
       " u'author': u'mike',\n",
       " u'date': datetime.datetime(2017, 2, 24, 2, 9, 26, 5000),\n",
       " u'tags': [u'mongodb', u'python', u'pymongo'],\n",
       " u'text': u'my first blog post!'}"
      ]
     },
     "execution_count": 89,
     "metadata": {},
     "output_type": "execute_result"
    }
   ],
   "source": [
    "collection_posts.find_one()"
   ]
  },
  {
   "cell_type": "code",
   "execution_count": 84,
   "metadata": {
    "collapsed": false
   },
   "outputs": [
    {
     "data": {
      "text/plain": [
       "[u'system.js', u'test_stored', u'posts', u'collection_copy', u'abc']"
      ]
     },
     "execution_count": 84,
     "metadata": {},
     "output_type": "execute_result"
    }
   ],
   "source": [
    "db.collection_names()"
   ]
  },
  {
   "cell_type": "code",
   "execution_count": 90,
   "metadata": {
    "collapsed": false
   },
   "outputs": [
    {
     "name": "stdout",
     "output_type": "stream",
     "text": [
      "{u'date': datetime.datetime(2017, 2, 24, 2, 9, 26, 5000), u'text': u'my first blog post!', u'_id': ObjectId('58af95e33753321118ef76b8'), u'author': u'mike', u'tags': [u'mongodb', u'python', u'pymongo']}\n",
      "{u'date': datetime.datetime(2017, 2, 24, 2, 9, 20, 636000), u'text': u'second blog post', u'_id': ObjectId('58af95e93753321118ef76b9'), u'author': u'kim', u'tags': [u'mysql', u'python', u'mongod']}\n"
     ]
    }
   ],
   "source": [
    "for a in collection_posts.find():\n",
    "    print a"
   ]
  },
  {
   "cell_type": "code",
   "execution_count": 91,
   "metadata": {
    "collapsed": false
   },
   "outputs": [],
   "source": [
    "import copy"
   ]
  },
  {
   "cell_type": "code",
   "execution_count": 92,
   "metadata": {
    "collapsed": false
   },
   "outputs": [
    {
     "data": {
      "text/plain": [
       "{u'_id': ObjectId('58af95e33753321118ef76b8'),\n",
       " u'author': u'mike',\n",
       " u'date': datetime.datetime(2017, 2, 24, 2, 9, 26, 5000),\n",
       " u'tags': [u'mongodb', u'python', u'pymongo'],\n",
       " u'text': u'my first blog post!'}"
      ]
     },
     "execution_count": 92,
     "metadata": {},
     "output_type": "execute_result"
    }
   ],
   "source": [
    "old_author = collection_posts.find_one({'author':'mike'})\n",
    "new_author = copy.deepcopy(old_author)\n",
    "new_author"
   ]
  },
  {
   "cell_type": "code",
   "execution_count": 93,
   "metadata": {
    "collapsed": false
   },
   "outputs": [
    {
     "data": {
      "text/plain": [
       "{u'_id': ObjectId('58af95e33753321118ef76b8'),\n",
       " u'author': u'mike',\n",
       " u'date': datetime.datetime(2017, 2, 24, 2, 9, 26, 5000),\n",
       " u'tags': [u'mongodb', u'python', u'pymongo'],\n",
       " u'text': 'hahahahaha'}"
      ]
     },
     "execution_count": 93,
     "metadata": {},
     "output_type": "execute_result"
    }
   ],
   "source": [
    "# 데이터 변경\n",
    "new_author['text'] = 'hahahahaha'\n",
    "new_author"
   ]
  },
  {
   "cell_type": "code",
   "execution_count": 94,
   "metadata": {
    "collapsed": false
   },
   "outputs": [
    {
     "data": {
      "text/plain": [
       "<pymongo.results.UpdateResult at 0x7fd8aed3edc0>"
      ]
     },
     "execution_count": 94,
     "metadata": {},
     "output_type": "execute_result"
    }
   ],
   "source": [
    "# 데이터 업데이트\n",
    "collection_posts.update_one({'author':'mike'}, {'$set':{'tags':['abc'], \n",
    "                                             'text':'what', \n",
    "                                             'date':datetime.datetime.utcnow()\n",
    "                                            }\n",
    "                                    }\n",
    "                )\n",
    "# replace_one / update_one / update_many"
   ]
  },
  {
   "cell_type": "code",
   "execution_count": 95,
   "metadata": {
    "collapsed": false
   },
   "outputs": [
    {
     "name": "stdout",
     "output_type": "stream",
     "text": [
      "{u'date': datetime.datetime(2017, 2, 24, 2, 11, 27, 601000), u'text': u'what', u'_id': ObjectId('58af95e33753321118ef76b8'), u'author': u'mike', u'tags': [u'abc']}\n",
      "{u'date': datetime.datetime(2017, 2, 24, 2, 9, 20, 636000), u'text': u'second blog post', u'_id': ObjectId('58af95e93753321118ef76b9'), u'author': u'kim', u'tags': [u'mysql', u'python', u'mongod']}\n"
     ]
    }
   ],
   "source": [
    "for a in collection_posts.find():\n",
    "    print a"
   ]
  }
 ],
 "metadata": {
  "kernelspec": {
   "display_name": "Python 2",
   "language": "python",
   "name": "python2"
  },
  "language_info": {
   "codemirror_mode": {
    "name": "ipython",
    "version": 2
   },
   "file_extension": ".py",
   "mimetype": "text/x-python",
   "name": "python",
   "nbconvert_exporter": "python",
   "pygments_lexer": "ipython2",
   "version": "2.7.12"
  }
 },
 "nbformat": 4,
 "nbformat_minor": 2
}
