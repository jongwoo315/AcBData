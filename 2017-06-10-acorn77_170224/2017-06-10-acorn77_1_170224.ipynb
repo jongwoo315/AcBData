{
 "cells": [
  {
   "cell_type": "code",
   "execution_count": 2,
   "metadata": {
    "collapsed": true
   },
   "outputs": [],
   "source": [
    "import pymongo as pm"
   ]
  },
  {
   "cell_type": "code",
   "execution_count": 10,
   "metadata": {
    "collapsed": true
   },
   "outputs": [],
   "source": [
    "conn = pm.MongoClient('localhost', 27017)\n",
    "db = conn.test\n",
    "coll = db.users"
   ]
  },
  {
   "cell_type": "markdown",
   "metadata": {},
   "source": [
    "### insert"
   ]
  },
  {
   "cell_type": "code",
   "execution_count": 9,
   "metadata": {
    "collapsed": true
   },
   "outputs": [],
   "source": [
    "db.users.drop()"
   ]
  },
  {
   "cell_type": "code",
   "execution_count": 83,
   "metadata": {
    "collapsed": false
   },
   "outputs": [
    {
     "data": {
      "text/plain": [
       "<pymongo.results.DeleteResult at 0x7fc7258293c0>"
      ]
     },
     "execution_count": 83,
     "metadata": {},
     "output_type": "execute_result"
    }
   ],
   "source": [
    "coll.delete_one({'username':'janedoe'})"
   ]
  },
  {
   "cell_type": "code",
   "execution_count": 11,
   "metadata": {
    "collapsed": false
   },
   "outputs": [
    {
     "data": {
      "text/plain": [
       "<pymongo.results.InsertOneResult at 0x7f021273d370>"
      ]
     },
     "execution_count": 11,
     "metadata": {},
     "output_type": "execute_result"
    }
   ],
   "source": [
    "from datetime import datetime\n",
    "user_doc = {'username':'janedoe', 'firstname':'jane', 'surname':'doe',\n",
    "           'dateofbirth':datetime(1974, 4, 12), 'email':'janedoe74@gmail.com',\n",
    "           'score':0}\n",
    "coll.insert_one(user_doc)"
   ]
  },
  {
   "cell_type": "markdown",
   "metadata": {},
   "source": [
    "### bulk inserts"
   ]
  },
  {
   "cell_type": "code",
   "execution_count": 12,
   "metadata": {
    "collapsed": false
   },
   "outputs": [
    {
     "data": {
      "text/plain": [
       "<pymongo.results.InsertManyResult at 0x7f021273deb0>"
      ]
     },
     "execution_count": 12,
     "metadata": {},
     "output_type": "execute_result"
    }
   ],
   "source": [
    "users_doc = [{'username':'john long', 'firstname':'john', 'surname':'long',\n",
    "             'dateofbirth':datetime(1976, 5, 15), 'email':'johnlong76@gmail.com',\n",
    "             'score':4},\n",
    "            {'username':'wayne rooney', 'firstname':'wayne', 'surname':'rooney',\n",
    "            'dateofbirth':datetime(1988, 6, 22), 'email':'wayneroo88@gmail.com',\n",
    "            'score':6},\n",
    "            {'username':'amber cathy', 'firstname':'amber', 'surname':'cathy',\n",
    "            'dateofbirth':datetime(1989, 7, 30), 'email':'amber876@gmail.com',\n",
    "            'score':9},\n",
    "            {'username':'james wick', 'firstname':'james', 'surname':'wick',\n",
    "            'dateofbirth':datetime(1990, 12, 1), 'email':'james1201@gmail.com',\n",
    "            'score':7}]\n",
    "coll.insert_many(users_doc)"
   ]
  },
  {
   "cell_type": "markdown",
   "metadata": {},
   "source": [
    "### retrieve single, all"
   ]
  },
  {
   "cell_type": "code",
   "execution_count": 13,
   "metadata": {
    "collapsed": false
   },
   "outputs": [
    {
     "name": "stdout",
     "output_type": "stream",
     "text": [
      "{u'username': u'janedoe', u'surname': u'doe', u'firstname': u'jane', u'dateofbirth': datetime.datetime(1974, 4, 12, 0, 0), u'score': 0, u'_id': ObjectId('58afd4a03753322a2521893d'), u'email': u'janedoe74@gmail.com'}\n"
     ]
    }
   ],
   "source": [
    "print coll.find_one()"
   ]
  },
  {
   "cell_type": "code",
   "execution_count": 14,
   "metadata": {
    "collapsed": false
   },
   "outputs": [
    {
     "name": "stdout",
     "output_type": "stream",
     "text": [
      "{u'username': u'janedoe', u'surname': u'doe', u'firstname': u'jane', u'dateofbirth': datetime.datetime(1974, 4, 12, 0, 0), u'score': 0, u'_id': ObjectId('58afd4a03753322a2521893d'), u'email': u'janedoe74@gmail.com'}\n",
      "{u'username': u'john long', u'surname': u'long', u'firstname': u'john', u'dateofbirth': datetime.datetime(1976, 5, 15, 0, 0), u'score': 4, u'_id': ObjectId('58afd4a23753322a2521893e'), u'email': u'johnlong76@gmail.com'}\n",
      "{u'username': u'wayne rooney', u'surname': u'rooney', u'firstname': u'wayne', u'dateofbirth': datetime.datetime(1988, 6, 22, 0, 0), u'score': 6, u'_id': ObjectId('58afd4a23753322a2521893f'), u'email': u'wayneroo88@gmail.com'}\n",
      "{u'username': u'amber cathy', u'surname': u'cathy', u'firstname': u'amber', u'dateofbirth': datetime.datetime(1989, 7, 30, 0, 0), u'score': 9, u'_id': ObjectId('58afd4a23753322a25218940'), u'email': u'amber876@gmail.com'}\n",
      "{u'username': u'james wick', u'surname': u'wick', u'firstname': u'james', u'dateofbirth': datetime.datetime(1990, 12, 1, 0, 0), u'score': 7, u'_id': ObjectId('58afd4a23753322a25218941'), u'email': u'james1201@gmail.com'}\n"
     ]
    }
   ],
   "source": [
    "for a in coll.find():\n",
    "    print a"
   ]
  },
  {
   "cell_type": "code",
   "execution_count": 27,
   "metadata": {
    "collapsed": false
   },
   "outputs": [
    {
     "name": "stdout",
     "output_type": "stream",
     "text": [
      "janedoe74@gmail.com\n"
     ]
    }
   ],
   "source": [
    "byname = coll.find({'firstname':'jane'}, {'email':1})\n",
    "for a in byname:\n",
    "    print a.get('email')"
   ]
  },
  {
   "cell_type": "markdown",
   "metadata": {},
   "source": [
    "### count"
   ]
  },
  {
   "cell_type": "code",
   "execution_count": 28,
   "metadata": {
    "collapsed": false
   },
   "outputs": [
    {
     "data": {
      "text/plain": [
       "5"
      ]
     },
     "execution_count": 28,
     "metadata": {},
     "output_type": "execute_result"
    }
   ],
   "source": [
    "coll.find().count()"
   ]
  },
  {
   "cell_type": "markdown",
   "metadata": {},
   "source": [
    "### sort"
   ]
  },
  {
   "cell_type": "code",
   "execution_count": 30,
   "metadata": {
    "collapsed": false
   },
   "outputs": [
    {
     "name": "stdout",
     "output_type": "stream",
     "text": [
      "{u'username': u'james wick', u'surname': u'wick', u'firstname': u'james', u'dateofbirth': datetime.datetime(1990, 12, 1, 0, 0), u'score': 7, u'_id': ObjectId('58afa06337533217738d883d'), u'email': u'james1201@gmail.com'}\n",
      "{u'username': u'amber cathy', u'surname': u'cathy', u'firstname': u'amber', u'dateofbirth': datetime.datetime(1989, 7, 30, 0, 0), u'score': 9, u'_id': ObjectId('58afa06337533217738d883c'), u'email': u'amber876@gmail.com'}\n",
      "{u'username': u'wayne rooney', u'surname': u'rooney', u'firstname': u'wayne', u'dateofbirth': datetime.datetime(1988, 6, 22, 0, 0), u'score': 6, u'_id': ObjectId('58afa06337533217738d883b'), u'email': u'wayneroo88@gmail.com'}\n",
      "{u'username': u'john long', u'surname': u'long', u'firstname': u'john', u'dateofbirth': datetime.datetime(1976, 5, 15, 0, 0), u'score': 4, u'_id': ObjectId('58afa06337533217738d883a'), u'email': u'johnlong76@gmail.com'}\n",
      "{u'username': u'janedoe', u'surname': u'doe', u'firstname': u'jane', u'dateofbirth': datetime.datetime(1974, 4, 12, 0, 0), u'score': 0, u'_id': ObjectId('58afa06137533217738d8839'), u'email': u'janedoe74@gmail.com'}\n"
     ]
    }
   ],
   "source": [
    "# import pymongo as pm\n",
    "sort1 = coll.find().sort('dateofbirth', pm.DESCENDING)\n",
    "for a in sort1:\n",
    "    print a"
   ]
  },
  {
   "cell_type": "markdown",
   "metadata": {},
   "source": [
    "### limit"
   ]
  },
  {
   "cell_type": "code",
   "execution_count": 58,
   "metadata": {
    "collapsed": false
   },
   "outputs": [
    {
     "name": "stdout",
     "output_type": "stream",
     "text": [
      "amber cathy 9\n",
      "james wick 7\n",
      "wayne rooney 6\n"
     ]
    }
   ],
   "source": [
    "sort1 = coll.find().sort('score', pm.DESCENDING).limit(3)\n",
    "for a in sort1:\n",
    "    print a.get('username'), a.get('score', 0) # score 뒤에 0이 없어도 상관 없음"
   ]
  },
  {
   "cell_type": "markdown",
   "metadata": {},
   "source": [
    "### skip"
   ]
  },
  {
   "cell_type": "code",
   "execution_count": 43,
   "metadata": {
    "collapsed": false
   },
   "outputs": [
    {
     "name": "stdout",
     "output_type": "stream",
     "text": [
      "wayne rooney 6\n",
      "john long 4\n",
      "janedoe 0\n"
     ]
    }
   ],
   "source": [
    "sort2 = coll.find().sort('score', pm.DESCENDING).limit(3).skip(2) # 가장 앞 2개 결과는 건너뜀\n",
    "for a in sort2:\n",
    "    print a.get('username'), a.get('score')"
   ]
  },
  {
   "cell_type": "markdown",
   "metadata": {},
   "source": [
    "### updating documents1"
   ]
  },
  {
   "cell_type": "code",
   "execution_count": 46,
   "metadata": {
    "collapsed": true
   },
   "outputs": [],
   "source": [
    "import copy"
   ]
  },
  {
   "cell_type": "code",
   "execution_count": 74,
   "metadata": {
    "collapsed": false
   },
   "outputs": [
    {
     "data": {
      "text/plain": [
       "<pymongo.results.UpdateResult at 0x7fc725829050>"
      ]
     },
     "execution_count": 74,
     "metadata": {},
     "output_type": "execute_result"
    }
   ],
   "source": [
    "old_user = coll.find_one({'username':'janedoe'})\n",
    "# make a copy\n",
    "new_user = copy.deepcopy(old_user)\n",
    "\n",
    "# modify the copy\n",
    "new_user['email'] = 'janedoe74@example4.com'\n",
    "\n",
    "# run the update query\n",
    "# update는 deprecated되었다고 함 / update_one은 먹히지 않음(이건 아래에서 확인가능)\n",
    "coll.replace_one({'username':'janedoe'}, new_user)"
   ]
  },
  {
   "cell_type": "code",
   "execution_count": 75,
   "metadata": {
    "collapsed": false
   },
   "outputs": [
    {
     "name": "stdout",
     "output_type": "stream",
     "text": [
      "{u'username': u'janedoe', u'surname': u'doe', u'firstname': u'jane', u'dateofbirth': datetime.datetime(1974, 4, 12, 0, 0), u'score': 1, u'_id': ObjectId('58afa06137533217738d8839'), u'email': u'janedoe74@example4.com'}\n"
     ]
    }
   ],
   "source": [
    "print coll.find_one({'username':'janedoe'})"
   ]
  },
  {
   "cell_type": "markdown",
   "metadata": {},
   "source": [
    "### updating documents2 - update_one과 $set을 이용하는 방법"
   ]
  },
  {
   "cell_type": "code",
   "execution_count": 77,
   "metadata": {
    "collapsed": false
   },
   "outputs": [
    {
     "data": {
      "text/plain": [
       "<pymongo.results.UpdateResult at 0x7fc7258290f0>"
      ]
     },
     "execution_count": 77,
     "metadata": {},
     "output_type": "execute_result"
    }
   ],
   "source": [
    "coll.update_one({'username':'janedoe'}, \n",
    "            {'$set':{'email':'janedoe74@example323.com'}})"
   ]
  },
  {
   "cell_type": "code",
   "execution_count": 78,
   "metadata": {
    "collapsed": false
   },
   "outputs": [
    {
     "name": "stdout",
     "output_type": "stream",
     "text": [
      "{u'username': u'janedoe', u'surname': u'doe', u'firstname': u'jane', u'dateofbirth': datetime.datetime(1974, 4, 12, 0, 0), u'score': 1, u'_id': ObjectId('58afa06137533217738d8839'), u'email': u'janedoe74@example323.com'}\n"
     ]
    }
   ],
   "source": [
    "print coll.find_one({'username':'janedoe'})"
   ]
  },
  {
   "cell_type": "markdown",
   "metadata": {},
   "source": [
    "### updating documents3 - 변수 여러 개 한 번에 바꾸기"
   ]
  },
  {
   "cell_type": "code",
   "execution_count": 86,
   "metadata": {
    "collapsed": false
   },
   "outputs": [
    {
     "name": "stdout",
     "output_type": "stream",
     "text": [
      "{u'username': u'janedoe', u'surname': u'doe', u'firstname': u'jane', u'dateofbirth': datetime.datetime(1974, 4, 12, 0, 0), u'score': 1, u'_id': ObjectId('58afa88837533217738d883f'), u'email': u'janedoe74@example777.com'}\n"
     ]
    }
   ],
   "source": [
    "coll.update_many({'username':'janedoe'},\n",
    "                {'$set':{'email':'janedoe74@example777.com', 'score':1}})\n",
    "\n",
    "print coll.find_one({'username':'janedoe'})"
   ]
  },
  {
   "cell_type": "markdown",
   "metadata": {},
   "source": [
    "### deleting documents"
   ]
  },
  {
   "cell_type": "code",
   "execution_count": 87,
   "metadata": {
    "collapsed": false
   },
   "outputs": [
    {
     "name": "stdout",
     "output_type": "stream",
     "text": [
      "{u'username': u'john long', u'surname': u'long', u'firstname': u'john', u'dateofbirth': datetime.datetime(1976, 5, 15, 0, 0), u'score': 4, u'_id': ObjectId('58afa06337533217738d883a'), u'email': u'johnlong76@gmail.com'}\n",
      "{u'username': u'wayne rooney', u'surname': u'rooney', u'firstname': u'wayne', u'dateofbirth': datetime.datetime(1988, 6, 22, 0, 0), u'score': 6, u'_id': ObjectId('58afa06337533217738d883b'), u'email': u'wayneroo88@gmail.com'}\n",
      "{u'username': u'amber cathy', u'surname': u'cathy', u'firstname': u'amber', u'dateofbirth': datetime.datetime(1989, 7, 30, 0, 0), u'score': 9, u'_id': ObjectId('58afa06337533217738d883c'), u'email': u'amber876@gmail.com'}\n",
      "{u'username': u'james wick', u'surname': u'wick', u'firstname': u'james', u'dateofbirth': datetime.datetime(1990, 12, 1, 0, 0), u'score': 7, u'_id': ObjectId('58afa06337533217738d883d'), u'email': u'james1201@gmail.com'}\n",
      "{u'username': u'janedoe', u'surname': u'doe', u'firstname': u'jane', u'dateofbirth': datetime.datetime(1974, 4, 12, 0, 0), u'score': 1, u'_id': ObjectId('58afa88837533217738d883f'), u'email': u'janedoe74@example777.com'}\n"
     ]
    }
   ],
   "source": [
    "for a in coll.find():\n",
    "    print a"
   ]
  },
  {
   "cell_type": "code",
   "execution_count": 88,
   "metadata": {
    "collapsed": false
   },
   "outputs": [
    {
     "name": "stdout",
     "output_type": "stream",
     "text": [
      "{u'username': u'john long', u'surname': u'long', u'firstname': u'john', u'dateofbirth': datetime.datetime(1976, 5, 15, 0, 0), u'score': 4, u'_id': ObjectId('58afa06337533217738d883a'), u'email': u'johnlong76@gmail.com'}\n",
      "{u'username': u'wayne rooney', u'surname': u'rooney', u'firstname': u'wayne', u'dateofbirth': datetime.datetime(1988, 6, 22, 0, 0), u'score': 6, u'_id': ObjectId('58afa06337533217738d883b'), u'email': u'wayneroo88@gmail.com'}\n",
      "{u'username': u'amber cathy', u'surname': u'cathy', u'firstname': u'amber', u'dateofbirth': datetime.datetime(1989, 7, 30, 0, 0), u'score': 9, u'_id': ObjectId('58afa06337533217738d883c'), u'email': u'amber876@gmail.com'}\n",
      "{u'username': u'james wick', u'surname': u'wick', u'firstname': u'james', u'dateofbirth': datetime.datetime(1990, 12, 1, 0, 0), u'score': 7, u'_id': ObjectId('58afa06337533217738d883d'), u'email': u'james1201@gmail.com'}\n"
     ]
    }
   ],
   "source": [
    "coll.delete_many({'score':1})\n",
    "\n",
    "for a in coll.find():\n",
    "    print a"
   ]
  },
  {
   "cell_type": "markdown",
   "metadata": {},
   "source": [
    "### operations on sub-documents embedded in a list"
   ]
  },
  {
   "cell_type": "code",
   "execution_count": null,
   "metadata": {
    "collapsed": true
   },
   "outputs": [],
   "source": []
  },
  {
   "cell_type": "code",
   "execution_count": 126,
   "metadata": {
    "collapsed": false
   },
   "outputs": [
    {
     "name": "stderr",
     "output_type": "stream",
     "text": [
      "/usr/local/lib/python2.7/dist-packages/ipykernel/__main__.py:8: DeprecationWarning: insert is deprecated. Use insert_one or insert_many instead.\n"
     ]
    },
    {
     "data": {
      "text/plain": [
       "ObjectId('58afafca37533217738d8843')"
      ]
     },
     "execution_count": 126,
     "metadata": {},
     "output_type": "execute_result"
    }
   ],
   "source": [
    "user_doc1 = {'username':'foouser',\n",
    "            'emails':[{'email':'foouser1@example.com', 'primary':True},\n",
    "                     {'email':'foouser2@example.com', 'primary':False},\n",
    "                     {'email':'foouser3@example.com', 'primary':False}\n",
    "                     ]\n",
    "            }\n",
    "\n",
    "coll.insert(user_doc1)"
   ]
  },
  {
   "cell_type": "code",
   "execution_count": 127,
   "metadata": {
    "collapsed": false
   },
   "outputs": [
    {
     "name": "stdout",
     "output_type": "stream",
     "text": [
      "{u'username': u'john long', u'surname': u'long', u'firstname': u'john', u'dateofbirth': datetime.datetime(1976, 5, 15, 0, 0), u'score': 4, u'_id': ObjectId('58afa06337533217738d883a'), u'email': u'johnlong76@gmail.com'}\n",
      "{u'username': u'wayne rooney', u'surname': u'rooney', u'firstname': u'wayne', u'dateofbirth': datetime.datetime(1988, 6, 22, 0, 0), u'score': 6, u'_id': ObjectId('58afa06337533217738d883b'), u'email': u'wayneroo88@gmail.com'}\n",
      "{u'username': u'amber cathy', u'surname': u'cathy', u'firstname': u'amber', u'dateofbirth': datetime.datetime(1989, 7, 30, 0, 0), u'score': 9, u'_id': ObjectId('58afa06337533217738d883c'), u'email': u'amber876@gmail.com'}\n",
      "{u'username': u'james wick', u'surname': u'wick', u'firstname': u'james', u'dateofbirth': datetime.datetime(1990, 12, 1, 0, 0), u'score': 7, u'_id': ObjectId('58afa06337533217738d883d'), u'email': u'james1201@gmail.com'}\n",
      "{u'username': u'foouser', u'_id': ObjectId('58afafca37533217738d8843'), u'emails': [{u'email': u'foouser1@example.com', u'primary': True}, {u'email': u'foouser2@example.com', u'primary': False}, {u'email': u'foouser3@example.com', u'primary': False}]}\n"
     ]
    }
   ],
   "source": [
    "for a in coll.find():\n",
    "    print a"
   ]
  },
  {
   "cell_type": "code",
   "execution_count": 99,
   "metadata": {
    "collapsed": true
   },
   "outputs": [],
   "source": [
    "from bson.objectid import ObjectId"
   ]
  },
  {
   "cell_type": "code",
   "execution_count": 124,
   "metadata": {
    "collapsed": false
   },
   "outputs": [
    {
     "data": {
      "text/plain": [
       "<pymongo.results.DeleteResult at 0x7fc725829b90>"
      ]
     },
     "execution_count": 124,
     "metadata": {},
     "output_type": "execute_result"
    }
   ],
   "source": [
    "coll.delete_one({'_id':ObjectId('58afad6037533217738d8842')})"
   ]
  },
  {
   "cell_type": "markdown",
   "metadata": {},
   "source": [
    "### $pull"
   ]
  },
  {
   "cell_type": "code",
   "execution_count": 128,
   "metadata": {
    "collapsed": false
   },
   "outputs": [
    {
     "data": {
      "text/plain": [
       "<pymongo.results.UpdateResult at 0x7fc7258297d0>"
      ]
     },
     "execution_count": 128,
     "metadata": {},
     "output_type": "execute_result"
    }
   ],
   "source": [
    "#coll.update({'username':'foouser'}, {'emails':{'email':'foouser2@example.com'}})\n",
    "# 이렇게 하면 emails 안의 email에 foouser2@example.com만 남게 된다\n",
    "\n",
    "# use $pull to remove 'foouser2@example.com' email sub-document\n",
    "# update는 deprecated됨\n",
    "coll.update_one({'username':'foouser'}, {'$pull':{'emails':{'email':'foouser2@example.com'}}})"
   ]
  },
  {
   "cell_type": "code",
   "execution_count": 132,
   "metadata": {
    "collapsed": false
   },
   "outputs": [
    {
     "name": "stdout",
     "output_type": "stream",
     "text": [
      "{u'username': u'foouser', u'_id': ObjectId('58afafca37533217738d8843'), u'emails': [{u'email': u'foouser1@example.com', u'primary': True}, {u'email': u'foouser3@example.com', u'primary': False}]}\n"
     ]
    }
   ],
   "source": [
    "print coll.find_one({'username':'foouser'})"
   ]
  },
  {
   "cell_type": "markdown",
   "metadata": {},
   "source": [
    "### $ne"
   ]
  },
  {
   "cell_type": "code",
   "execution_count": 133,
   "metadata": {
    "collapsed": false
   },
   "outputs": [
    {
     "data": {
      "text/plain": [
       "<pymongo.results.UpdateResult at 0x7fc725829dc0>"
      ]
     },
     "execution_count": 133,
     "metadata": {},
     "output_type": "execute_result"
    }
   ],
   "source": [
    "# primary가 True가 아닌 것들만 제외(당겨라, pull)\n",
    "coll.update_many({'username':'foouser'}, {'$pull':{'emails':{'primary':{'$ne':True}}}})"
   ]
  },
  {
   "cell_type": "code",
   "execution_count": 135,
   "metadata": {
    "collapsed": false
   },
   "outputs": [
    {
     "data": {
      "text/plain": [
       "{u'_id': ObjectId('58afafca37533217738d8843'),\n",
       " u'emails': [{u'email': u'foouser1@example.com', u'primary': True}],\n",
       " u'username': u'foouser'}"
      ]
     },
     "execution_count": 135,
     "metadata": {},
     "output_type": "execute_result"
    }
   ],
   "source": [
    "coll.find_one({'username':'foouser'})"
   ]
  },
  {
   "cell_type": "markdown",
   "metadata": {},
   "source": [
    "### $push"
   ]
  },
  {
   "cell_type": "code",
   "execution_count": 136,
   "metadata": {
    "collapsed": false
   },
   "outputs": [
    {
     "name": "stderr",
     "output_type": "stream",
     "text": [
      "/usr/local/lib/python2.7/dist-packages/ipykernel/__main__.py:3: DeprecationWarning: update is deprecated. Use replace_one, update_one or update_many instead.\n",
      "  app.launch_new_instance()\n"
     ]
    },
    {
     "data": {
      "text/plain": [
       "{u'n': 1, u'nModified': 1, u'ok': 1.0, 'updatedExisting': True}"
      ]
     },
     "execution_count": 136,
     "metadata": {},
     "output_type": "execute_result"
    }
   ],
   "source": [
    "# append a new email sub-document to the user document\n",
    "new_email = {'email':'foouser4@example.com', 'primary':False}\n",
    "coll.update({'username':'foouser'}, {'$push':{'emails':{'email':new_email}}})"
   ]
  },
  {
   "cell_type": "code",
   "execution_count": 137,
   "metadata": {
    "collapsed": false
   },
   "outputs": [
    {
     "data": {
      "text/plain": [
       "{u'_id': ObjectId('58afafca37533217738d8843'),\n",
       " u'emails': [{u'email': u'foouser1@example.com', u'primary': True},\n",
       "  {u'email': {u'email': u'foouser4@example.com', u'primary': False}}],\n",
       " u'username': u'foouser'}"
      ]
     },
     "execution_count": 137,
     "metadata": {},
     "output_type": "execute_result"
    }
   ],
   "source": [
    "coll.find_one({'username':'foouser'})"
   ]
  },
  {
   "cell_type": "markdown",
   "metadata": {},
   "source": [
    "### $set"
   ]
  },
  {
   "cell_type": "code",
   "execution_count": 239,
   "metadata": {
    "collapsed": true
   },
   "outputs": [],
   "source": [
    "# sub document의 첫 번째 {}는 내용이 바뀌지가 않음\n",
    "user_doc2 = {\n",
    "  \"username\":\"foouser22\",\n",
    "  \"emails\":[\n",
    "    {\n",
    "      \"email\":\"foouser1@example.com\",\n",
    "      \"primary\":123\n",
    "    },{\n",
    "      \"email\":\"foouser2@example2.com\",\n",
    "      \"primary\":False\n",
    "    },{ \n",
    "      \"email\":\"foouser3@example3.com\",\n",
    "      \"primary\":False\n",
    "    }\n",
    "  ]\n",
    "}"
   ]
  },
  {
   "cell_type": "code",
   "execution_count": 240,
   "metadata": {
    "collapsed": false
   },
   "outputs": [
    {
     "data": {
      "text/plain": [
       "<pymongo.results.InsertOneResult at 0x7fc7257e6870>"
      ]
     },
     "execution_count": 240,
     "metadata": {},
     "output_type": "execute_result"
    }
   ],
   "source": [
    "coll.insert_one(user_doc2)"
   ]
  },
  {
   "cell_type": "code",
   "execution_count": 241,
   "metadata": {
    "collapsed": false
   },
   "outputs": [
    {
     "data": {
      "text/plain": [
       "{u'_id': ObjectId('58afd11037533217738d8847'),\n",
       " u'emails': [{u'email': u'foouser1@example.com', u'primary': 123},\n",
       "  {u'email': u'foouser2@example2.com', u'primary': False},\n",
       "  {u'email': u'foouser3@example3.com', u'primary': False}],\n",
       " u'username': u'foouser22'}"
      ]
     },
     "execution_count": 241,
     "metadata": {},
     "output_type": "execute_result"
    }
   ],
   "source": [
    "'''for a in coll.find():\n",
    "    print a'''\n",
    "coll.find_one({'username':'foouser22'})"
   ]
  },
  {
   "cell_type": "code",
   "execution_count": 238,
   "metadata": {
    "collapsed": false
   },
   "outputs": [
    {
     "data": {
      "text/plain": [
       "<pymongo.results.DeleteResult at 0x7fc7257e69b0>"
      ]
     },
     "execution_count": 238,
     "metadata": {},
     "output_type": "execute_result"
    }
   ],
   "source": [
    "coll.delete_one({'_id':ObjectId('58afcfa137533217738d8846')})"
   ]
  },
  {
   "cell_type": "code",
   "execution_count": 246,
   "metadata": {
    "collapsed": false
   },
   "outputs": [
    {
     "data": {
      "text/plain": [
       "<pymongo.results.UpdateResult at 0x7fc7257e6c80>"
      ]
     },
     "execution_count": 246,
     "metadata": {},
     "output_type": "execute_result"
    }
   ],
   "source": [
    "coll.update_one({'emails.email':'foouser1@example.com'}, {'$set':{'emails.$.primary':47657}})"
   ]
  },
  {
   "cell_type": "code",
   "execution_count": 248,
   "metadata": {
    "collapsed": false
   },
   "outputs": [
    {
     "data": {
      "text/plain": [
       "<pymongo.results.UpdateResult at 0x7fc7257e6cd0>"
      ]
     },
     "execution_count": 248,
     "metadata": {},
     "output_type": "execute_result"
    }
   ],
   "source": [
    "coll.update_one({'emails.email':'foouser2@example2.com'}, {'$set':{'emails.$.primary':55}})"
   ]
  },
  {
   "cell_type": "code",
   "execution_count": 234,
   "metadata": {
    "collapsed": false
   },
   "outputs": [
    {
     "data": {
      "text/plain": [
       "<pymongo.results.UpdateResult at 0x7fc7257e6aa0>"
      ]
     },
     "execution_count": 234,
     "metadata": {},
     "output_type": "execute_result"
    }
   ],
   "source": [
    "coll.update_one({'emails.email':'foouser3@example3.com'}, {'$set':{'emails.$.primary':True}})"
   ]
  },
  {
   "cell_type": "code",
   "execution_count": 225,
   "metadata": {
    "collapsed": false
   },
   "outputs": [
    {
     "data": {
      "text/plain": [
       "<pymongo.results.UpdateResult at 0x7fc7257e6820>"
      ]
     },
     "execution_count": 225,
     "metadata": {},
     "output_type": "execute_result"
    }
   ],
   "source": [
    "'''coll.update_one({\"emails.email\":\"foouser1@example.com\"},\n",
    "  {\"$set\":{\"emails.$.primary\":False}})'''"
   ]
  },
  {
   "cell_type": "code",
   "execution_count": 249,
   "metadata": {
    "collapsed": false
   },
   "outputs": [
    {
     "data": {
      "text/plain": [
       "{u'_id': ObjectId('58afd11037533217738d8847'),\n",
       " u'emails': [{u'email': u'foouser1@example.com', u'primary': 123},\n",
       "  {u'email': u'foouser2@example2.com', u'primary': 55},\n",
       "  {u'email': u'foouser3@example3.com', u'primary': False}],\n",
       " u'username': u'foouser22'}"
      ]
     },
     "execution_count": 249,
     "metadata": {},
     "output_type": "execute_result"
    }
   ],
   "source": [
    "coll.find_one({'username':'foouser22'})"
   ]
  },
  {
   "cell_type": "code",
   "execution_count": 15,
   "metadata": {
    "collapsed": false
   },
   "outputs": [
    {
     "name": "stdout",
     "output_type": "stream",
     "text": [
      "2017-02-24T15:33:13.912+0900\tconnected to: localhost\r\n",
      "2017-02-24T15:33:13.913+0900\texported 6 records\r\n"
     ]
    }
   ],
   "source": [
    "# 원래는 터미널에서 실행하는 명령어\n",
    "# 파이썬 내에서 사용하려면 !를 붙이면 된다\n",
    "!mongoexport -d test -c users --out mydb.json"
   ]
  },
  {
   "cell_type": "code",
   "execution_count": 17,
   "metadata": {
    "collapsed": false,
    "scrolled": true
   },
   "outputs": [
    {
     "name": "stdout",
     "output_type": "stream",
     "text": [
      "2017-02-24T15:33:18.800+0900\tthe --db and --collection args should only be used when restoring from a BSON file. Other uses are deprecated and will not exist in the future; use --nsInclude instead\r\n",
      "2017-02-24T15:33:18.801+0900\tFailed: mongorestore target './dump/mydb' invalid: stat ./dump/mydb: no such file or directory\r\n"
     ]
    }
   ],
   "source": [
    "!mongorestore -d mydb ./dump/mydb"
   ]
  },
  {
   "cell_type": "code",
   "execution_count": 15,
   "metadata": {
    "collapsed": false
   },
   "outputs": [
    {
     "name": "stdout",
     "output_type": "stream",
     "text": [
      "{u'username': u'janedoe', u'surname': u'doe', u'firstname': u'jane', u'dateofbirth': datetime.datetime(1974, 4, 12, 0, 0), u'score': 0, u'_id': ObjectId('58afd4a03753322a2521893d'), u'email': u'janedoe74@gmail.com'}\n",
      "{u'username': u'john long', u'surname': u'long', u'firstname': u'john', u'dateofbirth': datetime.datetime(1976, 5, 15, 0, 0), u'score': 4, u'_id': ObjectId('58afd4a23753322a2521893e'), u'email': u'johnlong76@gmail.com'}\n",
      "{u'username': u'wayne rooney', u'surname': u'rooney', u'firstname': u'wayne', u'dateofbirth': datetime.datetime(1988, 6, 22, 0, 0), u'score': 6, u'_id': ObjectId('58afd4a23753322a2521893f'), u'email': u'wayneroo88@gmail.com'}\n",
      "{u'username': u'amber cathy', u'surname': u'cathy', u'firstname': u'amber', u'dateofbirth': datetime.datetime(1989, 7, 30, 0, 0), u'score': 9, u'_id': ObjectId('58afd4a23753322a25218940'), u'email': u'amber876@gmail.com'}\n",
      "{u'username': u'james wick', u'surname': u'wick', u'firstname': u'james', u'dateofbirth': datetime.datetime(1990, 12, 1, 0, 0), u'score': 7, u'_id': ObjectId('58afd4a23753322a25218941'), u'email': u'james1201@gmail.com'}\n"
     ]
    }
   ],
   "source": [
    "for a in coll.find():\n",
    "    print a"
   ]
  },
  {
   "cell_type": "code",
   "execution_count": 19,
   "metadata": {
    "collapsed": false
   },
   "outputs": [
    {
     "name": "stdout",
     "output_type": "stream",
     "text": [
      "{u'username': u'amber cathy', u'surname': u'cathy', u'firstname': u'amber', u'dateofbirth': datetime.datetime(1989, 7, 30, 0, 0), u'score': 9, u'_id': ObjectId('58afd4a23753322a25218940'), u'email': u'amber876@gmail.com'}\n"
     ]
    }
   ],
   "source": [
    "for a in coll.find({'score':{'$gt':8}}):\n",
    "    print a"
   ]
  },
  {
   "cell_type": "code",
   "execution_count": 22,
   "metadata": {
    "collapsed": false
   },
   "outputs": [],
   "source": [
    "bb = {}\n",
    "def haha():    \n",
    "    for a in coll.find({'score':{'$lt':4}}):\n",
    "        bb = a\n",
    "        return bb"
   ]
  },
  {
   "cell_type": "code",
   "execution_count": 25,
   "metadata": {
    "collapsed": false
   },
   "outputs": [
    {
     "data": {
      "text/plain": [
       "{u'_id': ObjectId('58afd4a03753322a2521893d'),\n",
       " u'dateofbirth': datetime.datetime(1974, 4, 12, 0, 0),\n",
       " u'email': u'janedoe74@gmail.com',\n",
       " u'firstname': u'jane',\n",
       " u'score': 0,\n",
       " u'surname': u'doe',\n",
       " u'username': u'janedoe'}"
      ]
     },
     "execution_count": 25,
     "metadata": {},
     "output_type": "execute_result"
    }
   ],
   "source": [
    "abc = haha()\n",
    "abc"
   ]
  }
 ],
 "metadata": {
  "kernelspec": {
   "display_name": "Python 2",
   "language": "python",
   "name": "python2"
  },
  "language_info": {
   "codemirror_mode": {
    "name": "ipython",
    "version": 2
   },
   "file_extension": ".py",
   "mimetype": "text/x-python",
   "name": "python",
   "nbconvert_exporter": "python",
   "pygments_lexer": "ipython2",
   "version": "2.7.12"
  }
 },
 "nbformat": 4,
 "nbformat_minor": 2
}
