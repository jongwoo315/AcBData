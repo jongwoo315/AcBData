{
 "cells": [
  {
   "cell_type": "markdown",
   "metadata": {},
   "source": [
    "# $near 메서드"
   ]
  },
  {
   "cell_type": "code",
   "execution_count": 1,
   "metadata": {
    "collapsed": true
   },
   "outputs": [],
   "source": [
    "import pymongo as pm"
   ]
  },
  {
   "cell_type": "code",
   "execution_count": 2,
   "metadata": {
    "collapsed": true
   },
   "outputs": [],
   "source": [
    "conn = pm.MongoClient('localhost', 27017)\n",
    "db = conn.test"
   ]
  },
  {
   "cell_type": "code",
   "execution_count": 30,
   "metadata": {
    "collapsed": true
   },
   "outputs": [],
   "source": [
    "from bson.son import SON"
   ]
  },
  {
   "cell_type": "code",
   "execution_count": 31,
   "metadata": {
    "collapsed": false
   },
   "outputs": [
    {
     "data": {
      "text/plain": [
       "<pymongo.results.InsertOneResult at 0x7f42eff79910>"
      ]
     },
     "execution_count": 31,
     "metadata": {},
     "output_type": "execute_result"
    }
   ],
   "source": [
    "#location property is a sub-document with x, y ordering\n",
    "'''loc = SON()\n",
    "loc['x'] = 39\n",
    "loc['y'] = 48\n",
    "user_doc = {'username':'foouser', 'user_location':loc}\n",
    "db.users.insert_one(user_doc)'''"
   ]
  },
  {
   "cell_type": "code",
   "execution_count": 44,
   "metadata": {
    "collapsed": true
   },
   "outputs": [],
   "source": [
    "loc0 = SON(); loc0['x'] = 41; loc0['y'] = 37\n",
    "loc1 = SON(); loc1['x'] = 30; loc1['y'] = 40\n",
    "loc2 = SON(); loc2['x'] = 50; loc2['y'] = 38\n",
    "loc3 = SON(); loc3['x'] = 40; loc3['y'] = 39\n",
    "loc4 = SON(); loc4['x'] = 38; loc4['y'] = 41\n",
    "loc5 = SON(); loc5['x'] = 60; loc5['y'] = 45\n",
    "loc6 = SON(); loc6['x'] = 60; loc6['y'] = 10\n",
    "loc7 = SON(); loc7['x'] = 43; loc7['y'] = 44\n",
    "loc8 = SON(); loc8['x'] = 38; loc8['y'] = 38\n",
    "loc9 = SON(); loc9['x'] = 42; loc9['y'] = 49"
   ]
  },
  {
   "cell_type": "code",
   "execution_count": 45,
   "metadata": {
    "collapsed": false
   },
   "outputs": [],
   "source": [
    "users_doc = [{'username':'foouser0', 'user_location':loc0},\n",
    "             {'username':'foouser1', 'user_location':loc1},\n",
    "             {'username':'foouser2', 'user_location':loc2},\n",
    "             {'username':'foouser3', 'user_location':loc3},\n",
    "             {'username':'foouser4', 'user_location':loc4},\n",
    "             {'username':'foouser5', 'user_location':loc5},\n",
    "             {'username':'foouser6', 'user_location':loc6},\n",
    "             {'username':'foouser7', 'user_location':loc7},\n",
    "             {'username':'foouser8', 'user_location':loc8},\n",
    "             {'username':'foouser9', 'user_location':loc9}]"
   ]
  },
  {
   "cell_type": "code",
   "execution_count": 46,
   "metadata": {
    "collapsed": false
   },
   "outputs": [
    {
     "data": {
      "text/plain": [
       "<pymongo.results.InsertManyResult at 0x7f42eff79cd0>"
      ]
     },
     "execution_count": 46,
     "metadata": {},
     "output_type": "execute_result"
    }
   ],
   "source": [
    "db.users.insert_many(users_doc)"
   ]
  },
  {
   "cell_type": "code",
   "execution_count": 43,
   "metadata": {
    "collapsed": true
   },
   "outputs": [],
   "source": [
    "#db.users.drop()"
   ]
  },
  {
   "cell_type": "code",
   "execution_count": 47,
   "metadata": {
    "collapsed": false
   },
   "outputs": [
    {
     "name": "stdout",
     "output_type": "stream",
     "text": [
      "{u'username': u'foouser0', u'_id': ObjectId('58afe6d83753322f5f20f8c1'), u'user_location': {u'y': 37, u'x': 41}}\n",
      "{u'username': u'foouser1', u'_id': ObjectId('58afe6d83753322f5f20f8c2'), u'user_location': {u'y': 40, u'x': 30}}\n",
      "{u'username': u'foouser2', u'_id': ObjectId('58afe6d83753322f5f20f8c3'), u'user_location': {u'y': 38, u'x': 50}}\n",
      "{u'username': u'foouser3', u'_id': ObjectId('58afe6d83753322f5f20f8c4'), u'user_location': {u'y': 39, u'x': 40}}\n",
      "{u'username': u'foouser4', u'_id': ObjectId('58afe6d83753322f5f20f8c5'), u'user_location': {u'y': 41, u'x': 38}}\n",
      "{u'username': u'foouser5', u'_id': ObjectId('58afe6d83753322f5f20f8c6'), u'user_location': {u'y': 45, u'x': 60}}\n",
      "{u'username': u'foouser6', u'_id': ObjectId('58afe6d83753322f5f20f8c7'), u'user_location': {u'y': 10, u'x': 60}}\n",
      "{u'username': u'foouser7', u'_id': ObjectId('58afe6d83753322f5f20f8c8'), u'user_location': {u'y': 44, u'x': 43}}\n",
      "{u'username': u'foouser8', u'_id': ObjectId('58afe6d83753322f5f20f8c9'), u'user_location': {u'y': 38, u'x': 38}}\n",
      "{u'username': u'foouser9', u'_id': ObjectId('58afe6d83753322f5f20f8ca'), u'user_location': {u'y': 49, u'x': 42}}\n"
     ]
    }
   ],
   "source": [
    "for a in db.users.find():\n",
    "    print a"
   ]
  },
  {
   "cell_type": "code",
   "execution_count": 37,
   "metadata": {
    "collapsed": false
   },
   "outputs": [
    {
     "data": {
      "text/plain": [
       "u'user_location_2d'"
      ]
     },
     "execution_count": 37,
     "metadata": {},
     "output_type": "execute_result"
    }
   ],
   "source": [
    "# create geospatial index on 'user_location' property.\n",
    "#db.users.create_index([('user_location', pm.GEO2D)])"
   ]
  },
  {
   "cell_type": "code",
   "execution_count": 48,
   "metadata": {
    "collapsed": false
   },
   "outputs": [
    {
     "data": {
      "text/plain": [
       "u'user_location_2d_username_1'"
      ]
     },
     "execution_count": 48,
     "metadata": {},
     "output_type": "execute_result"
    }
   ],
   "source": [
    "db.users.create_index([('user_location', pm.GEO2D), ('username', pm.ASCENDING)])"
   ]
  },
  {
   "cell_type": "code",
   "execution_count": 78,
   "metadata": {
    "collapsed": false
   },
   "outputs": [
    {
     "data": {
      "text/plain": [
       "<pymongo.cursor.Cursor at 0x7f43100ebe90>"
      ]
     },
     "execution_count": 78,
     "metadata": {},
     "output_type": "execute_result"
    }
   ],
   "source": [
    "#nearest_users = db.users.find({'user_location':{'$near':[40, 40], '$maxDistance':5}}).limit(10)\n",
    "nearest_users = db.users.find({'user_location':SON([('$near', [40, 40]), ('$maxDistance', 5)])}).limit(10)\n",
    "nearest_users"
   ]
  },
  {
   "cell_type": "code",
   "execution_count": 79,
   "metadata": {
    "collapsed": false
   },
   "outputs": [
    {
     "name": "stdout",
     "output_type": "stream",
     "text": [
      "foouser3 {u'y': 39, u'x': 40}\n",
      "foouser4 {u'y': 41, u'x': 38}\n",
      "foouser8 {u'y': 38, u'x': 38}\n",
      "foouser0 {u'y': 37, u'x': 41}\n",
      "foouser7 {u'y': 44, u'x': 43}\n"
     ]
    }
   ],
   "source": [
    "for a in nearest_users:\n",
    "    #print 'user %s is at location %s, %s' %(a['username'], a['user_location'][0], a['user_location'][1])\n",
    "    print a['username'], a['user_location']"
   ]
  },
  {
   "cell_type": "markdown",
   "metadata": {},
   "source": [
    "# $within 메서드"
   ]
  },
  {
   "cell_type": "code",
   "execution_count": 90,
   "metadata": {
    "collapsed": false
   },
   "outputs": [
    {
     "data": {
      "text/plain": [
       "<pymongo.cursor.Cursor at 0x7f42eff2d550>"
      ]
     },
     "execution_count": 90,
     "metadata": {},
     "output_type": "execute_result"
    }
   ],
   "source": [
    "# 정의한 범위(사각) 내에 있는 좌표를 출력\n",
    "box = [[40, -40], [-40, 40]]\n",
    "users_in_boundary = db.users.find({'user_location':{'$within':{'$box':box}}})\n",
    "users_in_boundary"
   ]
  },
  {
   "cell_type": "code",
   "execution_count": 91,
   "metadata": {
    "collapsed": false
   },
   "outputs": [
    {
     "name": "stdout",
     "output_type": "stream",
     "text": [
      "foouser1 {u'y': 40, u'x': 30}\n",
      "foouser8 {u'y': 38, u'x': 38}\n",
      "foouser3 {u'y': 39, u'x': 40}\n"
     ]
    }
   ],
   "source": [
    "for a in users_in_boundary:\n",
    "    print a['username'], a['user_location']"
   ]
  },
  {
   "cell_type": "code",
   "execution_count": 125,
   "metadata": {
    "collapsed": false
   },
   "outputs": [
    {
     "data": {
      "text/plain": [
       "<pymongo.cursor.Cursor at 0x7f42e6b96750>"
      ]
     },
     "execution_count": 125,
     "metadata": {},
     "output_type": "execute_result"
    }
   ],
   "source": [
    "# 원의 범위 내에 있는 좌표들을 출력\n",
    "users_in_circle = db.users.find({'user_location':{'$within':{'$center':[[40, 40], 10]}}})\n",
    "users_in_circle"
   ]
  },
  {
   "cell_type": "code",
   "execution_count": 126,
   "metadata": {
    "collapsed": false
   },
   "outputs": [
    {
     "name": "stdout",
     "output_type": "stream",
     "text": [
      "foouser1 {u'y': 40, u'x': 30}\n",
      "foouser8 {u'y': 38, u'x': 38}\n",
      "foouser4 {u'y': 41, u'x': 38}\n",
      "foouser3 {u'y': 39, u'x': 40}\n",
      "foouser0 {u'y': 37, u'x': 41}\n",
      "foouser7 {u'y': 44, u'x': 43}\n",
      "foouser9 {u'y': 49, u'x': 42}\n"
     ]
    }
   ],
   "source": [
    "for a in users_in_circle:\n",
    "    print a['username'], a['user_location']"
   ]
  },
  {
   "cell_type": "code",
   "execution_count": null,
   "metadata": {
    "collapsed": true
   },
   "outputs": [],
   "source": []
  }
 ],
 "metadata": {
  "kernelspec": {
   "display_name": "Python 2",
   "language": "python",
   "name": "python2"
  },
  "language_info": {
   "codemirror_mode": {
    "name": "ipython",
    "version": 2
   },
   "file_extension": ".py",
   "mimetype": "text/x-python",
   "name": "python",
   "nbconvert_exporter": "python",
   "pygments_lexer": "ipython2",
   "version": "2.7.12"
  }
 },
 "nbformat": 4,
 "nbformat_minor": 2
}
