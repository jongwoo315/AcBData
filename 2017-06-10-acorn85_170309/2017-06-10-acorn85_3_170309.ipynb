{
 "cells": [
  {
   "cell_type": "raw",
   "metadata": {},
   "source": [
    "원래 ipynb 제목\n",
    "3. networkx data.ipynb"
   ]
  },
  {
   "cell_type": "markdown",
   "metadata": {},
   "source": [
    "http://mediashow.ru/sites/default/files/books/2011/11/social.network.analysis.for_.startups.1449306462.pdf"
   ]
  },
  {
   "cell_type": "code",
   "execution_count": 10,
   "metadata": {
    "collapsed": true
   },
   "outputs": [],
   "source": [
    "import urllib"
   ]
  },
  {
   "cell_type": "code",
   "execution_count": 59,
   "metadata": {
    "collapsed": false
   },
   "outputs": [],
   "source": [
    "# Sample Data: The Russians are Coming! | 41\n",
    "\n",
    "def read_lj_friends(g, name):\n",
    "    # fetch the friend-list from LiveJournal\n",
    "    response=urllib.urlopen('http://www.livejournal.com/misc/fdata.bml?user='+name)\n",
    "    # walk through the lines in the response and add each one as an edge in a network\n",
    "    for line in response.readlines():\n",
    "        #Comments in the response start with a '#'\n",
    "        #if line.startswith(bytes('#', 'utf-8')): continue\n",
    "        if line.startswith('#'): continue\n",
    "        \n",
    "        \n",
    "        # the format is \"< name\" (incoming) or \"> name\" (outgoing)\n",
    "        #make sure that we don't have an empty line\n",
    "        parts=line.split()\n",
    "        if len(parts)==0: continue\n",
    "            #add the edge to the network\n",
    "        if parts[0]=='<':\n",
    "            g.add_edge(parts[1],name)\n",
    "        else:\n",
    "            g.add_edge(name,parts[1])"
   ]
  },
  {
   "cell_type": "code",
   "execution_count": 14,
   "metadata": {
    "collapsed": true
   },
   "outputs": [],
   "source": [
    "import networkx as net\n",
    "%matplotlib inline"
   ]
  },
  {
   "cell_type": "code",
   "execution_count": 57,
   "metadata": {
    "collapsed": false
   },
   "outputs": [],
   "source": [
    "g=net.Graph()"
   ]
  },
  {
   "cell_type": "code",
   "execution_count": 60,
   "metadata": {
    "collapsed": false
   },
   "outputs": [],
   "source": [
    "read_lj_friends(g,'valerois')"
   ]
  },
  {
   "cell_type": "code",
   "execution_count": 61,
   "metadata": {
    "collapsed": false
   },
   "outputs": [
    {
     "data": {
      "text/plain": [
       "308"
      ]
     },
     "execution_count": 61,
     "metadata": {},
     "output_type": "execute_result"
    }
   ],
   "source": [
    "len(g) #count the number of nodes returned"
   ]
  },
  {
   "cell_type": "code",
   "execution_count": 62,
   "metadata": {
    "collapsed": false
   },
   "outputs": [
    {
     "data": {
      "image/png": "[encoded data removed]",
      "text/plain": [
       "<matplotlib.figure.Figure at 0x7efdc92e8110>"
      ]
     },
     "metadata": {},
     "output_type": "display_data"
    }
   ],
   "source": [
    "net.draw(g)"
   ]
  },
  {
   "cell_type": "code",
   "execution_count": 69,
   "metadata": {
    "collapsed": true
   },
   "outputs": [],
   "source": [
    "net.write_pajek(g, 'lj_friends.net')"
   ]
  },
  {
   "cell_type": "code",
   "execution_count": 68,
   "metadata": {
    "collapsed": true
   },
   "outputs": [
    {
     "ename": "LookupError",
     "evalue": "unknown encoding: lj_friends.net",
     "output_type": "error",
     "traceback": [
      "\u001b[0;31m---------------------------------------------------------------------------\u001b[0m",
      "\u001b[0;31mLookupError\u001b[0m                               Traceback (most recent call last)",
      "\u001b[0;32m<ipython-input-68-a62bd5ccf542>\u001b[0m in \u001b[0;36m<module>\u001b[0;34m()\u001b[0m\n\u001b[0;32m----> 1\u001b[0;31m \u001b[0mg\u001b[0m \u001b[0;34m=\u001b[0m \u001b[0mnet\u001b[0m\u001b[0;34m.\u001b[0m\u001b[0mread_pajek\u001b[0m\u001b[0;34m(\u001b[0m\u001b[0mg\u001b[0m\u001b[0;34m,\u001b[0m \u001b[0;34m'lj_friends.net'\u001b[0m\u001b[0;34m)\u001b[0m\u001b[0;34m\u001b[0m\u001b[0m\n\u001b[0m",
      "\u001b[0;32m<decorator-gen-299>\u001b[0m in \u001b[0;36mread_pajek\u001b[0;34m(path, encoding)\u001b[0m\n",
      "\u001b[0;32m/usr/local/lib/python2.7/dist-packages/networkx/utils/decorators.pyc\u001b[0m in \u001b[0;36m_open_file\u001b[0;34m(func, *args, **kwargs)\u001b[0m\n\u001b[1;32m    218\u001b[0m         \u001b[0;31m# Finally, we call the original function, making sure to close the fobj.\u001b[0m\u001b[0;34m\u001b[0m\u001b[0;34m\u001b[0m\u001b[0m\n\u001b[1;32m    219\u001b[0m         \u001b[0;32mtry\u001b[0m\u001b[0;34m:\u001b[0m\u001b[0;34m\u001b[0m\u001b[0m\n\u001b[0;32m--> 220\u001b[0;31m             \u001b[0mresult\u001b[0m \u001b[0;34m=\u001b[0m \u001b[0mfunc\u001b[0m\u001b[0;34m(\u001b[0m\u001b[0;34m*\u001b[0m\u001b[0mnew_args\u001b[0m\u001b[0;34m,\u001b[0m \u001b[0;34m**\u001b[0m\u001b[0mkwargs\u001b[0m\u001b[0;34m)\u001b[0m\u001b[0;34m\u001b[0m\u001b[0m\n\u001b[0m\u001b[1;32m    221\u001b[0m         \u001b[0;32mfinally\u001b[0m\u001b[0;34m:\u001b[0m\u001b[0;34m\u001b[0m\u001b[0m\n\u001b[1;32m    222\u001b[0m             \u001b[0;32mif\u001b[0m \u001b[0mclose_fobj\u001b[0m\u001b[0;34m:\u001b[0m\u001b[0;34m\u001b[0m\u001b[0m\n",
      "\u001b[0;32m/usr/local/lib/python2.7/dist-packages/networkx/readwrite/pajek.pyc\u001b[0m in \u001b[0;36mread_pajek\u001b[0;34m(path, encoding)\u001b[0m\n\u001b[1;32m    132\u001b[0m     \"\"\"\n\u001b[1;32m    133\u001b[0m     \u001b[0mlines\u001b[0m \u001b[0;34m=\u001b[0m \u001b[0;34m(\u001b[0m\u001b[0mline\u001b[0m\u001b[0;34m.\u001b[0m\u001b[0mdecode\u001b[0m\u001b[0;34m(\u001b[0m\u001b[0mencoding\u001b[0m\u001b[0;34m)\u001b[0m \u001b[0;32mfor\u001b[0m \u001b[0mline\u001b[0m \u001b[0;32min\u001b[0m \u001b[0mpath\u001b[0m\u001b[0;34m)\u001b[0m\u001b[0;34m\u001b[0m\u001b[0m\n\u001b[0;32m--> 134\u001b[0;31m     \u001b[0;32mreturn\u001b[0m \u001b[0mparse_pajek\u001b[0m\u001b[0;34m(\u001b[0m\u001b[0mlines\u001b[0m\u001b[0;34m)\u001b[0m\u001b[0;34m\u001b[0m\u001b[0m\n\u001b[0m\u001b[1;32m    135\u001b[0m \u001b[0;34m\u001b[0m\u001b[0m\n\u001b[1;32m    136\u001b[0m \u001b[0;32mdef\u001b[0m \u001b[0mparse_pajek\u001b[0m\u001b[0;34m(\u001b[0m\u001b[0mlines\u001b[0m\u001b[0;34m)\u001b[0m\u001b[0;34m:\u001b[0m\u001b[0;34m\u001b[0m\u001b[0m\n",
      "\u001b[0;32m/usr/local/lib/python2.7/dist-packages/networkx/readwrite/pajek.pyc\u001b[0m in \u001b[0;36mparse_pajek\u001b[0;34m(lines)\u001b[0m\n\u001b[1;32m    154\u001b[0m     \u001b[0;31m# multigraph=False\u001b[0m\u001b[0;34m\u001b[0m\u001b[0;34m\u001b[0m\u001b[0m\n\u001b[1;32m    155\u001b[0m     \u001b[0;32mif\u001b[0m \u001b[0mis_string_like\u001b[0m\u001b[0;34m(\u001b[0m\u001b[0mlines\u001b[0m\u001b[0;34m)\u001b[0m\u001b[0;34m:\u001b[0m \u001b[0mlines\u001b[0m\u001b[0;34m=\u001b[0m\u001b[0miter\u001b[0m\u001b[0;34m(\u001b[0m\u001b[0mlines\u001b[0m\u001b[0;34m.\u001b[0m\u001b[0msplit\u001b[0m\u001b[0;34m(\u001b[0m\u001b[0;34m'\\n'\u001b[0m\u001b[0;34m)\u001b[0m\u001b[0;34m)\u001b[0m\u001b[0;34m\u001b[0m\u001b[0m\n\u001b[0;32m--> 156\u001b[0;31m     \u001b[0mlines\u001b[0m \u001b[0;34m=\u001b[0m \u001b[0miter\u001b[0m\u001b[0;34m(\u001b[0m\u001b[0;34m[\u001b[0m\u001b[0mline\u001b[0m\u001b[0;34m.\u001b[0m\u001b[0mrstrip\u001b[0m\u001b[0;34m(\u001b[0m\u001b[0;34m'\\n'\u001b[0m\u001b[0;34m)\u001b[0m \u001b[0;32mfor\u001b[0m \u001b[0mline\u001b[0m \u001b[0;32min\u001b[0m \u001b[0mlines\u001b[0m\u001b[0;34m]\u001b[0m\u001b[0;34m)\u001b[0m\u001b[0;34m\u001b[0m\u001b[0m\n\u001b[0m\u001b[1;32m    157\u001b[0m     \u001b[0mG\u001b[0m\u001b[0;34m=\u001b[0m\u001b[0mnx\u001b[0m\u001b[0;34m.\u001b[0m\u001b[0mMultiDiGraph\u001b[0m\u001b[0;34m(\u001b[0m\u001b[0;34m)\u001b[0m \u001b[0;31m# are multiedges allowed in Pajek? assume yes\u001b[0m\u001b[0;34m\u001b[0m\u001b[0m\n\u001b[1;32m    158\u001b[0m     \u001b[0;32mwhile\u001b[0m \u001b[0mlines\u001b[0m\u001b[0;34m:\u001b[0m\u001b[0;34m\u001b[0m\u001b[0m\n",
      "\u001b[0;32m/usr/local/lib/python2.7/dist-packages/networkx/readwrite/pajek.pyc\u001b[0m in \u001b[0;36m<genexpr>\u001b[0;34m((line,))\u001b[0m\n\u001b[1;32m    131\u001b[0m     \u001b[0;32mfor\u001b[0m \u001b[0mformat\u001b[0m \u001b[0minformation\u001b[0m\u001b[0;34m.\u001b[0m\u001b[0;34m\u001b[0m\u001b[0m\n\u001b[1;32m    132\u001b[0m     \"\"\"\n\u001b[0;32m--> 133\u001b[0;31m     \u001b[0mlines\u001b[0m \u001b[0;34m=\u001b[0m \u001b[0;34m(\u001b[0m\u001b[0mline\u001b[0m\u001b[0;34m.\u001b[0m\u001b[0mdecode\u001b[0m\u001b[0;34m(\u001b[0m\u001b[0mencoding\u001b[0m\u001b[0;34m)\u001b[0m \u001b[0;32mfor\u001b[0m \u001b[0mline\u001b[0m \u001b[0;32min\u001b[0m \u001b[0mpath\u001b[0m\u001b[0;34m)\u001b[0m\u001b[0;34m\u001b[0m\u001b[0m\n\u001b[0m\u001b[1;32m    134\u001b[0m     \u001b[0;32mreturn\u001b[0m \u001b[0mparse_pajek\u001b[0m\u001b[0;34m(\u001b[0m\u001b[0mlines\u001b[0m\u001b[0;34m)\u001b[0m\u001b[0;34m\u001b[0m\u001b[0m\n\u001b[1;32m    135\u001b[0m \u001b[0;34m\u001b[0m\u001b[0m\n",
      "\u001b[0;31mLookupError\u001b[0m: unknown encoding: lj_friends.net"
     ]
    }
   ],
   "source": [
    "g = net.read_pajek(g, 'lj_friends.net')"
   ]
  },
  {
   "cell_type": "code",
   "execution_count": 214,
   "metadata": {
    "collapsed": false
   },
   "outputs": [],
   "source": [
    "# 다운 받은 파일\n",
    "g = net.read_pajek('russians.net')"
   ]
  },
  {
   "cell_type": "code",
   "execution_count": 148,
   "metadata": {
    "collapsed": true
   },
   "outputs": [],
   "source": [
    "def trim_degrees(g, degree=1):\n",
    "    g2 = g.copy()\n",
    "    d = net.degree(g2)\n",
    "    for n in g2.nodes():\n",
    "        if d[n] <= degree:\n",
    "            g2.remove_node(n)\n",
    "    return g2"
   ]
  },
  {
   "cell_type": "code",
   "execution_count": 149,
   "metadata": {
    "collapsed": true
   },
   "outputs": [],
   "source": [
    "core = trim_degrees(g)"
   ]
  },
  {
   "cell_type": "code",
   "execution_count": 144,
   "metadata": {
    "collapsed": false
   },
   "outputs": [
    {
     "data": {
      "text/plain": [
       "25905"
      ]
     },
     "execution_count": 144,
     "metadata": {},
     "output_type": "execute_result"
    }
   ],
   "source": [
    "len(core)"
   ]
  },
  {
   "cell_type": "code",
   "execution_count": 150,
   "metadata": {
    "collapsed": false
   },
   "outputs": [
    {
     "data": {
      "text/plain": [
       "87250"
      ]
     },
     "execution_count": 150,
     "metadata": {},
     "output_type": "execute_result"
    }
   ],
   "source": [
    "len(g)"
   ]
  },
  {
   "cell_type": "code",
   "execution_count": 151,
   "metadata": {
    "collapsed": true
   },
   "outputs": [],
   "source": [
    "deg = net.degree(g)"
   ]
  },
  {
   "cell_type": "code",
   "execution_count": 152,
   "metadata": {
    "collapsed": false
   },
   "outputs": [
    {
     "data": {
      "text/plain": [
       "{u'svalerievna': 1,\n",
       " u'maly_na': 1,\n",
       " u'koradokosta': 1,\n",
       " u'reinkarni': 2,\n",
       " u'cartoonka': 1,\n",
       " u'prihodi_smotri': 1,\n",
       " u'pocket_girl': 4,\n",
       " u'riendespe': 1,\n",
       " u'musechka': 1,\n",
       " u'chijulia': 1,\n",
       " u'blga': 1,\n",
       " u'gogokostik': 1,\n",
       " u'hieroglyph_elle': 1,\n",
       " u'demettry': 1,\n",
       " u'nata_f_e_ya': 4,\n",
       " u'saburay': 1,\n",
       " u'idealsummer': 1,\n",
       " u'cedov_cergey': 1,\n",
       " u'kharkov_toronto': 1,\n",
       " u'money4you': 6,\n",
       " u'sushka_gim': 1,\n",
       " u'slayerovich': 2,\n",
       " u'azzy_kikoz': 1,\n",
       " u'e_koala': 2,\n",
       " u'indeezzz': 1,\n",
       " u'lyamba': 1,\n",
       " u'fekla13': 1,\n",
       " u'emaslova': 2,\n",
       " u'stepnoy_lis': 1,\n",
       " u'murik_555': 1,\n",
       " u'sonnyk': 2,\n",
       " u'sakura_nu': 2,\n",
       " u'liwingston': 1,\n",
       " u'yuriyk': 2,\n",
       " u'taksus': 1,\n",
       " u'von_tageslicht': 1,\n",
       " u'dionte_zicarel': 1,\n",
       " u'lovesexandmoney': 1,\n",
       " u'span4bob': 1,\n",
       " u'ivar59': 2,\n",
       " u'poupee_russe': 1,\n",
       " u'liana_23b': 1,\n",
       " u'kipriena': 1,\n",
       " u'azuresky2006': 2,\n",
       " u'mary_tudor': 1,\n",
       " u'vivisin': 5,\n",
       " u'zakazfromusa': 1,\n",
       " u'angelita24': 1,\n",
       " u'valja_vorobjoff': 1,\n",
       " u'notolya': 1,\n",
       " u'mr_rrr': 1,\n",
       " u'monsenor': 1,\n",
       " u'xerasse': 1,\n",
       " u'no_lullaby': 1,\n",
       " u'pineki': 1,\n",
       " u'viesel': 1,\n",
       " u'celebs_list': 1,\n",
       " u'novoromantik': 1,\n",
       " u'zaleph': 5,\n",
       " u'zosuspend_mnu': 1,\n",
       " u'ajgul': 2,\n",
       " u'a_nagayna': 1,\n",
       " u'vladimirgin': 4,\n",
       " u'klepacheva': 1,\n",
       " u'luda_berlin': 3,\n",
       " u'p_n_z_8_8': 1,\n",
       " u'darth_bender': 1,\n",
       " u'blackbird_93': 1,\n",
       " u'lernik9491': 1,\n",
       " u'neo_neon': 1,\n",
       " u'andreism': 1,\n",
       " u'xalal4ullag': 3,\n",
       " u'sash13ok': 1,\n",
       " u'_vopros': 1,\n",
       " u'nadeyka_sh': 2,\n",
       " u'mphedoseeva': 2,\n",
       " u'wilmore23': 1,\n",
       " u'zapis_segodny': 2,\n",
       " u'kweenny': 2,\n",
       " u'amalien': 1,\n",
       " u'smuke': 1,\n",
       " u'ffoo': 1,\n",
       " u'274': 1,\n",
       " u'spaccarsi': 4,\n",
       " u'refleksia': 1,\n",
       " u'pani_ga': 1,\n",
       " u'eva_nadu': 1,\n",
       " u'sointransigente': 1,\n",
       " u'designer_plya': 1,\n",
       " u'slivka20': 1,\n",
       " u'humanitarium': 1,\n",
       " u'shakariazia': 2,\n",
       " u'suvorow_': 1,\n",
       " u'ungelt': 2,\n",
       " u'colt_browning': 1,\n",
       " u'adelfofag': 1,\n",
       " u'pawet': 1,\n",
       " u'wild_wild_ash': 1,\n",
       " u'clementine_mil': 2,\n",
       " u'qbeth': 1,\n",
       " u'junmat': 2,\n",
       " u'quarl': 2,\n",
       " u'urd_norman': 1,\n",
       " u'olmeka': 7,\n",
       " u'ehecate': 3,\n",
       " u'verticaltreck': 4,\n",
       " u'amaliaehnsh': 3,\n",
       " u'zanoza_j': 1,\n",
       " u'bumbiere': 3,\n",
       " u'amnuel': 3,\n",
       " u'tat_carera': 1,\n",
       " u'olga_camastra': 2,\n",
       " u'ezhan': 1,\n",
       " u'mgratchyova': 1,\n",
       " u'estlona': 1,\n",
       " u'suntin': 1,\n",
       " u'noizzzefixxxion': 1,\n",
       " u'lakschmi': 1,\n",
       " u'voi_voi': 1,\n",
       " u'yulce': 1,\n",
       " u'negodniki': 1,\n",
       " u'nunya_n': 1,\n",
       " u'zeffiroso': 1,\n",
       " u'leanezoo': 1,\n",
       " u'poshli_nahuy': 1,\n",
       " u'vinta_ks': 1,\n",
       " u'se_mechka': 1,\n",
       " u'kelonjk': 1,\n",
       " u'sunbeam_': 1,\n",
       " u'kidw': 1,\n",
       " u'dorygrey': 2,\n",
       " u'malsinc': 2,\n",
       " u'samadama': 1,\n",
       " u'solvita': 1,\n",
       " u'tulo_spinwolf': 1,\n",
       " u'allenzet': 1,\n",
       " u'vovalcano': 1,\n",
       " u'werton': 1,\n",
       " u'romacha': 1,\n",
       " u'slonikoff_net': 1,\n",
       " u'bisyaka': 1,\n",
       " u'frau_mia': 2,\n",
       " u'v_oktyabre': 1,\n",
       " u'veddma': 2,\n",
       " u'ap_ata': 2,\n",
       " u'dimitri_ts': 1,\n",
       " u'shaulreznik': 9,\n",
       " u'pisankov': 1,\n",
       " u'defrostik': 1,\n",
       " u'alexizm': 2,\n",
       " u'chocolate_tigra': 4,\n",
       " u'elentin': 2,\n",
       " u'adesty': 1,\n",
       " u'catch_': 1,\n",
       " u'shtabss': 3,\n",
       " u'a_n_c_o_r': 1,\n",
       " u'miranduht': 1,\n",
       " u'sterk': 1,\n",
       " u'yanoos': 1,\n",
       " u'battisto': 1,\n",
       " u'launch4you': 1,\n",
       " u'dark_dan': 1,\n",
       " u'pdtplyjcnm': 1,\n",
       " u'fleur_de_cassie': 1,\n",
       " u'kaleidoscope_25': 2,\n",
       " u'tofu_russia': 1,\n",
       " u'anatolyhalizev': 2,\n",
       " u'dilanbim': 2,\n",
       " u'redinteriors': 1,\n",
       " u'positiveonly': 1,\n",
       " u'ur_sun': 2,\n",
       " u'buratilo': 1,\n",
       " u'otto_dracula': 2,\n",
       " u'lolyes': 1,\n",
       " u'alipchik': 2,\n",
       " u'valeks': 2,\n",
       " u'taty528': 1,\n",
       " u'irkku777': 1,\n",
       " u'cannibal': 3,\n",
       " u'rimma_bbusia': 1,\n",
       " u'trequarta': 1,\n",
       " u'dr_divisenko': 1,\n",
       " u'hnyamohnya': 1,\n",
       " u'savenkov': 2,\n",
       " u'kitten_z': 1,\n",
       " u'auth_r': 8,\n",
       " u'goshmarik': 1,\n",
       " u'serapion82': 1,\n",
       " u'koro4ka': 2,\n",
       " u'rustamchik': 1,\n",
       " u'loktev': 1,\n",
       " u'contessa7': 2,\n",
       " u'lusiaparty': 1,\n",
       " u'kuk_ua': 1,\n",
       " u'orechiv': 1,\n",
       " u'coffeetale': 2,\n",
       " u'snorkelstein': 3,\n",
       " u'abeliakov': 1,\n",
       " u'kolenki': 1,\n",
       " u'dvoranord': 4,\n",
       " u'adeelyu': 1,\n",
       " u'nu_ance': 1,\n",
       " u'alternatyva': 1,\n",
       " u'spy_lj': 2,\n",
       " u'punk72': 1,\n",
       " u'aquafea': 2,\n",
       " u'jia_dragon': 1,\n",
       " u'_odinn_': 1,\n",
       " u'turbeeyon': 4,\n",
       " u'borzova_daria': 1,\n",
       " u'kehrmann': 1,\n",
       " u'kenka_lamp': 1,\n",
       " u'crazy_wind': 2,\n",
       " u'wutka': 3,\n",
       " u'nysssya': 1,\n",
       " u'nokino': 1,\n",
       " u'gulnara_maneeva': 1,\n",
       " u'wildcatru': 2,\n",
       " u'theredone': 1,\n",
       " u'lizard__queen': 4,\n",
       " u'artmotion': 2,\n",
       " u'kaizer_tg': 1,\n",
       " u'demographer': 2,\n",
       " u'mulya_diana': 2,\n",
       " u'kletki': 1,\n",
       " u'mari_anna': 2,\n",
       " u'k_stein': 2,\n",
       " u'gourry_aka_pm': 1,\n",
       " u'point_666': 3,\n",
       " u'dazdraperma_k': 2,\n",
       " u'andrelet': 1,\n",
       " u'grassface': 1,\n",
       " u'eva360': 3,\n",
       " u'lucky_delf': 2,\n",
       " u'marizelsu': 1,\n",
       " u'ajojo': 1,\n",
       " u'i_chin': 1,\n",
       " u'yukinochka': 1,\n",
       " u'dmitin': 1,\n",
       " u'forrary': 2,\n",
       " u'_diesel_': 1,\n",
       " u'lonerxxx': 1,\n",
       " u'im_spring': 1,\n",
       " u'mariamz': 4,\n",
       " u'x_style': 1,\n",
       " u'rolliki_com': 1,\n",
       " u'lib_ry': 1,\n",
       " u'olya_lya_': 2,\n",
       " u'i_t': 1,\n",
       " u'jntra': 1,\n",
       " u'ikar_2': 2,\n",
       " u'tasilda': 3,\n",
       " u'daritta': 5,\n",
       " u'absolut_': 1,\n",
       " u'darina29': 1,\n",
       " u'izluchatel': 1,\n",
       " u'lyuniso': 2,\n",
       " u'seioneira': 1,\n",
       " u'mira_a': 1,\n",
       " u'palsmarties': 1,\n",
       " u'fortochka': 8,\n",
       " u'partyofblondes': 1,\n",
       " u'le_haim': 2,\n",
       " u'konsumterra': 1,\n",
       " u'miss_grace': 4,\n",
       " u'delfin_1975': 1,\n",
       " u'lite_lite_lite': 1,\n",
       " u'red_valjok': 1,\n",
       " u'grenzlos': 1,\n",
       " u'_ina_ya_': 1,\n",
       " u'lthdbi': 1,\n",
       " u'tanyastakhanova': 3,\n",
       " u'olwen90': 1,\n",
       " u'swechka': 6,\n",
       " u'gran_aventura': 1,\n",
       " u'medve_ed': 1,\n",
       " u'twilight_g': 1,\n",
       " u'kamenskii': 1,\n",
       " u'yuri_off': 1,\n",
       " u'tom_i_lina': 4,\n",
       " u'dolores_ka': 1,\n",
       " u'otverzhennaia': 1,\n",
       " u'bsng': 1,\n",
       " u'lucky_aka_vera': 1,\n",
       " u'dzokonda': 2,\n",
       " u'anndii': 1,\n",
       " u'_lama': 1,\n",
       " u'belyrabbit': 2,\n",
       " u'pg_bardin': 3,\n",
       " u'ezra_awatara': 1,\n",
       " u'bytmojet': 1,\n",
       " u'anatoliypost': 1,\n",
       " u'hildyulia': 1,\n",
       " u'trunes': 1,\n",
       " u'geenevra': 1,\n",
       " u'lolapokakala': 1,\n",
       " u'svetlaya_lesya': 1,\n",
       " u'lubard_on_line': 1,\n",
       " u'zorraestelar': 1,\n",
       " u'tendress': 1,\n",
       " u'batal0va': 2,\n",
       " u'rabarbar': 1,\n",
       " u'didebuli': 1,\n",
       " u'deodan': 1,\n",
       " u'yusuper': 1,\n",
       " u'sterligov': 2,\n",
       " u'iren_rose': 3,\n",
       " u'hubarevich': 1,\n",
       " u'plucer': 3,\n",
       " u'lady_ester': 1,\n",
       " u'stronge': 1,\n",
       " u'antivit': 2,\n",
       " u'olenka_iv': 1,\n",
       " u'reallaer': 1,\n",
       " u'shakko_kitsune': 2,\n",
       " u'chudonapalochke': 1,\n",
       " u'expert_online': 2,\n",
       " u'star_veselchak': 1,\n",
       " u'cat_ty': 1,\n",
       " u'nashlykid': 1,\n",
       " u'vitaliyshell': 1,\n",
       " u'borzh': 1,\n",
       " u'garciajeans_ukr': 1,\n",
       " u'carpenco': 1,\n",
       " u'epidemiya': 1,\n",
       " u'belleelle': 1,\n",
       " u'gingerella': 5,\n",
       " u'goooseberry': 3,\n",
       " u'tatiana_siver': 1,\n",
       " u'trayma': 1,\n",
       " u'blckwngedroses': 1,\n",
       " u'nattiy': 4,\n",
       " u'nimuravka': 6,\n",
       " u'fif': 14,\n",
       " u'zvezdo4kaman9': 1,\n",
       " u'realya': 1,\n",
       " u'marina_z_s': 2,\n",
       " u'bambookin': 1,\n",
       " u'tsiana': 2,\n",
       " u'alyona_l': 1,\n",
       " u'elena_mihno': 1,\n",
       " u'isida': 1,\n",
       " u'my_sex_dnevnik': 1,\n",
       " u'treatment_child': 1,\n",
       " u'tokuiayasu': 1,\n",
       " u'kapirk': 1,\n",
       " u'13mayapple13': 1,\n",
       " u'cars_drive': 5,\n",
       " u'miayyy': 1,\n",
       " u'insyria': 1,\n",
       " u'scindapsus': 1,\n",
       " u'bublik64': 6,\n",
       " u'le_taxidermiste': 1,\n",
       " u'strizhkov': 1,\n",
       " u'aleks_ter': 2,\n",
       " u'mamkadoctor': 4,\n",
       " u'bnnnnd_spb': 1,\n",
       " u'sova': 2,\n",
       " u'serdcem_i_duwoj': 1,\n",
       " u'edostavka': 2,\n",
       " u'maupiti': 2,\n",
       " u'burtin': 4,\n",
       " u'nt4friends': 1,\n",
       " u'lenavoronova': 1,\n",
       " u'xj_philphil': 1,\n",
       " u'free_emotion': 1,\n",
       " u'kerberusha': 2,\n",
       " u'kurrguzova': 1,\n",
       " u'fasol_bobovay': 1,\n",
       " u'04manska9': 1,\n",
       " u'_bbw': 4,\n",
       " u'spawn_garret': 1,\n",
       " u'_evo': 1,\n",
       " u'ezhi_mil': 1,\n",
       " u'katya_alagich': 3,\n",
       " u'femme_exotique': 1,\n",
       " u'hvostt': 1,\n",
       " u'_superv_': 1,\n",
       " u'donnna_rosa': 2,\n",
       " u'nadorich': 1,\n",
       " u'red_ashberry': 2,\n",
       " u'langusta': 1,\n",
       " u'stopnews_net': 1,\n",
       " u'alevtinamaryina': 2,\n",
       " u'tristana_nata': 1,\n",
       " u'superbody2': 1,\n",
       " u'matv2hoda': 2,\n",
       " u'isya': 1,\n",
       " u'dr_glebson': 1,\n",
       " u'cn_mangetsu': 1,\n",
       " u'mira_shultz': 2,\n",
       " u'vmulder': 1,\n",
       " u'luwyt': 1,\n",
       " u'a5zima': 1,\n",
       " u'na_belka': 1,\n",
       " u'allaq': 3,\n",
       " u'pepsiman6': 1,\n",
       " u'la_cappadocia': 3,\n",
       " u'svvallovv': 1,\n",
       " u'in_dee': 1,\n",
       " u'tabby_ru': 1,\n",
       " u'katrin_84': 1,\n",
       " u'edodolev': 2,\n",
       " u'chekesha': 2,\n",
       " u'thecode': 2,\n",
       " u'avaku': 1,\n",
       " u'avaks': 1,\n",
       " u'und333': 2,\n",
       " u'izubra': 2,\n",
       " u'_snusmumrik': 3,\n",
       " u'rinamari': 2,\n",
       " u'raaddist': 1,\n",
       " u'sol_fasol': 1,\n",
       " u'mazul': 1,\n",
       " u'holly_inna': 1,\n",
       " u'tany_06': 1,\n",
       " u'd_r_i_v_e': 1,\n",
       " u'anna_move': 9,\n",
       " u'belmondodi': 1,\n",
       " u'abramovv': 3,\n",
       " u'stasiaa': 2,\n",
       " u'lake_spirit': 2,\n",
       " u'kozlevski': 2,\n",
       " u'dorenko': 1,\n",
       " u'olga_myakota': 1,\n",
       " u'asyasyai': 4,\n",
       " u'graf_vk': 1,\n",
       " u'natalia1974': 1,\n",
       " u'irishka51254': 1,\n",
       " u'vg36': 2,\n",
       " u'pustota1': 1,\n",
       " u'jinjer_flover': 2,\n",
       " u'serg_stepan': 1,\n",
       " u'valet_k': 1,\n",
       " u'lemur_lori': 5,\n",
       " u'kolzina': 1,\n",
       " u'i_crust': 14,\n",
       " u'penguin_lolo': 1,\n",
       " u'anfisiy': 1,\n",
       " u'loralains': 7,\n",
       " u'tatzay': 1,\n",
       " u'nasekomof': 3,\n",
       " u'chumak2005': 1,\n",
       " u'illeniya': 2,\n",
       " u'ya_puchu_glaz': 1,\n",
       " u'iaugen': 1,\n",
       " u'panda_684': 3,\n",
       " u'slaw_alena': 2,\n",
       " u'ne_prosto_mama': 1,\n",
       " u'mavka_lisova': 2,\n",
       " u'aushedg': 1,\n",
       " u'cosmophoto': 1,\n",
       " u'kris_tall': 3,\n",
       " u'asatokenji': 1,\n",
       " u'brest_stroit': 2,\n",
       " u'tanjas': 1,\n",
       " u'nati_nata': 1,\n",
       " u'tan_go': 2,\n",
       " u'olgatallinn': 1,\n",
       " u'arsbam': 2,\n",
       " u'belorusska': 1,\n",
       " u'ladyganesha': 2,\n",
       " u'greenmara': 2,\n",
       " u'back_in_me': 1,\n",
       " u'vooglooskr': 1,\n",
       " u'deligia': 2,\n",
       " u'nobrow': 2,\n",
       " u'malashka': 4,\n",
       " u'vati_1978': 1,\n",
       " u'palcev': 1,\n",
       " u'cherny_bada': 2,\n",
       " u'deadshadow': 3,\n",
       " u'bridgetjones_ny': 8,\n",
       " u'alex_nik': 1,\n",
       " u'shefchenko': 1,\n",
       " u'saranko': 2,\n",
       " u'avprokofiev': 1,\n",
       " u'your_eithery': 3,\n",
       " u'jannatt': 3,\n",
       " u'superolga': 1,\n",
       " u'anlahel': 1,\n",
       " u'alenochkav': 1,\n",
       " u'kseniapinto': 1,\n",
       " u'morskayaaa': 1,\n",
       " u'alena_stepanova': 1,\n",
       " u'step05': 1,\n",
       " u'vi_1981': 1,\n",
       " u'sa_ba': 2,\n",
       " u'lis_andra': 1,\n",
       " u'azatsh': 1,\n",
       " u'dimka_plotnikov': 1,\n",
       " u'pal_petrovich': 3,\n",
       " u'vgerzane': 1,\n",
       " u'lolly_diva': 4,\n",
       " u'cccameron': 1,\n",
       " u'lightvanilla': 1,\n",
       " u'krem_brulle': 4,\n",
       " u'kvito4ek': 2,\n",
       " u'anetak': 2,\n",
       " u'zloe_tetko': 2,\n",
       " u'dikiy_yojik': 1,\n",
       " u'nurmamed': 1,\n",
       " u'kf4': 1,\n",
       " u'kapelsin': 1,\n",
       " u'ksu_ipekakuana': 1,\n",
       " u'aelita_forget': 1,\n",
       " u'vesnushkacat': 1,\n",
       " u'dieweiseeule': 2,\n",
       " u'a1eksan9ra': 1,\n",
       " u'vladika_fokina': 1,\n",
       " u'_tori_': 2,\n",
       " u'teyli_tei': 1,\n",
       " u'sandrixxx': 2,\n",
       " u'ardesign': 1,\n",
       " u'alexwilf': 1,\n",
       " u'gis_girl': 1,\n",
       " u'xmelnikov': 1,\n",
       " u'alexia_belka': 1,\n",
       " u'godosha': 1,\n",
       " u'foxly': 2,\n",
       " u'011615': 1,\n",
       " u'polmuaddib': 1,\n",
       " u'temik319': 3,\n",
       " u'yarosh_ka': 1,\n",
       " u'expatka': 1,\n",
       " u'musictube_ru': 4,\n",
       " u'ksandr10': 2,\n",
       " u'terricola': 2,\n",
       " u'lunnaya_belka': 2,\n",
       " u'shperk': 2,\n",
       " u'stoit_v_teni': 1,\n",
       " u'tyrichavp': 1,\n",
       " u'achtung_com_ua': 1,\n",
       " u'fuckeach': 1,\n",
       " u'eva_flint': 1,\n",
       " u'sonceniatko': 2,\n",
       " u'agnesmy': 1,\n",
       " u'ingunn_helge': 1,\n",
       " u'open_air_nu': 2,\n",
       " u'pjoter_ivanov': 1,\n",
       " u'rits': 3,\n",
       " u'musikk': 2,\n",
       " u'freedom_consult': 1,\n",
       " u'shaniaxe': 1,\n",
       " u'winston_two': 1,\n",
       " u'lola_lilith': 1,\n",
       " u'xlica27': 2,\n",
       " u'saplady': 1,\n",
       " u'ixci': 1,\n",
       " u'emo_chaos': 1,\n",
       " u'goddamn_russkie': 1,\n",
       " u'lovely_g': 2,\n",
       " u'asja_solnce': 1,\n",
       " u'hsot': 1,\n",
       " u'supremsokol': 1,\n",
       " u'boevoi_zayats': 1,\n",
       " u'deus_quartet': 1,\n",
       " u'diabelek': 8,\n",
       " u'telavivit': 2,\n",
       " u'teatr_vkusa': 1,\n",
       " u'vgo': 1,\n",
       " u'boberrulit': 1,\n",
       " u'in_opposition': 1,\n",
       " u'chimaerandi': 1,\n",
       " u'f1ct1_on': 1,\n",
       " u'soave': 2,\n",
       " u'giraffka': 2,\n",
       " u'bonafiden': 8,\n",
       " u'krasota007': 1,\n",
       " u'talentjr': 1,\n",
       " u'mitek_mitekych': 1,\n",
       " u'zhevtun': 1,\n",
       " u'bip': 5,\n",
       " u'margo_na': 1,\n",
       " u'oprion': 1,\n",
       " u'1satana': 3,\n",
       " u'kriff': 1,\n",
       " u'besheniy67': 1,\n",
       " u'super_novij': 1,\n",
       " u'hot_dognitsa': 1,\n",
       " u'volkar': 1,\n",
       " u'triss_m': 1,\n",
       " u'ohnegrenzen': 1,\n",
       " u'varenik123456': 1,\n",
       " u'denius': 1,\n",
       " u'whitechocolad': 1,\n",
       " u'seo4nik': 1,\n",
       " u'mr_quietest': 8,\n",
       " u'ne_napokaz': 1,\n",
       " u'oxania': 1,\n",
       " u'i_beauty': 1,\n",
       " u'arkady1': 1,\n",
       " u'best_sisters': 2,\n",
       " u'krechetova': 2,\n",
       " u'lc_players': 1,\n",
       " u'deniszheleznyy': 1,\n",
       " u'robinzon_girl': 1,\n",
       " u'elle_belle10': 12,\n",
       " u'yabloki_tybloki': 1,\n",
       " u'argentea_ya': 1,\n",
       " u'mkoenig': 2,\n",
       " u'sexonly': 1,\n",
       " u'dzetta': 3,\n",
       " u'quaeritans': 1,\n",
       " u'radegost': 2,\n",
       " u'dj_ladydisco': 1,\n",
       " u'garret_lab': 1,\n",
       " u'barolya': 1,\n",
       " u'gazirovannaja': 3,\n",
       " u'0ffline': 1,\n",
       " u'mellot': 1,\n",
       " u'poma': 4,\n",
       " u'sibeira': 1,\n",
       " u'charunga': 1,\n",
       " u'uqbar': 2,\n",
       " u'droanton': 1,\n",
       " u'krestiknolik': 1,\n",
       " u'credo_always': 1,\n",
       " u'joe_chasmtons': 2,\n",
       " u'kroshka_enot_': 6,\n",
       " u'yellow_rat': 3,\n",
       " u'miau_marusya': 1,\n",
       " u'alfalfalfa': 1,\n",
       " u'inmymind_kirill': 1,\n",
       " u'ar_asti': 1,\n",
       " u'lenochka11': 1,\n",
       " u'matilda_ussr': 1,\n",
       " u'ann_orlova': 1,\n",
       " u'vechnaia_zima': 1,\n",
       " u'otello': 1,\n",
       " u'crimblecromble': 2,\n",
       " u'varvarra': 3,\n",
       " u'mobis33': 1,\n",
       " u'kumiko_artistka': 1,\n",
       " u'domkratov': 1,\n",
       " u'temptee': 4,\n",
       " u'mikeg_99': 2,\n",
       " u'deatravel': 1,\n",
       " u'i_n_n': 2,\n",
       " u'simcha_eichel': 1,\n",
       " u'ala_guerre': 2,\n",
       " u'likeladygodiva': 1,\n",
       " u'tanyat': 1,\n",
       " u'korolka': 2,\n",
       " u'irena_iris': 4,\n",
       " u'orleanz': 4,\n",
       " u'zzubr': 1,\n",
       " u'indig0z': 3,\n",
       " u'gainarain': 1,\n",
       " u'alindra': 1,\n",
       " u'cnayhuto': 1,\n",
       " u'tigra_katy': 2,\n",
       " u'rock_f': 1,\n",
       " u'dushegubik': 1,\n",
       " u'shpion14': 1,\n",
       " u'radostev_v': 1,\n",
       " u'moerta': 2,\n",
       " u'veryloving': 1,\n",
       " u'bulfriend': 3,\n",
       " u'_shpulka': 4,\n",
       " u'elena_biber': 2,\n",
       " u'upiachka': 1,\n",
       " u'_tankist': 1,\n",
       " u'marineval': 1,\n",
       " u'okhalatnikova': 1,\n",
       " u'ajushka': 1,\n",
       " u'stobla': 1,\n",
       " u'xujasse': 1,\n",
       " u'shtykh': 1,\n",
       " u'zapitaya': 4,\n",
       " u'stichelmeister': 2,\n",
       " u'young_pickup': 1,\n",
       " u'anirinka': 7,\n",
       " u'polit_mudak': 1,\n",
       " u'6atenka': 1,\n",
       " u'teplitskaya_mod': 1,\n",
       " u'puchs': 1,\n",
       " u'towerkeeper': 1,\n",
       " u'monusya': 1,\n",
       " u'twaneq': 1,\n",
       " u'f_lia': 1,\n",
       " u'peggy_s': 4,\n",
       " u'zverenush': 1,\n",
       " u'arctickfox1911': 1,\n",
       " u'carmmen': 1,\n",
       " u'avotiya': 3,\n",
       " u'flying_bee2': 1,\n",
       " u'clips_': 1,\n",
       " u'maxteror': 1,\n",
       " u'mclaren2000': 1,\n",
       " u'ys_pumpui': 1,\n",
       " u'pampulus': 4,\n",
       " u'kizhajla': 1,\n",
       " u'thebestya': 3,\n",
       " u'konoza': 1,\n",
       " u'elbonia': 4,\n",
       " u'madamchic': 1,\n",
       " u'holy_lunacy': 1,\n",
       " u'de_kor': 1,\n",
       " u'sentfromupabove': 2,\n",
       " u'igor_mkrt': 12,\n",
       " u'cheshire_pig': 7,\n",
       " u'kucha_mala': 7,\n",
       " u'minimum_riska': 1,\n",
       " u'nishtyak': 1,\n",
       " u'nadiki': 1,\n",
       " u'its_funky': 1,\n",
       " u'apo_monitor': 1,\n",
       " u'moon_abbys': 1,\n",
       " u'_gromova_': 1,\n",
       " u'trivee': 1,\n",
       " u'webdevel': 1,\n",
       " u'twix7681': 1,\n",
       " u'immoralist': 26,\n",
       " u'n0vikova': 3,\n",
       " u'charliesies': 3,\n",
       " u'zelda_cat': 1,\n",
       " u'tolstiy': 2,\n",
       " u'marianner': 1,\n",
       " u'lavictoria': 1,\n",
       " u'ponka_kiev': 1,\n",
       " u'diyara': 1,\n",
       " u'gladworld': 2,\n",
       " u'starayakniga': 3,\n",
       " u'molodoy_4emodan': 3,\n",
       " u'wowwife': 1,\n",
       " u'iry': 2,\n",
       " u'mikeorl': 4,\n",
       " u'oldbore': 1,\n",
       " u'lenusch11': 2,\n",
       " u'freeraser': 1,\n",
       " u'irr': 2,\n",
       " u'no_speech': 2,\n",
       " u'djechka_vorobei': 1,\n",
       " u'posovetui': 2,\n",
       " u'segodnya': 4,\n",
       " u'laoshe': 2,\n",
       " u'akm_akm': 1,\n",
       " u'hina_chleck': 1,\n",
       " u'esfrodl': 2,\n",
       " u'x_polkovnik': 1,\n",
       " u'jinjerd': 3,\n",
       " u'violin_fox': 1,\n",
       " u'f_developer': 1,\n",
       " u'panthure': 2,\n",
       " u'shelter_a': 1,\n",
       " u'koza_nostra': 1,\n",
       " u'ane4ka_zajc': 1,\n",
       " u'zubnik_fabrique': 1,\n",
       " u'rttv': 1,\n",
       " u'zajchevskij': 1,\n",
       " u'candelila': 1,\n",
       " u'borschhh': 1,\n",
       " u'klotti': 2,\n",
       " u'capuchin_ka': 1,\n",
       " u'squo': 1,\n",
       " u'sun_day': 1,\n",
       " u'munakokkelli': 1,\n",
       " u'oui_cannelle': 1,\n",
       " u'almira2005': 947,\n",
       " u'nikesha': 1,\n",
       " u'ggmarketing': 1,\n",
       " u'paparachi': 1,\n",
       " u'mina_und_otto': 1,\n",
       " u'loftetagi': 1,\n",
       " u'nob239': 1,\n",
       " u'babulja': 1,\n",
       " u'lucysd': 1,\n",
       " u'm_ul_s': 1,\n",
       " u'winniepooh_i_k': 3,\n",
       " u'soljarka': 1,\n",
       " u'a_4_ia': 1,\n",
       " u'natasha_kob': 1,\n",
       " u'lukerija': 1,\n",
       " u'lark_dis': 2,\n",
       " u'a_bl': 1,\n",
       " u'moravit': 1,\n",
       " u'denisuy': 1,\n",
       " u'u_l_i_n_k_a': 2,\n",
       " u'vuzya': 1,\n",
       " u'miss_4erry': 1,\n",
       " u'ce_man': 1,\n",
       " u'chelovek': 1,\n",
       " u'kino_bez_graniz': 1,\n",
       " u'la_lezarde': 3,\n",
       " u'n013e': 2,\n",
       " u'its_ma_life': 1,\n",
       " u'garfield_y': 5,\n",
       " u'karrykarry': 1,\n",
       " u'bod_hi': 1,\n",
       " u'dzyubochka': 2,\n",
       " u'yahoo_zloi': 1,\n",
       " u'nettless': 3,\n",
       " u'organs_pusher': 2,\n",
       " u'garfield_s': 3,\n",
       " u'x_line': 1,\n",
       " u'vasi_lisa': 1,\n",
       " u'furzicle': 1,\n",
       " u'izummmm': 2,\n",
       " u'vlodamir': 1,\n",
       " u'new_azzia': 1,\n",
       " u'devushka_mechty': 1,\n",
       " u'lledanni': 3,\n",
       " u'mmontecarlo': 1,\n",
       " u'basque': 3,\n",
       " u'deferre': 6,\n",
       " u'grimmy3d': 1,\n",
       " u'ice_nugget': 1,\n",
       " u'yuliaskrap': 1,\n",
       " u'odri_hepbern': 1,\n",
       " u'onikuz': 1,\n",
       " u'dimqa': 1,\n",
       " u'totsvet': 2,\n",
       " u'voblic': 3,\n",
       " u'white_ashes_13': 1,\n",
       " u'leelasf': 1,\n",
       " u'a_galaxy': 2,\n",
       " u'olejnik': 6,\n",
       " u'lana_kou': 3,\n",
       " u'frr': 2,\n",
       " u'visnushko': 1,\n",
       " u'noger_vruker': 1,\n",
       " u'detenish': 4,\n",
       " u'art_gudkof': 1,\n",
       " u'shlyahtich': 4,\n",
       " u'naife': 1,\n",
       " u'__cara__': 1,\n",
       " u'vi_laschenov': 1,\n",
       " u'kvakshi': 4,\n",
       " u'_sone4ka': 1,\n",
       " u'regul': 2,\n",
       " u'wwwnastenawww': 1,\n",
       " u'mahaon_ysh': 1,\n",
       " u'ryzhaya_zluchka': 2,\n",
       " u'ivkoshkin': 1,\n",
       " u'perlovka_blog': 2,\n",
       " u'janataha': 2,\n",
       " u'kondratti': 2,\n",
       " u'masam_3': 1,\n",
       " u'kala_hansa': 1,\n",
       " u'busyana': 1,\n",
       " u'jeol': 7,\n",
       " u'tazmaniand_evil': 1,\n",
       " u'novi_9': 2,\n",
       " u'rina_grant': 1,\n",
       " u'lomenille': 1,\n",
       " u'sergei_anufriev': 1,\n",
       " u'string_fever': 1,\n",
       " u'zvetok_sakuri': 1,\n",
       " u'brilly23': 1,\n",
       " u'molcaxitl': 1,\n",
       " u'kikimora_b': 6,\n",
       " u'azbonfad': 1,\n",
       " u'zakata': 3,\n",
       " u'inessa_b': 4,\n",
       " u'intaf': 3,\n",
       " u'assolata': 2,\n",
       " u'nattiko': 1,\n",
       " u'eto_ne_ona': 1,\n",
       " u'm_paramonov': 1,\n",
       " u'vitbel2000': 1,\n",
       " u'nadejda_ivanova': 1,\n",
       " u'damirs': 1,\n",
       " u'hydrargirum': 1,\n",
       " u'reshetnikoff2': 1,\n",
       " u'3lobotryasov': 1,\n",
       " u'sschfdrz': 3,\n",
       " u'inessa_v': 3,\n",
       " u'a_vysotskiy': 1,\n",
       " u'rmorga': 1,\n",
       " u'nasuto_procione': 1,\n",
       " u'shupaka': 2,\n",
       " u'zalmax': 2,\n",
       " u'builtforcomfort': 1,\n",
       " u'willy_sever': 1,\n",
       " u'mfermin': 1,\n",
       " u'shutov_sparkle': 2,\n",
       " u'arhangelsky': 1,\n",
       " u'gobuz': 2,\n",
       " u'ssolaa': 5,\n",
       " u'mother_jones': 2,\n",
       " u'swiss_wife': 2,\n",
       " u'mishka_kaola': 2,\n",
       " u'san4a': 1,\n",
       " u'doctorbrunja': 1,\n",
       " u'all_abaut': 2,\n",
       " u'n_e': 1,\n",
       " u'igornem': 1,\n",
       " u'anaeill_nitting': 1,\n",
       " u'foshizd': 1,\n",
       " u'oygenn': 1,\n",
       " u'err0r_404': 2,\n",
       " u'sandeys': 1,\n",
       " u'principall': 1,\n",
       " u'milewska': 1,\n",
       " u'ice_skws': 1,\n",
       " u'tejido': 1,\n",
       " u'discreet_chaos': 1,\n",
       " u'loushu': 2,\n",
       " u'djtonik': 1,\n",
       " u'zench': 2,\n",
       " u'yellowsmoke1': 2,\n",
       " u'scaramel': 1,\n",
       " u'andrushka_il': 4,\n",
       " u'valenok8': 1,\n",
       " u'gl_notes': 1,\n",
       " u'n_a_d_i': 1,\n",
       " u'loandr': 1,\n",
       " u'krootee': 1,\n",
       " u'l_ek_a': 1,\n",
       " u'devochk0': 1,\n",
       " u'true_sergio': 1,\n",
       " u'fiquet': 1,\n",
       " u'chek_100': 3,\n",
       " u'zhukola': 1,\n",
       " u'guruken': 1,\n",
       " u'ph_b': 4,\n",
       " u'baby_malishka': 1,\n",
       " u'mm_jam': 2,\n",
       " u'81les': 1,\n",
       " u'0l0': 3,\n",
       " u'socialism_vk': 2,\n",
       " u'boziya_korovka': 1,\n",
       " u'bazjak': 1,\n",
       " u'georgich': 1,\n",
       " u'i_marka': 1,\n",
       " u'v_olga_dnepr': 2,\n",
       " u'chidora': 1,\n",
       " u'gorbarsky': 1,\n",
       " u'morgulis': 4,\n",
       " u'elfen_bride': 1,\n",
       " u'lepeztok': 2,\n",
       " u'liilaa': 2,\n",
       " u'solga77': 2,\n",
       " u'segan89': 1,\n",
       " u'katsik': 3,\n",
       " u'mashaeihen': 1,\n",
       " u'shuvovse': 8,\n",
       " u'noblewoman': 2,\n",
       " u'el_kat': 1,\n",
       " u'shining_drop': 1,\n",
       " u'kreolan': 3,\n",
       " u'f_lynx': 1,\n",
       " u'ksjuh': 3,\n",
       " u'nikitina_mama': 2,\n",
       " u'krylovilya': 1,\n",
       " u'lady_catarina': 1,\n",
       " u'okwind': 1,\n",
       " u'drbashlachev': 1,\n",
       " u'ortivika': 407,\n",
       " u'glukagain': 1,\n",
       " u'hans_zivers': 1,\n",
       " u'tsisar': 4,\n",
       " u'glebfedin': 3,\n",
       " u'mona81': 2,\n",
       " u'prometa': 4,\n",
       " u'masterlab': 1,\n",
       " u'kaidenceex': 1,\n",
       " u'sicvom': 1,\n",
       " u'elkur': 1,\n",
       " u'lar_uss': 2,\n",
       " u'jimbolaya': 1,\n",
       " u'stnn': 4,\n",
       " u'stnk': 2,\n",
       " u'eos_ta': 1,\n",
       " u'ksurrrealizm': 1,\n",
       " u'morestry': 1,\n",
       " u'0_stranger': 1,\n",
       " u'anirik_01': 1,\n",
       " u'nostalgie_ee': 4,\n",
       " u'algira': 1,\n",
       " u'my_za': 1,\n",
       " u'gelmasha': 2,\n",
       " u'gleolite': 3,\n",
       " u'feofan79': 2,\n",
       " u'scheslvit': 1,\n",
       " u'fatcomposer': 1,\n",
       " u'elena_kiev': 1,\n",
       " u'chanush': 2,\n",
       " u'hotshkin': 1,\n",
       " u'aplastinin': 1,\n",
       " u'prosto_tosha': 2,\n",
       " u'adelja': 1,\n",
       " u'rediska_2': 1,\n",
       " u'you93': 1,\n",
       " u'lipovetc': 1,\n",
       " u'kapara2005': 2,\n",
       " u'trans20006': 2,\n",
       " u'vrazilo': 1,\n",
       " u'bibigosha': 4,\n",
       " u'dovshalom': 1,\n",
       " u'lpberia': 1,\n",
       " u'lchak': 2,\n",
       " u'dawnetak': 1,\n",
       " u'tai_tay': 2,\n",
       " u'kloodj': 1,\n",
       " u'prosto_ya_n': 2,\n",
       " u'ksenia': 2,\n",
       " u'koz_a_la_nues': 2,\n",
       " u'dedran': 7,\n",
       " ...}"
      ]
     },
     "execution_count": 152,
     "metadata": {},
     "output_type": "execute_result"
    }
   ],
   "source": [
    "deg"
   ]
  },
  {
   "cell_type": "code",
   "execution_count": 153,
   "metadata": {
    "collapsed": false
   },
   "outputs": [
    {
     "data": {
      "text/plain": [
       "232"
      ]
     },
     "execution_count": 153,
     "metadata": {},
     "output_type": "execute_result"
    }
   ],
   "source": [
    "deg['valerois']"
   ]
  },
  {
   "cell_type": "code",
   "execution_count": 154,
   "metadata": {
    "collapsed": false
   },
   "outputs": [
    {
     "data": {
      "text/plain": [
       "1"
      ]
     },
     "execution_count": 154,
     "metadata": {},
     "output_type": "execute_result"
    }
   ],
   "source": [
    "min(deg.values())"
   ]
  },
  {
   "cell_type": "code",
   "execution_count": 155,
   "metadata": {
    "collapsed": false
   },
   "outputs": [
    {
     "data": {
      "text/plain": [
       "4691"
      ]
     },
     "execution_count": 155,
     "metadata": {},
     "output_type": "execute_result"
    }
   ],
   "source": [
    "max(deg.values())"
   ]
  },
  {
   "cell_type": "code",
   "execution_count": 156,
   "metadata": {
    "collapsed": true
   },
   "outputs": [],
   "source": [
    "def sorted_map(map):\n",
    "    return sorted(map.iteritems(), key=lambda(k, v): (-v, k))"
   ]
  },
  {
   "cell_type": "code",
   "execution_count": 157,
   "metadata": {
    "collapsed": false,
    "scrolled": false
   },
   "outputs": [
    {
     "data": {
      "text/plain": [
       "[(u'borisakunin', 4691),\n",
       " (u'doctor_liza', 3046),\n",
       " (u'tareeva', 2970),\n",
       " (u'cheger', 2887),\n",
       " (u'karial', 2717),\n",
       " (u'snorapp', 2707),\n",
       " (u'masha_koroleva', 2683)]"
      ]
     },
     "execution_count": 157,
     "metadata": {},
     "output_type": "execute_result"
    }
   ],
   "source": [
    "sorted_map(deg)[:7]"
   ]
  },
  {
   "cell_type": "code",
   "execution_count": 180,
   "metadata": {
    "collapsed": false
   },
   "outputs": [
    {
     "data": {
      "image/png": "[encoded data removed]",
      "text/plain": [
       "<matplotlib.figure.Figure at 0x7efdbe74cd90>"
      ]
     },
     "metadata": {},
     "output_type": "display_data"
    }
   ],
   "source": [
    "h = plt.hist(sorted(deg.values()), bins=100)"
   ]
  },
  {
   "cell_type": "code",
   "execution_count": 181,
   "metadata": {
    "collapsed": false,
    "scrolled": true
   },
   "outputs": [
    {
     "data": {
      "text/plain": [
       "[<matplotlib.lines.Line2D at 0x7efdc0f25bd0>]"
      ]
     },
     "execution_count": 181,
     "metadata": {},
     "output_type": "execute_result"
    },
    {
     "data": {
      "image/png": "[encoded data removed]",
      "text/plain": [
       "<matplotlib.figure.Figure at 0x7efdc886cb90>"
      ]
     },
     "metadata": {},
     "output_type": "display_data"
    }
   ],
   "source": [
    "plt.loglog(h[1][1:], h[0])"
   ]
  },
  {
   "cell_type": "code",
   "execution_count": 172,
   "metadata": {
    "collapsed": false
   },
   "outputs": [
    {
     "data": {
      "text/plain": [
       "101"
      ]
     },
     "execution_count": 172,
     "metadata": {},
     "output_type": "execute_result"
    }
   ],
   "source": [
    "len(bins)"
   ]
  },
  {
   "cell_type": "code",
   "execution_count": 182,
   "metadata": {
    "collapsed": false,
    "scrolled": false
   },
   "outputs": [
    {
     "data": {
      "image/png": "[encoded data removed]",
      "text/plain": [
       "<matplotlib.figure.Figure at 0x7efdbc22cad0>"
      ]
     },
     "metadata": {},
     "output_type": "display_data"
    }
   ],
   "source": [
    "n, bins, patches = plt.hist(sorted(deg.values()), bins=100)"
   ]
  },
  {
   "cell_type": "code",
   "execution_count": 204,
   "metadata": {
    "collapsed": false
   },
   "outputs": [
    {
     "data": {
      "text/plain": [
       "[<matplotlib.lines.Line2D at 0x7efdc07c9610>]"
      ]
     },
     "execution_count": 204,
     "metadata": {},
     "output_type": "execute_result"
    },
    {
     "data": {
      "image/png": "[encoded data removed]",
      "text/plain": [
       "<matplotlib.figure.Figure at 0x7efdc944a1d0>"
      ]
     },
     "metadata": {},
     "output_type": "display_data"
    }
   ],
   "source": [
    "# x축-bins[1:], y축-n\n",
    "plt.loglog(bins[1:], n)"
   ]
  },
  {
   "cell_type": "code",
   "execution_count": 209,
   "metadata": {
    "collapsed": true
   },
   "outputs": [],
   "source": [
    "import numpy as np"
   ]
  },
  {
   "cell_type": "code",
   "execution_count": 211,
   "metadata": {
    "collapsed": false
   },
   "outputs": [
    {
     "data": {
      "text/plain": [
       "0.0"
      ]
     },
     "execution_count": 211,
     "metadata": {},
     "output_type": "execute_result"
    }
   ],
   "source": [
    "np.log10(1)"
   ]
  },
  {
   "cell_type": "code",
   "execution_count": 158,
   "metadata": {
    "collapsed": true
   },
   "outputs": [],
   "source": [
    "import matplotlib.pyplot as plt"
   ]
  },
  {
   "cell_type": "code",
   "execution_count": 159,
   "metadata": {
    "collapsed": false
   },
   "outputs": [
    {
     "data": {
      "text/plain": [
       "87250"
      ]
     },
     "execution_count": 159,
     "metadata": {},
     "output_type": "execute_result"
    }
   ],
   "source": [
    "len(deg.values())"
   ]
  },
  {
   "cell_type": "code",
   "execution_count": 160,
   "metadata": {
    "collapsed": false
   },
   "outputs": [
    {
     "data": {
      "image/png": "[encoded data removed]",
      "text/plain": [
       "<matplotlib.figure.Figure at 0x7efdbff56510>"
      ]
     },
     "metadata": {},
     "output_type": "display_data"
    }
   ],
   "source": [
    "h = plt.hist(deg.values(), bins=10)"
   ]
  },
  {
   "cell_type": "code",
   "execution_count": 139,
   "metadata": {
    "collapsed": false
   },
   "outputs": [
    {
     "data": {
      "text/plain": [
       "[<matplotlib.lines.Line2D at 0x7efdc9111790>]"
      ]
     },
     "execution_count": 139,
     "metadata": {},
     "output_type": "execute_result"
    },
    {
     "data": {
      "image/png": "[encoded data removed]",
      "text/plain": [
       "<matplotlib.figure.Figure at 0x7efdc8b54410>"
      ]
     },
     "metadata": {},
     "output_type": "display_data"
    }
   ],
   "source": [
    "plt.loglog(h[1][1:], h[0])"
   ]
  },
  {
   "cell_type": "code",
   "execution_count": 108,
   "metadata": {
    "collapsed": false
   },
   "outputs": [
    {
     "data": {
      "text/plain": [
       "100"
      ]
     },
     "execution_count": 108,
     "metadata": {},
     "output_type": "execute_result"
    }
   ],
   "source": [
    "len(h[0])"
   ]
  },
  {
   "cell_type": "code",
   "execution_count": 37,
   "metadata": {
    "collapsed": false
   },
   "outputs": [
    {
     "data": {
      "text/plain": [
       "[<matplotlib.lines.Line2D at 0x7efdc942a810>]"
      ]
     },
     "execution_count": 37,
     "metadata": {},
     "output_type": "execute_result"
    },
    {
     "data": {
      "image/png": "[encoded data removed]",
      "text/plain": [
       "<matplotlib.figure.Figure at 0x7efdc9498c10>"
      ]
     },
     "metadata": {},
     "output_type": "display_data"
    }
   ],
   "source": [
    "plt.plot(h[1][1:], h[0])"
   ]
  }
 ],
 "metadata": {
  "kernelspec": {
   "display_name": "Python 2",
   "language": "python",
   "name": "python2"
  },
  "language_info": {
   "codemirror_mode": {
    "name": "ipython",
    "version": 2
   },
   "file_extension": ".py",
   "mimetype": "text/x-python",
   "name": "python",
   "nbconvert_exporter": "python",
   "pygments_lexer": "ipython2",
   "version": "2.7.12"
  }
 },
 "nbformat": 4,
 "nbformat_minor": 2
}
