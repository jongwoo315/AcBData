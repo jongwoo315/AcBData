{
 "cells": [
  {
   "cell_type": "markdown",
   "metadata": {},
   "source": [
    "1. names 데이터를 로딩해 하나의 데이터로 concat\n",
    "2. 성별, 년도별로 그룹핑하여 sum하고 이를 plotting하시오\n",
    "3. 데이터 info를 확인하시오\n",
    "4. births로 sorting하시오\n",
    "5. row를 'year', col을 'name'으로 하여 pivot table 생성\n",
    "6. 위의 피벗 테이블에서 'john', 'harry', 'marry', 'marilyn' 필드를 취한 다음 plotting할 것\n",
    "7. 2010년도에 태어난 boys들만 indexing\n",
    "8. 아동 이름의 변화 추세를 알아보기 위해\n",
    "    - 아동 이름으로부터 마지막 문자를 취해 저장\n",
    "    - row는 마지막 문자, cols는 'sex', 'year'로 pivot_table을 생성\n",
    "    - 위의 pivot_table에서 columns를 1910, 1960, 2010년만 취해 reindex하시오\n",
    "    - 위 결과와 sex별, year별 합계를 구하시오\n",
    "    - 남녀로 구반하여 가로는 알파벳, 세로는 prop로 plotting하시오(2장)\n",
    "    - 년도별로 d, n, y로 끝나는 이름의 비율을 출력"
   ]
  },
  {
   "cell_type": "code",
   "execution_count": 1,
   "metadata": {
    "collapsed": true
   },
   "outputs": [],
   "source": [
    "import pandas as pd\n",
    "import numpy as np\n",
    "import matplotlib.pyplot as plt\n",
    "%matplotlib inline"
   ]
  },
  {
   "cell_type": "markdown",
   "metadata": {},
   "source": [
    "## names 데이터를 로딩해 하나의 데이터로 concat"
   ]
  },
  {
   "cell_type": "code",
   "execution_count": 2,
   "metadata": {
    "collapsed": false
   },
   "outputs": [
    {
     "data": {
      "text/html": [
       "<div>\n",
       "<table border=\"1\" class=\"dataframe\">\n",
       "  <thead>\n",
       "    <tr style=\"text-align: right;\">\n",
       "      <th></th>\n",
       "      <th>name</th>\n",
       "      <th>sex</th>\n",
       "      <th>births</th>\n",
       "    </tr>\n",
       "  </thead>\n",
       "  <tbody>\n",
       "    <tr>\n",
       "      <th>0</th>\n",
       "      <td>Mary</td>\n",
       "      <td>F</td>\n",
       "      <td>7065</td>\n",
       "    </tr>\n",
       "    <tr>\n",
       "      <th>1</th>\n",
       "      <td>Anna</td>\n",
       "      <td>F</td>\n",
       "      <td>2604</td>\n",
       "    </tr>\n",
       "    <tr>\n",
       "      <th>2</th>\n",
       "      <td>Emma</td>\n",
       "      <td>F</td>\n",
       "      <td>2003</td>\n",
       "    </tr>\n",
       "    <tr>\n",
       "      <th>3</th>\n",
       "      <td>Elizabeth</td>\n",
       "      <td>F</td>\n",
       "      <td>1939</td>\n",
       "    </tr>\n",
       "    <tr>\n",
       "      <th>4</th>\n",
       "      <td>Minnie</td>\n",
       "      <td>F</td>\n",
       "      <td>1746</td>\n",
       "    </tr>\n",
       "  </tbody>\n",
       "</table>\n",
       "</div>"
      ],
      "text/plain": [
       "        name sex  births\n",
       "0       Mary   F    7065\n",
       "1       Anna   F    2604\n",
       "2       Emma   F    2003\n",
       "3  Elizabeth   F    1939\n",
       "4     Minnie   F    1746"
      ]
     },
     "execution_count": 2,
     "metadata": {},
     "output_type": "execute_result"
    }
   ],
   "source": [
    "names1880 = pd.read_csv('names/yob1880.txt', names = ['name', 'sex', 'births'])\n",
    "names1880.head()"
   ]
  },
  {
   "cell_type": "code",
   "execution_count": 3,
   "metadata": {
    "collapsed": false
   },
   "outputs": [
    {
     "data": {
      "text/plain": [
       "2000"
      ]
     },
     "execution_count": 3,
     "metadata": {},
     "output_type": "execute_result"
    }
   ],
   "source": [
    "len(names1880)"
   ]
  },
  {
   "cell_type": "code",
   "execution_count": 8,
   "metadata": {
    "collapsed": false
   },
   "outputs": [],
   "source": [
    "pieces = []\n",
    "\n",
    "for a in range(1880, 2011):\n",
    "    path = 'names/yob%d.txt' % a\n",
    "    frame = pd.read_csv(path, names = ['name', 'sex', 'births'])\n",
    "    frame['year'] = a # frame dataframe에 year라는 새로운 속성을 생성\n",
    "    pieces.append(frame) # pieces에 frame(1880 ~ 2010까지 있음) 넣기\n",
    "    # pieces[1]은 1880년 데이터, pieces[130]은 2010년 데이터"
   ]
  },
  {
   "cell_type": "code",
   "execution_count": 9,
   "metadata": {
    "collapsed": false
   },
   "outputs": [
    {
     "name": "stdout",
     "output_type": "stream",
     "text": [
      "<type 'list'>\n",
      "131\n"
     ]
    }
   ],
   "source": [
    "print type(pieces)\n",
    "print len(pieces)"
   ]
  },
  {
   "cell_type": "code",
   "execution_count": 10,
   "metadata": {
    "collapsed": false
   },
   "outputs": [
    {
     "name": "stdout",
     "output_type": "stream",
     "text": [
      "       name sex  births  year\n",
      "0  Isabella   F   22731  2010\n",
      "1    Sophia   F   20477  2010\n",
      "2      Emma   F   17179  2010\n",
      "3    Olivia   F   16860  2010\n",
      "4       Ava   F   15300  2010\n"
     ]
    }
   ],
   "source": [
    "print pieces[130].head()"
   ]
  },
  {
   "cell_type": "code",
   "execution_count": 11,
   "metadata": {
    "collapsed": false
   },
   "outputs": [
    {
     "name": "stdout",
     "output_type": "stream",
     "text": [
      "        name sex  births  year\n",
      "0       Mary   F    7065  1880\n",
      "1       Anna   F    2604  1880\n",
      "2       Emma   F    2003  1880\n",
      "3  Elizabeth   F    1939  1880\n",
      "4     Minnie   F    1746  1880\n",
      "              name sex  births  year\n",
      "1690779    Zymaire   M       5  2010\n",
      "1690780     Zyonne   M       5  2010\n",
      "1690781  Zyquarius   M       5  2010\n",
      "1690782      Zyran   M       5  2010\n",
      "1690783      Zzyzx   M       5  2010\n"
     ]
    }
   ],
   "source": [
    "# list형태인 pieces를 dataframe으로 변경\n",
    "names = pd.concat(pieces, ignore_index = True)\n",
    "print names.head()\n",
    "print names.tail()"
   ]
  },
  {
   "cell_type": "markdown",
   "metadata": {},
   "source": [
    "## 성별, 년도별로 그룹핑하여 sum하고 이를 plotting하시오"
   ]
  },
  {
   "cell_type": "code",
   "execution_count": 12,
   "metadata": {
    "collapsed": false
   },
   "outputs": [
    {
     "name": "stdout",
     "output_type": "stream",
     "text": [
      "sex        F       M\n",
      "year                \n",
      "1880   90993  110493\n",
      "1881   91955  100748\n",
      "1882  107851  113687\n",
      "1883  112322  104632\n",
      "1884  129021  114445\n",
      "sex         F        M\n",
      "year                  \n",
      "2006  1896468  2050234\n",
      "2007  1916888  2069242\n",
      "2008  1883645  2032310\n",
      "2009  1827643  1973359\n",
      "2010  1759010  1898382\n"
     ]
    }
   ],
   "source": [
    "# 아래처럼 하면 F, M이 따로 나와 보기가 힘들다\n",
    "#names.groupby(['sex', 'year']).births.sum()\n",
    "#names.groupby(['sex', 'year']).agg(np.mean)\n",
    "\n",
    "total_births = names.pivot_table('births', index = 'year', columns = 'sex', aggfunc = sum)\n",
    "print total_births.head()\n",
    "print total_births.tail()"
   ]
  },
  {
   "cell_type": "code",
   "execution_count": 25,
   "metadata": {
    "collapsed": false
   },
   "outputs": [
    {
     "data": {
      "text/plain": [
       "<matplotlib.axes._subplots.AxesSubplot at 0x7f9539756050>"
      ]
     },
     "execution_count": 25,
     "metadata": {},
     "output_type": "execute_result"
    },
    {
     "data": {
      "image/png": "[encoded data removed]",
      "text/plain": [
       "<matplotlib.figure.Figure at 0x7f95395984d0>"
      ]
     },
     "metadata": {},
     "output_type": "display_data"
    }
   ],
   "source": [
    "#plt.plot(total_births)\n",
    "total_births.plot()"
   ]
  },
  {
   "cell_type": "markdown",
   "metadata": {},
   "source": [
    "## 데이터 info를 확인하시오"
   ]
  },
  {
   "cell_type": "code",
   "execution_count": 14,
   "metadata": {
    "collapsed": false
   },
   "outputs": [
    {
     "name": "stdout",
     "output_type": "stream",
     "text": [
      "<class 'pandas.core.frame.DataFrame'>\n",
      "Int64Index: 131 entries, 1880 to 2010\n",
      "Data columns (total 2 columns):\n",
      "F    131 non-null int64\n",
      "M    131 non-null int64\n",
      "dtypes: int64(2)\n",
      "memory usage: 3.1 KB\n"
     ]
    },
    {
     "data": {
      "text/html": [
       "<div>\n",
       "<table border=\"1\" class=\"dataframe\">\n",
       "  <thead>\n",
       "    <tr style=\"text-align: right;\">\n",
       "      <th>sex</th>\n",
       "      <th>F</th>\n",
       "      <th>M</th>\n",
       "    </tr>\n",
       "  </thead>\n",
       "  <tbody>\n",
       "    <tr>\n",
       "      <th>count</th>\n",
       "      <td>131.000000</td>\n",
       "      <td>131.000000</td>\n",
       "    </tr>\n",
       "    <tr>\n",
       "      <th>mean</th>\n",
       "      <td>1221298.778626</td>\n",
       "      <td>1239790.740458</td>\n",
       "    </tr>\n",
       "    <tr>\n",
       "      <th>std</th>\n",
       "      <td>646001.337934</td>\n",
       "      <td>740107.858262</td>\n",
       "    </tr>\n",
       "    <tr>\n",
       "      <th>min</th>\n",
       "      <td>90993.000000</td>\n",
       "      <td>100748.000000</td>\n",
       "    </tr>\n",
       "    <tr>\n",
       "      <th>25%</th>\n",
       "      <td>591128.000000</td>\n",
       "      <td>471204.000000</td>\n",
       "    </tr>\n",
       "    <tr>\n",
       "      <th>50%</th>\n",
       "      <td>1394891.000000</td>\n",
       "      <td>1426400.000000</td>\n",
       "    </tr>\n",
       "    <tr>\n",
       "      <th>75%</th>\n",
       "      <td>1768764.500000</td>\n",
       "      <td>1900241.000000</td>\n",
       "    </tr>\n",
       "    <tr>\n",
       "      <th>max</th>\n",
       "      <td>2043983.000000</td>\n",
       "      <td>2155427.000000</td>\n",
       "    </tr>\n",
       "  </tbody>\n",
       "</table>\n",
       "</div>"
      ],
      "text/plain": [
       "sex                 F               M\n",
       "count      131.000000      131.000000\n",
       "mean   1221298.778626  1239790.740458\n",
       "std     646001.337934   740107.858262\n",
       "min      90993.000000   100748.000000\n",
       "25%     591128.000000   471204.000000\n",
       "50%    1394891.000000  1426400.000000\n",
       "75%    1768764.500000  1900241.000000\n",
       "max    2043983.000000  2155427.000000"
      ]
     },
     "execution_count": 14,
     "metadata": {},
     "output_type": "execute_result"
    }
   ],
   "source": [
    "total_births.info()\n",
    "total_births.describe()"
   ]
  },
  {
   "cell_type": "markdown",
   "metadata": {},
   "source": [
    "## births로 sorting하시오"
   ]
  },
  {
   "cell_type": "code",
   "execution_count": 15,
   "metadata": {
    "collapsed": false
   },
   "outputs": [
    {
     "name": "stdout",
     "output_type": "stream",
     "text": [
      "           name sex  births  year\n",
      "431022    Linda   F   99651  1947\n",
      "441381    Linda   F   96185  1948\n",
      "437125    James   M   94601  1947\n",
      "544528  Michael   M   92700  1957\n",
      "437126   Robert   M   91557  1947\n",
      "             name sex  births  year\n",
      "1318448   Ceandra   F       5  1999\n",
      "1318447    Caysie   F       5  1999\n",
      "1318446      Cati   F       5  1999\n",
      "1318445  Cathryne   F       5  1999\n",
      "1690783     Zzyzx   M       5  2010\n"
     ]
    }
   ],
   "source": [
    "sort_by_births = names.sort_values(by = 'births', ascending = False)\n",
    "print sort_by_births.head()\n",
    "print sort_by_births.tail()"
   ]
  },
  {
   "cell_type": "markdown",
   "metadata": {},
   "source": [
    "## row를 'year', col을 'name'으로 하여 pivot table 생성"
   ]
  },
  {
   "cell_type": "code",
   "execution_count": 17,
   "metadata": {
    "collapsed": false
   },
   "outputs": [
    {
     "name": "stdout",
     "output_type": "stream",
     "text": [
      "name  Aaban  Aabid  Aabriella  Aadam  Aadan  Aadarsh  Aaden  Aadesh  Aadhav  \\\n",
      "year                                                                          \n",
      "1880    NaN    NaN        NaN    NaN    NaN      NaN    NaN     NaN     NaN   \n",
      "1881    NaN    NaN        NaN    NaN    NaN      NaN    NaN     NaN     NaN   \n",
      "1882    NaN    NaN        NaN    NaN    NaN      NaN    NaN     NaN     NaN   \n",
      "1883    NaN    NaN        NaN    NaN    NaN      NaN    NaN     NaN     NaN   \n",
      "1884    NaN    NaN        NaN    NaN    NaN      NaN    NaN     NaN     NaN   \n",
      "\n",
      "name  Aadhavan  ...    Zyrus  Zysean  Zyshaun  Zyshawn  Zyshon  Zyshonne  \\\n",
      "year            ...                                                        \n",
      "1880       NaN  ...      NaN     NaN      NaN      NaN     NaN       NaN   \n",
      "1881       NaN  ...      NaN     NaN      NaN      NaN     NaN       NaN   \n",
      "1882       NaN  ...      NaN     NaN      NaN      NaN     NaN       NaN   \n",
      "1883       NaN  ...      NaN     NaN      NaN      NaN     NaN       NaN   \n",
      "1884       NaN  ...      NaN     NaN      NaN      NaN     NaN       NaN   \n",
      "\n",
      "name  Zytavious  Zyvion  Zyyanna  Zzyzx  \n",
      "year                                     \n",
      "1880        NaN     NaN      NaN    NaN  \n",
      "1881        NaN     NaN      NaN    NaN  \n",
      "1882        NaN     NaN      NaN    NaN  \n",
      "1883        NaN     NaN      NaN    NaN  \n",
      "1884        NaN     NaN      NaN    NaN  \n",
      "\n",
      "[5 rows x 88496 columns]\n",
      "name  Aaban  Aabid  Aabriella  Aadam  Aadan  Aadarsh  Aaden  Aadesh  Aadhav  \\\n",
      "year                                                                          \n",
      "2006    NaN    NaN        NaN      9    NaN       14     55     NaN       5   \n",
      "2007      5    NaN        NaN      8      8       13    155     NaN     NaN   \n",
      "2008    NaN    NaN          5      6     22       13    955     NaN     NaN   \n",
      "2009      6    NaN        NaN      9     23       16   1270       5       5   \n",
      "2010      9    NaN        NaN      7     11      NaN    448     NaN      13   \n",
      "\n",
      "name  Aadhavan  ...    Zyrus  Zysean  Zyshaun  Zyshawn  Zyshon  Zyshonne  \\\n",
      "year            ...                                                        \n",
      "2006       NaN  ...      NaN     NaN        5        5     NaN       NaN   \n",
      "2007       NaN  ...      NaN     NaN        7       11     NaN       NaN   \n",
      "2008       NaN  ...        9     NaN        6       14     NaN       NaN   \n",
      "2009       NaN  ...      NaN     NaN      NaN        7     NaN       NaN   \n",
      "2010         5  ...      NaN     NaN      NaN        9     NaN       NaN   \n",
      "\n",
      "name  Zytavious  Zyvion  Zyyanna  Zzyzx  \n",
      "year                                     \n",
      "2006          7     NaN      NaN    NaN  \n",
      "2007          6     NaN      NaN    NaN  \n",
      "2008        NaN     NaN      NaN    NaN  \n",
      "2009          7       5      NaN    NaN  \n",
      "2010          6     NaN        6      5  \n",
      "\n",
      "[5 rows x 88496 columns]\n"
     ]
    }
   ],
   "source": [
    "births_by_name = names.pivot_table('births', index = 'year', columns = 'name', \n",
    "                                 aggfunc = sum)\n",
    "print births_by_name.head()\n",
    "print births_by_name.tail()"
   ]
  },
  {
   "cell_type": "markdown",
   "metadata": {},
   "source": [
    "## 위의 피벗 테이블에서 'john', 'harry', 'marry', 'marilyn' 필드를 취한 다음 plotting할 것"
   ]
  },
  {
   "cell_type": "code",
   "execution_count": 26,
   "metadata": {
    "collapsed": false
   },
   "outputs": [
    {
     "name": "stdout",
     "output_type": "stream",
     "text": [
      "name  John  Harry  Marry  Marilyn\n",
      "year                             \n",
      "1880  9701   2158    NaN      NaN\n",
      "1881  8795   2002    NaN      NaN\n",
      "1882  9597   2246      6      NaN\n",
      "1883  8934   2116      6      NaN\n",
      "1884  9427   2338    NaN      NaN\n"
     ]
    },
    {
     "data": {
      "text/html": [
       "<div>\n",
       "<table border=\"1\" class=\"dataframe\">\n",
       "  <thead>\n",
       "    <tr style=\"text-align: right;\">\n",
       "      <th>name</th>\n",
       "      <th>John</th>\n",
       "      <th>Harry</th>\n",
       "      <th>Marry</th>\n",
       "      <th>Marilyn</th>\n",
       "    </tr>\n",
       "    <tr>\n",
       "      <th>year</th>\n",
       "      <th></th>\n",
       "      <th></th>\n",
       "      <th></th>\n",
       "      <th></th>\n",
       "    </tr>\n",
       "  </thead>\n",
       "  <tbody>\n",
       "    <tr>\n",
       "      <th>2006</th>\n",
       "      <td>15175</td>\n",
       "      <td>414</td>\n",
       "      <td>7</td>\n",
       "      <td>596</td>\n",
       "    </tr>\n",
       "    <tr>\n",
       "      <th>2007</th>\n",
       "      <td>14427</td>\n",
       "      <td>443</td>\n",
       "      <td>8</td>\n",
       "      <td>597</td>\n",
       "    </tr>\n",
       "    <tr>\n",
       "      <th>2008</th>\n",
       "      <td>13294</td>\n",
       "      <td>379</td>\n",
       "      <td>13</td>\n",
       "      <td>543</td>\n",
       "    </tr>\n",
       "    <tr>\n",
       "      <th>2009</th>\n",
       "      <td>12059</td>\n",
       "      <td>383</td>\n",
       "      <td>11</td>\n",
       "      <td>519</td>\n",
       "    </tr>\n",
       "    <tr>\n",
       "      <th>2010</th>\n",
       "      <td>11433</td>\n",
       "      <td>363</td>\n",
       "      <td>6</td>\n",
       "      <td>531</td>\n",
       "    </tr>\n",
       "  </tbody>\n",
       "</table>\n",
       "</div>"
      ],
      "text/plain": [
       "name   John  Harry  Marry  Marilyn\n",
       "year                              \n",
       "2006  15175    414      7      596\n",
       "2007  14427    443      8      597\n",
       "2008  13294    379     13      543\n",
       "2009  12059    383     11      519\n",
       "2010  11433    363      6      531"
      ]
     },
     "execution_count": 26,
     "metadata": {},
     "output_type": "execute_result"
    }
   ],
   "source": [
    "# 찾을 열(속성)이 하나일 경우 대괄호를 하나 쓴다 ['Zzyzx']\n",
    "# 2개 이상이면 대괄호를 2개 쓴다 [['Zzyzx', 'Zyyanna']]\n",
    "selected_names = births_by_name[['John', 'Harry', 'Marry', 'Marilyn']]\n",
    "\n",
    "print selected_names.head()\n",
    "selected_names.tail()"
   ]
  },
  {
   "cell_type": "code",
   "execution_count": 34,
   "metadata": {
    "collapsed": false
   },
   "outputs": [
    {
     "data": {
      "text/html": [
       "<div>\n",
       "<table border=\"1\" class=\"dataframe\">\n",
       "  <thead>\n",
       "    <tr style=\"text-align: right;\">\n",
       "      <th></th>\n",
       "      <th>births count</th>\n",
       "    </tr>\n",
       "    <tr>\n",
       "      <th>name</th>\n",
       "      <th></th>\n",
       "    </tr>\n",
       "  </thead>\n",
       "  <tbody>\n",
       "    <tr>\n",
       "      <th>John</th>\n",
       "      <td>5061897</td>\n",
       "    </tr>\n",
       "    <tr>\n",
       "      <th>Harry</th>\n",
       "      <td>420391</td>\n",
       "    </tr>\n",
       "    <tr>\n",
       "      <th>Marry</th>\n",
       "      <td>1815</td>\n",
       "    </tr>\n",
       "    <tr>\n",
       "      <th>Marilyn</th>\n",
       "      <td>366433</td>\n",
       "    </tr>\n",
       "  </tbody>\n",
       "</table>\n",
       "</div>"
      ],
      "text/plain": [
       "         births count\n",
       "name                 \n",
       "John          5061897\n",
       "Harry          420391\n",
       "Marry            1815\n",
       "Marilyn        366433"
      ]
     },
     "execution_count": 34,
     "metadata": {},
     "output_type": "execute_result"
    }
   ],
   "source": [
    "pd.DataFrame(selected_names.sum(), columns = ['births count'])"
   ]
  },
  {
   "cell_type": "code",
   "execution_count": 27,
   "metadata": {
    "collapsed": false
   },
   "outputs": [
    {
     "data": {
      "text/plain": [
       "<matplotlib.axes._subplots.AxesSubplot at 0x7f9539661d90>"
      ]
     },
     "execution_count": 27,
     "metadata": {},
     "output_type": "execute_result"
    },
    {
     "data": {
      "image/png": "[encoded data removed]",
      "text/plain": [
       "<matplotlib.figure.Figure at 0x7f9539574290>"
      ]
     },
     "metadata": {},
     "output_type": "display_data"
    }
   ],
   "source": [
    "#plt.plot(selected_names) # 이건 label이 출력되지 않음\n",
    "selected_names.plot() # 이렇게 하면 자동으로 라벨이 생성"
   ]
  },
  {
   "cell_type": "markdown",
   "metadata": {
    "collapsed": true
   },
   "source": [
    "## 2010년도에 태어난 boys들만 indexing"
   ]
  },
  {
   "cell_type": "code",
   "execution_count": 35,
   "metadata": {
    "collapsed": false
   },
   "outputs": [
    {
     "data": {
      "text/html": [
       "<div>\n",
       "<table border=\"1\" class=\"dataframe\">\n",
       "  <thead>\n",
       "    <tr style=\"text-align: right;\">\n",
       "      <th>sex</th>\n",
       "      <th>F</th>\n",
       "      <th>M</th>\n",
       "    </tr>\n",
       "    <tr>\n",
       "      <th>year</th>\n",
       "      <th></th>\n",
       "      <th></th>\n",
       "    </tr>\n",
       "  </thead>\n",
       "  <tbody>\n",
       "    <tr>\n",
       "      <th>1880</th>\n",
       "      <td>90993</td>\n",
       "      <td>110493</td>\n",
       "    </tr>\n",
       "    <tr>\n",
       "      <th>1881</th>\n",
       "      <td>91955</td>\n",
       "      <td>100748</td>\n",
       "    </tr>\n",
       "    <tr>\n",
       "      <th>1882</th>\n",
       "      <td>107851</td>\n",
       "      <td>113687</td>\n",
       "    </tr>\n",
       "    <tr>\n",
       "      <th>1883</th>\n",
       "      <td>112322</td>\n",
       "      <td>104632</td>\n",
       "    </tr>\n",
       "    <tr>\n",
       "      <th>1884</th>\n",
       "      <td>129021</td>\n",
       "      <td>114445</td>\n",
       "    </tr>\n",
       "  </tbody>\n",
       "</table>\n",
       "</div>"
      ],
      "text/plain": [
       "sex        F       M\n",
       "year                \n",
       "1880   90993  110493\n",
       "1881   91955  100748\n",
       "1882  107851  113687\n",
       "1883  112322  104632\n",
       "1884  129021  114445"
      ]
     },
     "execution_count": 35,
     "metadata": {},
     "output_type": "execute_result"
    }
   ],
   "source": [
    "total_births.head()"
   ]
  },
  {
   "cell_type": "code",
   "execution_count": 37,
   "metadata": {
    "collapsed": false
   },
   "outputs": [
    {
     "data": {
      "text/plain": [
       "1898382"
      ]
     },
     "execution_count": 37,
     "metadata": {},
     "output_type": "execute_result"
    }
   ],
   "source": [
    "total_births.ix[2010, 'M']"
   ]
  },
  {
   "cell_type": "markdown",
   "metadata": {},
   "source": [
    "## 아동 이름으로부터 마지막 문자를 취해 저장"
   ]
  },
  {
   "cell_type": "code",
   "execution_count": 41,
   "metadata": {
    "collapsed": false
   },
   "outputs": [
    {
     "data": {
      "text/plain": [
       "1690779      Zymaire\n",
       "1690780       Zyonne\n",
       "1690781    Zyquarius\n",
       "1690782        Zyran\n",
       "1690783        Zzyzx\n",
       "Name: name, dtype: object"
      ]
     },
     "execution_count": 41,
     "metadata": {},
     "output_type": "execute_result"
    }
   ],
   "source": [
    "names.name.tail()"
   ]
  },
  {
   "cell_type": "code",
   "execution_count": 42,
   "metadata": {
    "collapsed": false
   },
   "outputs": [
    {
     "name": "stdout",
     "output_type": "stream",
     "text": [
      "0    y\n",
      "1    a\n",
      "2    a\n",
      "3    h\n",
      "4    e\n",
      "Name: name, dtype: object\n",
      "1690779    e\n",
      "1690780    e\n",
      "1690781    s\n",
      "1690782    n\n",
      "1690783    x\n",
      "Name: name, dtype: object\n"
     ]
    }
   ],
   "source": [
    "last_words = names.name.map(lambda x : x[-1])\n",
    "print last_words.head()\n",
    "print last_words.tail()"
   ]
  },
  {
   "cell_type": "markdown",
   "metadata": {},
   "source": [
    "## row는 마지막 문자, cols는 'sex', 'year'로 pivot_table을 생성"
   ]
  },
  {
   "cell_type": "code",
   "execution_count": 43,
   "metadata": {
    "collapsed": false
   },
   "outputs": [
    {
     "data": {
      "text/html": [
       "<div>\n",
       "<table border=\"1\" class=\"dataframe\">\n",
       "  <thead>\n",
       "    <tr style=\"text-align: right;\">\n",
       "      <th></th>\n",
       "      <th>name</th>\n",
       "      <th>sex</th>\n",
       "      <th>births</th>\n",
       "      <th>year</th>\n",
       "    </tr>\n",
       "  </thead>\n",
       "  <tbody>\n",
       "    <tr>\n",
       "      <th>0</th>\n",
       "      <td>Mary</td>\n",
       "      <td>F</td>\n",
       "      <td>7065</td>\n",
       "      <td>1880</td>\n",
       "    </tr>\n",
       "    <tr>\n",
       "      <th>1</th>\n",
       "      <td>Anna</td>\n",
       "      <td>F</td>\n",
       "      <td>2604</td>\n",
       "      <td>1880</td>\n",
       "    </tr>\n",
       "    <tr>\n",
       "      <th>2</th>\n",
       "      <td>Emma</td>\n",
       "      <td>F</td>\n",
       "      <td>2003</td>\n",
       "      <td>1880</td>\n",
       "    </tr>\n",
       "    <tr>\n",
       "      <th>3</th>\n",
       "      <td>Elizabeth</td>\n",
       "      <td>F</td>\n",
       "      <td>1939</td>\n",
       "      <td>1880</td>\n",
       "    </tr>\n",
       "    <tr>\n",
       "      <th>4</th>\n",
       "      <td>Minnie</td>\n",
       "      <td>F</td>\n",
       "      <td>1746</td>\n",
       "      <td>1880</td>\n",
       "    </tr>\n",
       "  </tbody>\n",
       "</table>\n",
       "</div>"
      ],
      "text/plain": [
       "        name sex  births  year\n",
       "0       Mary   F    7065  1880\n",
       "1       Anna   F    2604  1880\n",
       "2       Emma   F    2003  1880\n",
       "3  Elizabeth   F    1939  1880\n",
       "4     Minnie   F    1746  1880"
      ]
     },
     "execution_count": 43,
     "metadata": {},
     "output_type": "execute_result"
    }
   ],
   "source": [
    "names.head()"
   ]
  },
  {
   "cell_type": "code",
   "execution_count": 44,
   "metadata": {
    "collapsed": false
   },
   "outputs": [
    {
     "data": {
      "text/plain": [
       "0    y\n",
       "1    a\n",
       "2    a\n",
       "3    h\n",
       "4    e\n",
       "Name: name, dtype: object"
      ]
     },
     "execution_count": 44,
     "metadata": {},
     "output_type": "execute_result"
    }
   ],
   "source": [
    "last_words.head()"
   ]
  },
  {
   "cell_type": "code",
   "execution_count": 56,
   "metadata": {
    "collapsed": false
   },
   "outputs": [
    {
     "data": {
      "text/html": [
       "<div>\n",
       "<table border=\"1\" class=\"dataframe\">\n",
       "  <thead>\n",
       "    <tr style=\"text-align: right;\">\n",
       "      <th></th>\n",
       "      <th>last word</th>\n",
       "    </tr>\n",
       "  </thead>\n",
       "  <tbody>\n",
       "    <tr>\n",
       "      <th>0</th>\n",
       "      <td>y</td>\n",
       "    </tr>\n",
       "    <tr>\n",
       "      <th>1</th>\n",
       "      <td>a</td>\n",
       "    </tr>\n",
       "    <tr>\n",
       "      <th>2</th>\n",
       "      <td>a</td>\n",
       "    </tr>\n",
       "    <tr>\n",
       "      <th>3</th>\n",
       "      <td>h</td>\n",
       "    </tr>\n",
       "    <tr>\n",
       "      <th>4</th>\n",
       "      <td>e</td>\n",
       "    </tr>\n",
       "  </tbody>\n",
       "</table>\n",
       "</div>"
      ],
      "text/plain": [
       "  last word\n",
       "0         y\n",
       "1         a\n",
       "2         a\n",
       "3         h\n",
       "4         e"
      ]
     },
     "execution_count": 56,
     "metadata": {},
     "output_type": "execute_result"
    }
   ],
   "source": [
    "# last_words는 Series이므로, 우선 dataframe으로 바꾸고 merge한다\n",
    "last_words = pd.DataFrame(last_words)\n",
    "last_words = last_words.rename(columns = {'name':'last word'})\n",
    "last_words.head()"
   ]
  },
  {
   "cell_type": "code",
   "execution_count": null,
   "metadata": {
    "collapsed": true
   },
   "outputs": [],
   "source": [
    "# 40p"
   ]
  },
  {
   "cell_type": "code",
   "execution_count": 65,
   "metadata": {
    "collapsed": false
   },
   "outputs": [
    {
     "name": "stdout",
     "output_type": "stream",
     "text": [
      "        name sex  births  year last word\n",
      "0       Mary   F    7065  1880         y\n",
      "1       Anna   F    2604  1880         a\n",
      "2       Emma   F    2003  1880         a\n",
      "3  Elizabeth   F    1939  1880         h\n",
      "4     Minnie   F    1746  1880         e\n"
     ]
    },
    {
     "data": {
      "text/html": [
       "<div>\n",
       "<table border=\"1\" class=\"dataframe\">\n",
       "  <thead>\n",
       "    <tr style=\"text-align: right;\">\n",
       "      <th></th>\n",
       "      <th>name</th>\n",
       "      <th>sex</th>\n",
       "      <th>births</th>\n",
       "      <th>year</th>\n",
       "      <th>last word</th>\n",
       "    </tr>\n",
       "  </thead>\n",
       "  <tbody>\n",
       "    <tr>\n",
       "      <th>1690779</th>\n",
       "      <td>Zymaire</td>\n",
       "      <td>M</td>\n",
       "      <td>5</td>\n",
       "      <td>2010</td>\n",
       "      <td>e</td>\n",
       "    </tr>\n",
       "    <tr>\n",
       "      <th>1690780</th>\n",
       "      <td>Zyonne</td>\n",
       "      <td>M</td>\n",
       "      <td>5</td>\n",
       "      <td>2010</td>\n",
       "      <td>e</td>\n",
       "    </tr>\n",
       "    <tr>\n",
       "      <th>1690781</th>\n",
       "      <td>Zyquarius</td>\n",
       "      <td>M</td>\n",
       "      <td>5</td>\n",
       "      <td>2010</td>\n",
       "      <td>s</td>\n",
       "    </tr>\n",
       "    <tr>\n",
       "      <th>1690782</th>\n",
       "      <td>Zyran</td>\n",
       "      <td>M</td>\n",
       "      <td>5</td>\n",
       "      <td>2010</td>\n",
       "      <td>n</td>\n",
       "    </tr>\n",
       "    <tr>\n",
       "      <th>1690783</th>\n",
       "      <td>Zzyzx</td>\n",
       "      <td>M</td>\n",
       "      <td>5</td>\n",
       "      <td>2010</td>\n",
       "      <td>x</td>\n",
       "    </tr>\n",
       "  </tbody>\n",
       "</table>\n",
       "</div>"
      ],
      "text/plain": [
       "              name sex  births  year last word\n",
       "1690779    Zymaire   M       5  2010         e\n",
       "1690780     Zyonne   M       5  2010         e\n",
       "1690781  Zyquarius   M       5  2010         s\n",
       "1690782      Zyran   M       5  2010         n\n",
       "1690783      Zzyzx   M       5  2010         x"
      ]
     },
     "execution_count": 65,
     "metadata": {},
     "output_type": "execute_result"
    }
   ],
   "source": [
    "# 공통된 컬럼이 없으므로 사용 불가\n",
    "#pd.merge(names, last_words, how = 'outer')\n",
    "\n",
    "# 조인도 사용 가능\n",
    "#names.join(last_words)\n",
    "\n",
    "# concat는 기본 설정이 axis = 0 (세로로 계산)!!\n",
    "# concat를 사용해 옆으로 붙이려면 axis = 1을 사용해야함\n",
    "incl_last_word = pd.concat([names, last_words], axis = 1)\n",
    "print incl_last_word.head()\n",
    "incl_last_word.tail()"
   ]
  },
  {
   "cell_type": "code",
   "execution_count": 83,
   "metadata": {
    "collapsed": false
   },
   "outputs": [
    {
     "data": {
      "text/html": [
       "<div>\n",
       "<table border=\"1\" class=\"dataframe\">\n",
       "  <thead>\n",
       "    <tr>\n",
       "      <th>sex</th>\n",
       "      <th colspan=\"10\" halign=\"left\">F</th>\n",
       "      <th>...</th>\n",
       "      <th colspan=\"10\" halign=\"left\">M</th>\n",
       "    </tr>\n",
       "    <tr>\n",
       "      <th>year</th>\n",
       "      <th>1880</th>\n",
       "      <th>1881</th>\n",
       "      <th>1882</th>\n",
       "      <th>1883</th>\n",
       "      <th>1884</th>\n",
       "      <th>1885</th>\n",
       "      <th>1886</th>\n",
       "      <th>1887</th>\n",
       "      <th>1888</th>\n",
       "      <th>1889</th>\n",
       "      <th>...</th>\n",
       "      <th>2001</th>\n",
       "      <th>2002</th>\n",
       "      <th>2003</th>\n",
       "      <th>2004</th>\n",
       "      <th>2005</th>\n",
       "      <th>2006</th>\n",
       "      <th>2007</th>\n",
       "      <th>2008</th>\n",
       "      <th>2009</th>\n",
       "      <th>2010</th>\n",
       "    </tr>\n",
       "    <tr>\n",
       "      <th>last word</th>\n",
       "      <th></th>\n",
       "      <th></th>\n",
       "      <th></th>\n",
       "      <th></th>\n",
       "      <th></th>\n",
       "      <th></th>\n",
       "      <th></th>\n",
       "      <th></th>\n",
       "      <th></th>\n",
       "      <th></th>\n",
       "      <th></th>\n",
       "      <th></th>\n",
       "      <th></th>\n",
       "      <th></th>\n",
       "      <th></th>\n",
       "      <th></th>\n",
       "      <th></th>\n",
       "      <th></th>\n",
       "      <th></th>\n",
       "      <th></th>\n",
       "      <th></th>\n",
       "    </tr>\n",
       "  </thead>\n",
       "  <tbody>\n",
       "    <tr>\n",
       "      <th>a</th>\n",
       "      <td>31446</td>\n",
       "      <td>31581</td>\n",
       "      <td>36536</td>\n",
       "      <td>38330</td>\n",
       "      <td>43680</td>\n",
       "      <td>45408</td>\n",
       "      <td>49100</td>\n",
       "      <td>48942</td>\n",
       "      <td>59442</td>\n",
       "      <td>58631</td>\n",
       "      <td>...</td>\n",
       "      <td>39124</td>\n",
       "      <td>38815</td>\n",
       "      <td>37825</td>\n",
       "      <td>38650</td>\n",
       "      <td>36838</td>\n",
       "      <td>36156</td>\n",
       "      <td>34654</td>\n",
       "      <td>32901</td>\n",
       "      <td>31430</td>\n",
       "      <td>28438</td>\n",
       "    </tr>\n",
       "    <tr>\n",
       "      <th>b</th>\n",
       "      <td>NaN</td>\n",
       "      <td>NaN</td>\n",
       "      <td>NaN</td>\n",
       "      <td>NaN</td>\n",
       "      <td>NaN</td>\n",
       "      <td>NaN</td>\n",
       "      <td>NaN</td>\n",
       "      <td>NaN</td>\n",
       "      <td>NaN</td>\n",
       "      <td>NaN</td>\n",
       "      <td>...</td>\n",
       "      <td>50950</td>\n",
       "      <td>49284</td>\n",
       "      <td>48065</td>\n",
       "      <td>45914</td>\n",
       "      <td>43144</td>\n",
       "      <td>42600</td>\n",
       "      <td>42123</td>\n",
       "      <td>39945</td>\n",
       "      <td>38862</td>\n",
       "      <td>38859</td>\n",
       "    </tr>\n",
       "    <tr>\n",
       "      <th>c</th>\n",
       "      <td>NaN</td>\n",
       "      <td>NaN</td>\n",
       "      <td>5</td>\n",
       "      <td>5</td>\n",
       "      <td>NaN</td>\n",
       "      <td>NaN</td>\n",
       "      <td>NaN</td>\n",
       "      <td>NaN</td>\n",
       "      <td>NaN</td>\n",
       "      <td>NaN</td>\n",
       "      <td>...</td>\n",
       "      <td>27113</td>\n",
       "      <td>27238</td>\n",
       "      <td>27697</td>\n",
       "      <td>26778</td>\n",
       "      <td>26078</td>\n",
       "      <td>26635</td>\n",
       "      <td>26864</td>\n",
       "      <td>25318</td>\n",
       "      <td>24048</td>\n",
       "      <td>23125</td>\n",
       "    </tr>\n",
       "    <tr>\n",
       "      <th>d</th>\n",
       "      <td>609</td>\n",
       "      <td>607</td>\n",
       "      <td>734</td>\n",
       "      <td>810</td>\n",
       "      <td>916</td>\n",
       "      <td>862</td>\n",
       "      <td>1007</td>\n",
       "      <td>1027</td>\n",
       "      <td>1298</td>\n",
       "      <td>1374</td>\n",
       "      <td>...</td>\n",
       "      <td>60838</td>\n",
       "      <td>55829</td>\n",
       "      <td>53391</td>\n",
       "      <td>51754</td>\n",
       "      <td>50670</td>\n",
       "      <td>51410</td>\n",
       "      <td>50595</td>\n",
       "      <td>47910</td>\n",
       "      <td>46172</td>\n",
       "      <td>44398</td>\n",
       "    </tr>\n",
       "    <tr>\n",
       "      <th>e</th>\n",
       "      <td>33378</td>\n",
       "      <td>34080</td>\n",
       "      <td>40399</td>\n",
       "      <td>41914</td>\n",
       "      <td>48089</td>\n",
       "      <td>49616</td>\n",
       "      <td>53884</td>\n",
       "      <td>54353</td>\n",
       "      <td>66750</td>\n",
       "      <td>66663</td>\n",
       "      <td>...</td>\n",
       "      <td>145395</td>\n",
       "      <td>144651</td>\n",
       "      <td>144769</td>\n",
       "      <td>142098</td>\n",
       "      <td>141123</td>\n",
       "      <td>142999</td>\n",
       "      <td>143698</td>\n",
       "      <td>140966</td>\n",
       "      <td>135496</td>\n",
       "      <td>129012</td>\n",
       "    </tr>\n",
       "  </tbody>\n",
       "</table>\n",
       "<p>5 rows × 262 columns</p>\n",
       "</div>"
      ],
      "text/plain": [
       "sex            F                                                          \\\n",
       "year        1880   1881   1882   1883   1884   1885   1886   1887   1888   \n",
       "last word                                                                  \n",
       "a          31446  31581  36536  38330  43680  45408  49100  48942  59442   \n",
       "b            NaN    NaN    NaN    NaN    NaN    NaN    NaN    NaN    NaN   \n",
       "c            NaN    NaN      5      5    NaN    NaN    NaN    NaN    NaN   \n",
       "d            609    607    734    810    916    862   1007   1027   1298   \n",
       "e          33378  34080  40399  41914  48089  49616  53884  54353  66750   \n",
       "\n",
       "sex                ...         M                                          \\\n",
       "year        1889   ...      2001    2002    2003    2004    2005    2006   \n",
       "last word          ...                                                     \n",
       "a          58631   ...     39124   38815   37825   38650   36838   36156   \n",
       "b            NaN   ...     50950   49284   48065   45914   43144   42600   \n",
       "c            NaN   ...     27113   27238   27697   26778   26078   26635   \n",
       "d           1374   ...     60838   55829   53391   51754   50670   51410   \n",
       "e          66663   ...    145395  144651  144769  142098  141123  142999   \n",
       "\n",
       "sex                                        \n",
       "year         2007    2008    2009    2010  \n",
       "last word                                  \n",
       "a           34654   32901   31430   28438  \n",
       "b           42123   39945   38862   38859  \n",
       "c           26864   25318   24048   23125  \n",
       "d           50595   47910   46172   44398  \n",
       "e          143698  140966  135496  129012  \n",
       "\n",
       "[5 rows x 262 columns]"
      ]
     },
     "execution_count": 83,
     "metadata": {},
     "output_type": "execute_result"
    }
   ],
   "source": [
    "lw_piv = incl_last_word.pivot_table('births', index = 'last word', columns = ['sex', 'year'],\n",
    "                          aggfunc = sum)\n",
    "lw_piv.head()"
   ]
  },
  {
   "cell_type": "markdown",
   "metadata": {},
   "source": [
    "## 위의 pivot_table에서 columns를 1910, 1960, 2010년만 취해 reindex하시오"
   ]
  },
  {
   "cell_type": "code",
   "execution_count": 72,
   "metadata": {
    "collapsed": false
   },
   "outputs": [
    {
     "data": {
      "text/plain": [
       "pandas.core.series.Series"
      ]
     },
     "execution_count": 72,
     "metadata": {},
     "output_type": "execute_result"
    }
   ],
   "source": [
    "type(incl_last_word['year'])"
   ]
  },
  {
   "cell_type": "code",
   "execution_count": 71,
   "metadata": {
    "collapsed": false
   },
   "outputs": [
    {
     "data": {
      "text/plain": [
       "pandas.core.frame.DataFrame"
      ]
     },
     "execution_count": 71,
     "metadata": {},
     "output_type": "execute_result"
    }
   ],
   "source": [
    "type(incl_last_word[['year']])"
   ]
  },
  {
   "cell_type": "code",
   "execution_count": 80,
   "metadata": {
    "collapsed": false
   },
   "outputs": [
    {
     "data": {
      "text/plain": [
       "year    1880\n",
       "Name: 180, dtype: int64"
      ]
     },
     "execution_count": 80,
     "metadata": {},
     "output_type": "execute_result"
    }
   ],
   "source": [
    "incl_last_word[['year']].ix[180]"
   ]
  },
  {
   "cell_type": "code",
   "execution_count": 84,
   "metadata": {
    "collapsed": true
   },
   "outputs": [
    {
     "data": {
      "text/plain": [
       "MultiIndex(levels=[[u'F', u'M'], [1880, 1881, 1882, 1883, 1884, 1885, 1886, 1887, 1888, 1889, 1890, 1891, 1892, 1893, 1894, 1895, 1896, 1897, 1898, 1899, 1900, 1901, 1902, 1903, 1904, 1905, 1906, 1907, 1908, 1909, 1910, 1911, 1912, 1913, 1914, 1915, 1916, 1917, 1918, 1919, 1920, 1921, 1922, 1923, 1924, 1925, 1926, 1927, 1928, 1929, 1930, 1931, 1932, 1933, 1934, 1935, 1936, 1937, 1938, 1939, 1940, 1941, 1942, 1943, 1944, 1945, 1946, 1947, 1948, 1949, 1950, 1951, 1952, 1953, 1954, 1955, 1956, 1957, 1958, 1959, 1960, 1961, 1962, 1963, 1964, 1965, 1966, 1967, 1968, 1969, 1970, 1971, 1972, 1973, 1974, 1975, 1976, 1977, 1978, 1979, 1980, 1981, 1982, 1983, 1984, 1985, 1986, 1987, 1988, 1989, 1990, 1991, 1992, 1993, 1994, 1995, 1996, 1997, 1998, 1999, 2000, 2001, 2002, 2003, 2004, 2005, 2006, 2007, 2008, 2009, 2010]],\n",
       "           labels=[[0, 0, 0, 0, 0, 0, 0, 0, 0, 0, 0, 0, 0, 0, 0, 0, 0, 0, 0, 0, 0, 0, 0, 0, 0, 0, 0, 0, 0, 0, 0, 0, 0, 0, 0, 0, 0, 0, 0, 0, 0, 0, 0, 0, 0, 0, 0, 0, 0, 0, 0, 0, 0, 0, 0, 0, 0, 0, 0, 0, 0, 0, 0, 0, 0, 0, 0, 0, 0, 0, 0, 0, 0, 0, 0, 0, 0, 0, 0, 0, 0, 0, 0, 0, 0, 0, 0, 0, 0, 0, 0, 0, 0, 0, 0, 0, 0, 0, 0, 0, 0, 0, 0, 0, 0, 0, 0, 0, 0, 0, 0, 0, 0, 0, 0, 0, 0, 0, 0, 0, 0, 0, 0, 0, 0, 0, 0, 0, 0, 0, 0, 1, 1, 1, 1, 1, 1, 1, 1, 1, 1, 1, 1, 1, 1, 1, 1, 1, 1, 1, 1, 1, 1, 1, 1, 1, 1, 1, 1, 1, 1, 1, 1, 1, 1, 1, 1, 1, 1, 1, 1, 1, 1, 1, 1, 1, 1, 1, 1, 1, 1, 1, 1, 1, 1, 1, 1, 1, 1, 1, 1, 1, 1, 1, 1, 1, 1, 1, 1, 1, 1, 1, 1, 1, 1, 1, 1, 1, 1, 1, 1, 1, 1, 1, 1, 1, 1, 1, 1, 1, 1, 1, 1, 1, 1, 1, 1, 1, 1, 1, 1, 1, 1, 1, 1, 1, 1, 1, 1, 1, 1, 1, 1, 1, 1, 1, 1, 1, 1, 1, 1, 1, 1, 1, 1, 1, 1, 1, 1, 1, 1, 1], [0, 1, 2, 3, 4, 5, 6, 7, 8, 9, 10, 11, 12, 13, 14, 15, 16, 17, 18, 19, 20, 21, 22, 23, 24, 25, 26, 27, 28, 29, 30, 31, 32, 33, 34, 35, 36, 37, 38, 39, 40, 41, 42, 43, 44, 45, 46, 47, 48, 49, 50, 51, 52, 53, 54, 55, 56, 57, 58, 59, 60, 61, 62, 63, 64, 65, 66, 67, 68, 69, 70, 71, 72, 73, 74, 75, 76, 77, 78, 79, 80, 81, 82, 83, 84, 85, 86, 87, 88, 89, 90, 91, 92, 93, 94, 95, 96, 97, 98, 99, 100, 101, 102, 103, 104, 105, 106, 107, 108, 109, 110, 111, 112, 113, 114, 115, 116, 117, 118, 119, 120, 121, 122, 123, 124, 125, 126, 127, 128, 129, 130, 0, 1, 2, 3, 4, 5, 6, 7, 8, 9, 10, 11, 12, 13, 14, 15, 16, 17, 18, 19, 20, 21, 22, 23, 24, 25, 26, 27, 28, 29, 30, 31, 32, 33, 34, 35, 36, 37, 38, 39, 40, 41, 42, 43, 44, 45, 46, 47, 48, 49, 50, 51, 52, 53, 54, 55, 56, 57, 58, 59, 60, 61, 62, 63, 64, 65, 66, 67, 68, 69, 70, 71, 72, 73, 74, 75, 76, 77, 78, 79, 80, 81, 82, 83, 84, 85, 86, 87, 88, 89, 90, 91, 92, 93, 94, 95, 96, 97, 98, 99, 100, 101, 102, 103, 104, 105, 106, 107, 108, 109, 110, 111, 112, 113, 114, 115, 116, 117, 118, 119, 120, 121, 122, 123, 124, 125, 126, 127, 128, 129, 130]],\n",
       "           names=[u'sex', u'year'])"
      ]
     },
     "execution_count": 84,
     "metadata": {},
     "output_type": "execute_result"
    }
   ],
   "source": [
    "lw_piv.columns"
   ]
  },
  {
   "cell_type": "code",
   "execution_count": 87,
   "metadata": {
    "collapsed": false
   },
   "outputs": [
    {
     "data": {
      "text/html": [
       "<div>\n",
       "<table border=\"1\" class=\"dataframe\">\n",
       "  <thead>\n",
       "    <tr>\n",
       "      <th>sex</th>\n",
       "      <th colspan=\"3\" halign=\"left\">F</th>\n",
       "      <th colspan=\"3\" halign=\"left\">M</th>\n",
       "    </tr>\n",
       "    <tr>\n",
       "      <th>year</th>\n",
       "      <th>1910</th>\n",
       "      <th>1960</th>\n",
       "      <th>2010</th>\n",
       "      <th>1910</th>\n",
       "      <th>1960</th>\n",
       "      <th>2010</th>\n",
       "    </tr>\n",
       "    <tr>\n",
       "      <th>last word</th>\n",
       "      <th></th>\n",
       "      <th></th>\n",
       "      <th></th>\n",
       "      <th></th>\n",
       "      <th></th>\n",
       "      <th></th>\n",
       "    </tr>\n",
       "  </thead>\n",
       "  <tbody>\n",
       "    <tr>\n",
       "      <th>a</th>\n",
       "      <td>108376</td>\n",
       "      <td>691247</td>\n",
       "      <td>670605</td>\n",
       "      <td>977</td>\n",
       "      <td>5204</td>\n",
       "      <td>28438</td>\n",
       "    </tr>\n",
       "    <tr>\n",
       "      <th>b</th>\n",
       "      <td>NaN</td>\n",
       "      <td>694</td>\n",
       "      <td>450</td>\n",
       "      <td>411</td>\n",
       "      <td>3912</td>\n",
       "      <td>38859</td>\n",
       "    </tr>\n",
       "    <tr>\n",
       "      <th>c</th>\n",
       "      <td>5</td>\n",
       "      <td>49</td>\n",
       "      <td>946</td>\n",
       "      <td>482</td>\n",
       "      <td>15476</td>\n",
       "      <td>23125</td>\n",
       "    </tr>\n",
       "    <tr>\n",
       "      <th>d</th>\n",
       "      <td>6750</td>\n",
       "      <td>3729</td>\n",
       "      <td>2607</td>\n",
       "      <td>22111</td>\n",
       "      <td>262112</td>\n",
       "      <td>44398</td>\n",
       "    </tr>\n",
       "    <tr>\n",
       "      <th>e</th>\n",
       "      <td>133569</td>\n",
       "      <td>435013</td>\n",
       "      <td>313833</td>\n",
       "      <td>28655</td>\n",
       "      <td>178823</td>\n",
       "      <td>129012</td>\n",
       "    </tr>\n",
       "  </tbody>\n",
       "</table>\n",
       "</div>"
      ],
      "text/plain": [
       "sex             F                      M                \n",
       "year         1910    1960    2010   1910    1960    2010\n",
       "last word                                               \n",
       "a          108376  691247  670605    977    5204   28438\n",
       "b             NaN     694     450    411    3912   38859\n",
       "c               5      49     946    482   15476   23125\n",
       "d            6750    3729    2607  22111  262112   44398\n",
       "e          133569  435013  313833  28655  178823  129012"
      ]
     },
     "execution_count": 87,
     "metadata": {},
     "output_type": "execute_result"
    }
   ],
   "source": [
    "lw_piv1910 = lw_piv.reindex(columns = [1910, 1960, 2010], level = 'year')\n",
    "lw_piv1910.head()"
   ]
  },
  {
   "cell_type": "markdown",
   "metadata": {},
   "source": [
    "## 위 pivot table의 sex별, year별 합계를 구하시오"
   ]
  },
  {
   "cell_type": "code",
   "execution_count": 91,
   "metadata": {
    "collapsed": false
   },
   "outputs": [
    {
     "data": {
      "text/plain": [
       "sex  year\n",
       "F    1910     396416\n",
       "     1960    2022062\n",
       "     2010    1759010\n",
       "M    1910     194198\n",
       "     1960    2132588\n",
       "     2010    1898382\n",
       "dtype: float64"
      ]
     },
     "execution_count": 91,
     "metadata": {},
     "output_type": "execute_result"
    }
   ],
   "source": [
    "lw_piv1910.sum()"
   ]
  },
  {
   "cell_type": "markdown",
   "metadata": {},
   "source": [
    "## 남녀로 구분하여 가로축은 알파벳, 세로축은 prop로 plotting하시오(2장)"
   ]
  },
  {
   "cell_type": "code",
   "execution_count": 108,
   "metadata": {
    "collapsed": false
   },
   "outputs": [
    {
     "data": {
      "text/plain": [
       "<matplotlib.axes._subplots.AxesSubplot at 0x7f952d3db790>"
      ]
     },
     "execution_count": 108,
     "metadata": {},
     "output_type": "execute_result"
    },
    {
     "data": {
      "image/png": "[encoded data removed]",
      "text/plain": [
       "<matplotlib.figure.Figure at 0x7f950f5def10>"
      ]
     },
     "metadata": {},
     "output_type": "display_data"
    }
   ],
   "source": [
    "fig, axes = plt.subplots(2, 1, figsize = (10, 8))\n",
    "(lw_piv1910 / lw_piv1910.sum())['M'].plot(kind = 'bar', ax = axes[0], title = 'M')\n",
    "(lw_piv1910 / lw_piv1910.sum())['F'].plot(kind = 'bar', ax = axes[1], title = 'F')"
   ]
  },
  {
   "cell_type": "code",
   "execution_count": 111,
   "metadata": {
    "collapsed": true
   },
   "outputs": [
    {
     "data": {
      "text/plain": [
       "<matplotlib.axes._subplots.AxesSubplot at 0x7f950f71f710>"
      ]
     },
     "execution_count": 111,
     "metadata": {},
     "output_type": "execute_result"
    },
    {
     "data": {
      "image/png": "[encoded data removed]",
      "text/plain": [
       "<matplotlib.figure.Figure at 0x7f950f7753d0>"
      ]
     },
     "metadata": {},
     "output_type": "display_data"
    }
   ],
   "source": [
    "# M, F 같이 출력되어서 보기가 힘듦\n",
    "(lw_piv1910 / lw_piv1910.sum()).plot(figsize = (10, 6), kind = 'bar')"
   ]
  },
  {
   "cell_type": "markdown",
   "metadata": {},
   "source": [
    "## 년도별로 d, n, y로 끝나는 이름의 비율을 출력"
   ]
  },
  {
   "cell_type": "code",
   "execution_count": 122,
   "metadata": {
    "collapsed": false
   },
   "outputs": [
    {
     "data": {
      "text/html": [
       "<div>\n",
       "<table border=\"1\" class=\"dataframe\">\n",
       "  <thead>\n",
       "    <tr>\n",
       "      <th>sex</th>\n",
       "      <th colspan=\"10\" halign=\"left\">F</th>\n",
       "      <th>...</th>\n",
       "      <th colspan=\"10\" halign=\"left\">M</th>\n",
       "    </tr>\n",
       "    <tr>\n",
       "      <th>year</th>\n",
       "      <th>1880</th>\n",
       "      <th>1881</th>\n",
       "      <th>1882</th>\n",
       "      <th>1883</th>\n",
       "      <th>1884</th>\n",
       "      <th>1885</th>\n",
       "      <th>1886</th>\n",
       "      <th>1887</th>\n",
       "      <th>1888</th>\n",
       "      <th>1889</th>\n",
       "      <th>...</th>\n",
       "      <th>2001</th>\n",
       "      <th>2002</th>\n",
       "      <th>2003</th>\n",
       "      <th>2004</th>\n",
       "      <th>2005</th>\n",
       "      <th>2006</th>\n",
       "      <th>2007</th>\n",
       "      <th>2008</th>\n",
       "      <th>2009</th>\n",
       "      <th>2010</th>\n",
       "    </tr>\n",
       "    <tr>\n",
       "      <th>last word</th>\n",
       "      <th></th>\n",
       "      <th></th>\n",
       "      <th></th>\n",
       "      <th></th>\n",
       "      <th></th>\n",
       "      <th></th>\n",
       "      <th></th>\n",
       "      <th></th>\n",
       "      <th></th>\n",
       "      <th></th>\n",
       "      <th></th>\n",
       "      <th></th>\n",
       "      <th></th>\n",
       "      <th></th>\n",
       "      <th></th>\n",
       "      <th></th>\n",
       "      <th></th>\n",
       "      <th></th>\n",
       "      <th></th>\n",
       "      <th></th>\n",
       "      <th></th>\n",
       "    </tr>\n",
       "  </thead>\n",
       "  <tbody>\n",
       "    <tr>\n",
       "      <th>a</th>\n",
       "      <td>31446</td>\n",
       "      <td>31581</td>\n",
       "      <td>36536</td>\n",
       "      <td>38330</td>\n",
       "      <td>43680</td>\n",
       "      <td>45408</td>\n",
       "      <td>49100</td>\n",
       "      <td>48942</td>\n",
       "      <td>59442</td>\n",
       "      <td>58631</td>\n",
       "      <td>...</td>\n",
       "      <td>39124</td>\n",
       "      <td>38815</td>\n",
       "      <td>37825</td>\n",
       "      <td>38650</td>\n",
       "      <td>36838</td>\n",
       "      <td>36156</td>\n",
       "      <td>34654</td>\n",
       "      <td>32901</td>\n",
       "      <td>31430</td>\n",
       "      <td>28438</td>\n",
       "    </tr>\n",
       "    <tr>\n",
       "      <th>b</th>\n",
       "      <td>NaN</td>\n",
       "      <td>NaN</td>\n",
       "      <td>NaN</td>\n",
       "      <td>NaN</td>\n",
       "      <td>NaN</td>\n",
       "      <td>NaN</td>\n",
       "      <td>NaN</td>\n",
       "      <td>NaN</td>\n",
       "      <td>NaN</td>\n",
       "      <td>NaN</td>\n",
       "      <td>...</td>\n",
       "      <td>50950</td>\n",
       "      <td>49284</td>\n",
       "      <td>48065</td>\n",
       "      <td>45914</td>\n",
       "      <td>43144</td>\n",
       "      <td>42600</td>\n",
       "      <td>42123</td>\n",
       "      <td>39945</td>\n",
       "      <td>38862</td>\n",
       "      <td>38859</td>\n",
       "    </tr>\n",
       "    <tr>\n",
       "      <th>c</th>\n",
       "      <td>NaN</td>\n",
       "      <td>NaN</td>\n",
       "      <td>5</td>\n",
       "      <td>5</td>\n",
       "      <td>NaN</td>\n",
       "      <td>NaN</td>\n",
       "      <td>NaN</td>\n",
       "      <td>NaN</td>\n",
       "      <td>NaN</td>\n",
       "      <td>NaN</td>\n",
       "      <td>...</td>\n",
       "      <td>27113</td>\n",
       "      <td>27238</td>\n",
       "      <td>27697</td>\n",
       "      <td>26778</td>\n",
       "      <td>26078</td>\n",
       "      <td>26635</td>\n",
       "      <td>26864</td>\n",
       "      <td>25318</td>\n",
       "      <td>24048</td>\n",
       "      <td>23125</td>\n",
       "    </tr>\n",
       "    <tr>\n",
       "      <th>d</th>\n",
       "      <td>609</td>\n",
       "      <td>607</td>\n",
       "      <td>734</td>\n",
       "      <td>810</td>\n",
       "      <td>916</td>\n",
       "      <td>862</td>\n",
       "      <td>1007</td>\n",
       "      <td>1027</td>\n",
       "      <td>1298</td>\n",
       "      <td>1374</td>\n",
       "      <td>...</td>\n",
       "      <td>60838</td>\n",
       "      <td>55829</td>\n",
       "      <td>53391</td>\n",
       "      <td>51754</td>\n",
       "      <td>50670</td>\n",
       "      <td>51410</td>\n",
       "      <td>50595</td>\n",
       "      <td>47910</td>\n",
       "      <td>46172</td>\n",
       "      <td>44398</td>\n",
       "    </tr>\n",
       "    <tr>\n",
       "      <th>e</th>\n",
       "      <td>33378</td>\n",
       "      <td>34080</td>\n",
       "      <td>40399</td>\n",
       "      <td>41914</td>\n",
       "      <td>48089</td>\n",
       "      <td>49616</td>\n",
       "      <td>53884</td>\n",
       "      <td>54353</td>\n",
       "      <td>66750</td>\n",
       "      <td>66663</td>\n",
       "      <td>...</td>\n",
       "      <td>145395</td>\n",
       "      <td>144651</td>\n",
       "      <td>144769</td>\n",
       "      <td>142098</td>\n",
       "      <td>141123</td>\n",
       "      <td>142999</td>\n",
       "      <td>143698</td>\n",
       "      <td>140966</td>\n",
       "      <td>135496</td>\n",
       "      <td>129012</td>\n",
       "    </tr>\n",
       "  </tbody>\n",
       "</table>\n",
       "<p>5 rows × 262 columns</p>\n",
       "</div>"
      ],
      "text/plain": [
       "sex            F                                                          \\\n",
       "year        1880   1881   1882   1883   1884   1885   1886   1887   1888   \n",
       "last word                                                                  \n",
       "a          31446  31581  36536  38330  43680  45408  49100  48942  59442   \n",
       "b            NaN    NaN    NaN    NaN    NaN    NaN    NaN    NaN    NaN   \n",
       "c            NaN    NaN      5      5    NaN    NaN    NaN    NaN    NaN   \n",
       "d            609    607    734    810    916    862   1007   1027   1298   \n",
       "e          33378  34080  40399  41914  48089  49616  53884  54353  66750   \n",
       "\n",
       "sex                ...         M                                          \\\n",
       "year        1889   ...      2001    2002    2003    2004    2005    2006   \n",
       "last word          ...                                                     \n",
       "a          58631   ...     39124   38815   37825   38650   36838   36156   \n",
       "b            NaN   ...     50950   49284   48065   45914   43144   42600   \n",
       "c            NaN   ...     27113   27238   27697   26778   26078   26635   \n",
       "d           1374   ...     60838   55829   53391   51754   50670   51410   \n",
       "e          66663   ...    145395  144651  144769  142098  141123  142999   \n",
       "\n",
       "sex                                        \n",
       "year         2007    2008    2009    2010  \n",
       "last word                                  \n",
       "a           34654   32901   31430   28438  \n",
       "b           42123   39945   38862   38859  \n",
       "c           26864   25318   24048   23125  \n",
       "d           50595   47910   46172   44398  \n",
       "e          143698  140966  135496  129012  \n",
       "\n",
       "[5 rows x 262 columns]"
      ]
     },
     "execution_count": 122,
     "metadata": {},
     "output_type": "execute_result"
    }
   ],
   "source": [
    "lw_piv.head()"
   ]
  },
  {
   "cell_type": "code",
   "execution_count": 125,
   "metadata": {
    "collapsed": false
   },
   "outputs": [
    {
     "name": "stdout",
     "output_type": "stream",
     "text": [
      "last word         d         n         y\n",
      "year                                   \n",
      "1880       0.083055  0.153213  0.075760\n",
      "1881       0.083247  0.153214  0.077451\n",
      "1882       0.085340  0.149560  0.077537\n",
      "1883       0.084066  0.151646  0.079144\n",
      "1884       0.086120  0.149915  0.080405\n"
     ]
    },
    {
     "data": {
      "text/html": [
       "<div>\n",
       "<table border=\"1\" class=\"dataframe\">\n",
       "  <thead>\n",
       "    <tr style=\"text-align: right;\">\n",
       "      <th>last word</th>\n",
       "      <th>d</th>\n",
       "      <th>n</th>\n",
       "      <th>y</th>\n",
       "    </tr>\n",
       "    <tr>\n",
       "      <th>year</th>\n",
       "      <th></th>\n",
       "      <th></th>\n",
       "      <th></th>\n",
       "    </tr>\n",
       "  </thead>\n",
       "  <tbody>\n",
       "    <tr>\n",
       "      <th>2006</th>\n",
       "      <td>0.025075</td>\n",
       "      <td>0.351666</td>\n",
       "      <td>0.060338</td>\n",
       "    </tr>\n",
       "    <tr>\n",
       "      <th>2007</th>\n",
       "      <td>0.024451</td>\n",
       "      <td>0.358274</td>\n",
       "      <td>0.059634</td>\n",
       "    </tr>\n",
       "    <tr>\n",
       "      <th>2008</th>\n",
       "      <td>0.023574</td>\n",
       "      <td>0.361101</td>\n",
       "      <td>0.060342</td>\n",
       "    </tr>\n",
       "    <tr>\n",
       "      <th>2009</th>\n",
       "      <td>0.023398</td>\n",
       "      <td>0.362523</td>\n",
       "      <td>0.057223</td>\n",
       "    </tr>\n",
       "    <tr>\n",
       "      <th>2010</th>\n",
       "      <td>0.023387</td>\n",
       "      <td>0.362771</td>\n",
       "      <td>0.058168</td>\n",
       "    </tr>\n",
       "  </tbody>\n",
       "</table>\n",
       "</div>"
      ],
      "text/plain": [
       "last word         d         n         y\n",
       "year                                   \n",
       "2006       0.025075  0.351666  0.060338\n",
       "2007       0.024451  0.358274  0.059634\n",
       "2008       0.023574  0.361101  0.060342\n",
       "2009       0.023398  0.362523  0.057223\n",
       "2010       0.023387  0.362771  0.058168"
      ]
     },
     "execution_count": 125,
     "metadata": {},
     "output_type": "execute_result"
    }
   ],
   "source": [
    "lw_dny = (lw_piv / lw_piv.sum()).ix[['d', 'n', 'y'], 'M'].T\n",
    "\n",
    "print lw_dny.head()\n",
    "lw_dny.tail()"
   ]
  },
  {
   "cell_type": "markdown",
   "metadata": {},
   "source": [
    "# ax = b 매트릭스 방정식 해 구하기"
   ]
  },
  {
   "cell_type": "code",
   "execution_count": 126,
   "metadata": {
    "collapsed": false
   },
   "outputs": [
    {
     "name": "stdout",
     "output_type": "stream",
     "text": [
      "   0  1  2\n",
      "0  1  3  5\n",
      "1  2  5  1\n",
      "2  2  3  8\n",
      "    0\n",
      "0  10\n",
      "1   8\n",
      "2   3\n"
     ]
    },
    {
     "data": {
      "text/plain": [
       "array([[-9.28],\n",
       "       [ 5.16],\n",
       "       [ 0.76]])"
      ]
     },
     "execution_count": 126,
     "metadata": {},
     "output_type": "execute_result"
    }
   ],
   "source": [
    "a = pd.DataFrame([[1, 3, 5], [2, 5, 1], [2, 3, 8]])\n",
    "print a\n",
    "b = pd.DataFrame([[10], [8], [3]])\n",
    "print b\n",
    "\n",
    "np.linalg.inv(a)\n",
    "np.dot(np.linalg.inv(a), b)"
   ]
  }
 ],
 "metadata": {
  "kernelspec": {
   "display_name": "Python 2",
   "language": "python",
   "name": "python2"
  },
  "language_info": {
   "codemirror_mode": {
    "name": "ipython",
    "version": 2
   },
   "file_extension": ".py",
   "mimetype": "text/x-python",
   "name": "python",
   "nbconvert_exporter": "python",
   "pygments_lexer": "ipython2",
   "version": "2.7.12"
  }
 },
 "nbformat": 4,
 "nbformat_minor": 2
}
