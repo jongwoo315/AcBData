{
 "cells": [
  {
   "cell_type": "markdown",
   "metadata": {},
   "source": [
    "# 기술 통계 내용보기"
   ]
  },
  {
   "cell_type": "code",
   "execution_count": 1,
   "metadata": {
    "collapsed": true
   },
   "outputs": [],
   "source": [
    "import numpy as np\n",
    "import scipy.stats\n",
    "import pandas as pd"
   ]
  },
  {
   "cell_type": "code",
   "execution_count": 54,
   "metadata": {
    "collapsed": false
   },
   "outputs": [
    {
     "name": "stdout",
     "output_type": "stream",
     "text": [
      "<class 'pandas.core.frame.DataFrame'>\n"
     ]
    },
    {
     "data": {
      "text/plain": [
       "NormaltestResult(statistic=array([ 14.62116285]), pvalue=array([ 0.00066843]))"
      ]
     },
     "execution_count": 54,
     "metadata": {},
     "output_type": "execute_result"
    }
   ],
   "source": [
    "d1 = pd.read_table('ratio.txt')\n",
    "print type(d1)\n",
    "scipy.stats.normaltest(d1)"
   ]
  },
  {
   "cell_type": "code",
   "execution_count": 29,
   "metadata": {
    "collapsed": false
   },
   "outputs": [
    {
     "name": "stdout",
     "output_type": "stream",
     "text": [
      "DescribeResult(nobs=20, minmax=(0.55300000000000005, 0.93300000000000005), mean=0.66050000000000009, variance=0.0085582631578947389, skewness=1.6138087546334552, kurtosis=2.3033374843482433)\n",
      "20\n",
      "20\n"
     ]
    }
   ],
   "source": [
    "#d = pd.read_table('ratio.txt', index_col = 0)\n",
    "d = np.array([0.693, 0.662, 0.69, 0.606, 0.57, 0.749, 0.672, 0.628, 0.609, 0.844, 0.654,\n",
    "              0.615, 0.668, 0.601, 0.576, 0.67, 0.606, 0.611, 0.553, 0.933])\n",
    "stat_des = scipy.stats.describe(d)\n",
    "print stat_des\n",
    "print stat_des[0]\n",
    "print stat_des.nobs"
   ]
  },
  {
   "cell_type": "code",
   "execution_count": 30,
   "metadata": {
    "collapsed": false
   },
   "outputs": [
    {
     "name": "stdout",
     "output_type": "stream",
     "text": [
      "20 0.6605\n",
      "0.641\n",
      "45.0\n"
     ]
    }
   ],
   "source": [
    "n, mm, m, v, sk, kt = scipy.stats.describe(d)\n",
    "print n, m\n",
    "print np.median(d)\n",
    "\n",
    "print scipy.stats.percentileofscore(d, 0.6215)"
   ]
  },
  {
   "cell_type": "markdown",
   "metadata": {},
   "source": [
    "# Quantiles and cumulative distribution"
   ]
  },
  {
   "cell_type": "code",
   "execution_count": 31,
   "metadata": {
    "collapsed": false
   },
   "outputs": [
    {
     "name": "stdout",
     "output_type": "stream",
     "text": [
      "norm---------------------\n",
      "0.975002104852\n",
      "1.64485362695\n",
      "t------------------------\n",
      "0.970328843552\n",
      "1.69726089436\n",
      "chi----------------------\n",
      "0.990719923349\n",
      "4.27867246389\n",
      "f------------------------\n",
      "0.928078661465\n",
      "4.17087678577\n"
     ]
    }
   ],
   "source": [
    "print 'norm---------------------'\n",
    "print scipy.stats.norm.cdf(1.96, loc=0, scale=1)\n",
    "print scipy.stats.norm.ppf(0.95, loc=0, scale=1)\n",
    "print 't------------------------'\n",
    "print scipy.stats.t.cdf(1.96, df=30)\n",
    "print scipy.stats.t.ppf(0.95, df=30)\n",
    "print 'chi----------------------'\n",
    "print scipy.stats.chi.cdf(4.84, df=10)\n",
    "print scipy.stats.chi.ppf(0.95, df=10)\n",
    "print 'f------------------------'\n",
    "print scipy.stats.f.cdf(3.48, dfn=1, dfd=30) # 3.48\n",
    "print scipy.stats.f.ppf(0.95, dfn=1, dfd=30) # dfn-numerator, dfd-denominator"
   ]
  },
  {
   "cell_type": "markdown",
   "metadata": {},
   "source": [
    "# Normality test"
   ]
  },
  {
   "cell_type": "code",
   "execution_count": 39,
   "metadata": {
    "collapsed": false
   },
   "outputs": [
    {
     "name": "stdout",
     "output_type": "stream",
     "text": [
      "NormaltestResult(statistic=14.621162848377281, pvalue=0.0006684282986861948) \n",
      "\n",
      "(0.8284037113189697, 0.0023661439772695303)\n"
     ]
    }
   ],
   "source": [
    "ag = scipy.stats.normaltest(d)\n",
    "print ag, '\\n'\n",
    "sp = scipy.stats.shapiro(d)\n",
    "print sp"
   ]
  },
  {
   "cell_type": "markdown",
   "metadata": {},
   "source": [
    "# Random number generator - Sampling"
   ]
  },
  {
   "cell_type": "code",
   "execution_count": 40,
   "metadata": {
    "collapsed": false
   },
   "outputs": [
    {
     "name": "stdout",
     "output_type": "stream",
     "text": [
      "NormaltestResult(statistic=2.196258430697779, pvalue=0.33349439667264208) \n",
      "\n",
      "NormaltestResult(statistic=24.410247926694964, pvalue=5.0047456616198444e-06) \n",
      "\n",
      "NormaltestResult(statistic=1.3399677003933244, pvalue=0.51171684184617139) \n",
      "\n"
     ]
    }
   ],
   "source": [
    "alea1 = scipy.stats.norm.rvs(loc=0, scale=1, size=30)\n",
    "print scipy.stats.normaltest(alea1), '\\n'\n",
    "alea2 = scipy.stats.expon.rvs(size=30)\n",
    "print scipy.stats.normaltest(alea2), '\\n'\n",
    "alea3 = np.random.normal(loc=0, scale=1, size=30)\n",
    "print scipy.stats.normaltest(alea3), '\\n'"
   ]
  },
  {
   "cell_type": "code",
   "execution_count": 43,
   "metadata": {
    "collapsed": false
   },
   "outputs": [
    {
     "name": "stdout",
     "output_type": "stream",
     "text": [
      "[ 0.606  0.628  0.749  0.654  0.662] \n",
      "\n",
      "[ 0.609  0.654  0.606  0.672  0.67 ]\n"
     ]
    }
   ],
   "source": [
    "df1 = np.random.choice(d, size=5, replace=False)\n",
    "df2 = np.random.choice(d, size=5, replace=True)\n",
    "print df1, '\\n'\n",
    "print df2"
   ]
  },
  {
   "cell_type": "markdown",
   "metadata": {},
   "source": [
    "# ttest"
   ]
  },
  {
   "cell_type": "code",
   "execution_count": 55,
   "metadata": {
    "collapsed": false
   },
   "outputs": [
    {
     "name": "stdout",
     "output_type": "stream",
     "text": [
      "Ttest_1sampResult(statistic=2.0545234833761663, pvalue=0.05394132733308659)\n",
      "0.6605\n"
     ]
    }
   ],
   "source": [
    "# 1표본일 때, 가설검증은 \n",
    "# h0: 모평균 = xx / h1: 모평균 != xx\n",
    "# 이렇게 하기 때문에 모평균에 대한 입력이 필요\n",
    "print scipy.stats.ttest_1samp(d, popmean=0.618), '\\n'\n",
    "m = np.mean(d)\n",
    "print m"
   ]
  },
  {
   "cell_type": "code",
   "execution_count": 58,
   "metadata": {
    "collapsed": false
   },
   "outputs": [
    {
     "name": "stdout",
     "output_type": "stream",
     "text": [
      "2.05452348338 \n",
      "\n",
      "0.0539413273331\n"
     ]
    }
   ],
   "source": [
    "import math\n",
    "sigma = np.std(d, ddof=1)\n",
    "t = (m - 0.618) / (sigma / np.sqrt(d.size))\n",
    "print t, '\\n'\n",
    "# 단측 검정\n",
    "# math.fabs(t) - 절대값 구하기 / np.abs(t)와 동일\n",
    "p = 2.0 * (1.0 - scipy.stats.t.cdf(math.fabs(t), d.size - 1))\n",
    "print p"
   ]
  },
  {
   "cell_type": "code",
   "execution_count": 78,
   "metadata": {
    "collapsed": false
   },
   "outputs": [
    {
     "data": {
      "text/plain": [
       "2.093024054408263"
      ]
     },
     "execution_count": 78,
     "metadata": {},
     "output_type": "execute_result"
    }
   ],
   "source": [
    "# p = 0.975, df = 19일 때 t 값\n",
    "scipy.stats.t.ppf(0.975, 19)"
   ]
  },
  {
   "cell_type": "code",
   "execution_count": 59,
   "metadata": {
    "collapsed": false
   },
   "outputs": [
    {
     "data": {
      "text/plain": [
       "0.97302933633345667"
      ]
     },
     "execution_count": 59,
     "metadata": {},
     "output_type": "execute_result"
    }
   ],
   "source": [
    "# t = 2.054, df = 19일 때 p값은(꼬리부분)?\n",
    "scipy.stats.t.cdf(math.fabs(t), d.size - 1)"
   ]
  },
  {
   "cell_type": "code",
   "execution_count": 62,
   "metadata": {
    "collapsed": false
   },
   "outputs": [
    {
     "data": {
      "text/plain": [
       "0.053941327333086653"
      ]
     },
     "execution_count": 62,
     "metadata": {},
     "output_type": "execute_result"
    }
   ],
   "source": [
    "2.0 * (1.0 - scipy.stats.t.cdf(t, 19))"
   ]
  },
  {
   "cell_type": "markdown",
   "metadata": {},
   "source": [
    "# 평균비교 t-test"
   ]
  },
  {
   "cell_type": "code",
   "execution_count": 73,
   "metadata": {
    "collapsed": false
   },
   "outputs": [
    {
     "data": {
      "text/plain": [
       "'dt = np.array([24,43,58,71,43,49,61,44,67,49,53,56,59,52,62,54,57,33,46,43,57])\\ndc = np.array([42,43,55,26,62,37,33,41,19,54,20,85,46,10,17,60,53,42,37,42,55,28,48])'"
      ]
     },
     "execution_count": 73,
     "metadata": {},
     "output_type": "execute_result"
    }
   ],
   "source": [
    "dt = np.array([24, 43, 58, 71, 43, 49, 61, 44, 67, 49, \n",
    "               53, 56, 59, 52, 62, 54, 57, 33, 46, 43, 57])\n",
    "dc = np.array([42, 43, 55, 26, 62, 37, 33, 41, 19, 54, \n",
    "               20, 85, 46, 10, 17, 60, 53, 42, 37, 42, 55, 28, 48])\n",
    "'''dt = np.array([24,43,58,71,43,49,61,44,67,49,53,56,59,52,62,54,57,33,46,43,57])\n",
    "dc = np.array([42,43,55,26,62,37,33,41,19,54,20,85,46,10,17,60,53,42,37,42,55,28,48])'''"
   ]
  },
  {
   "cell_type": "code",
   "execution_count": 74,
   "metadata": {
    "collapsed": false
   },
   "outputs": [
    {
     "name": "stdout",
     "output_type": "stream",
     "text": [
      "Ttest_indResult(statistic=2.2665515995859429, pvalue=0.028629482832245753) \n",
      "\n",
      "Ttest_indResult(statistic=2.3108891978542281, pvalue=0.026382412824424779) \n",
      "\n",
      "BartlettResult(statistic=3.8455356421051388, pvalue=0.049878587395117857)\n"
     ]
    }
   ],
   "source": [
    "print scipy.stats.ttest_ind(dt, dc), '\\n'\n",
    "print scipy.stats.ttest_ind(dt, dc, equal_var=False), '\\n'\n",
    "print scipy.stats.bartlett(dt, dc)"
   ]
  },
  {
   "cell_type": "markdown",
   "metadata": {},
   "source": [
    "# paired sample test"
   ]
  },
  {
   "cell_type": "code",
   "execution_count": 75,
   "metadata": {
    "collapsed": true
   },
   "outputs": [],
   "source": [
    "d1968 = np.array([0.42,0.5,0.52,0.45,0.43,0.55,0.45,0.34,0.45,0.54,0.42,0.51,0.49,0.54,0.5,0.58,0.49,0.56,0.63])\n",
    "d1972 = np.array([0.45,0.5,0.52,0.45,0.46,0.55,0.60,0.49,0.35,0.55,0.52,0.53,0.57,0.53,0.59,0.64,0.5,0.57,0.64])"
   ]
  },
  {
   "cell_type": "code",
   "execution_count": 83,
   "metadata": {
    "collapsed": false
   },
   "outputs": [
    {
     "name": "stdout",
     "output_type": "stream",
     "text": [
      "Ttest_relResult(statistic=-2.4577038156018021, pvalue=0.024352597586836344) \n",
      "\n",
      "WilcoxonResult(statistic=16.0, pvalue=0.012224112319788901) \n",
      "\n",
      "(0.092812803110483719, 0.95465391050970339)\n",
      "(0.90538184413134448, 0.63591465044191153)\n"
     ]
    }
   ],
   "source": [
    "# 모수적 방법\n",
    "print scipy.stats.ttest_rel(d1968, d1972), '\\n'\n",
    "# 비모수적 방법\n",
    "print scipy.stats.wilcoxon(d1968, d1972), '\\n'\n",
    "# 정규성 검정\n",
    "# The Jarque-Bera test tests \n",
    "# whether the sample data has the \n",
    "# skewness and kurtosis matching a normal distribution.\n",
    "# return value: (test statistics, p-value)\n",
    "print scipy.stats.jarque_bera(d1968)\n",
    "print scipy.stats.jarque_bera(d1972)"
   ]
  },
  {
   "cell_type": "markdown",
   "metadata": {},
   "source": [
    "# correlation"
   ]
  },
  {
   "cell_type": "code",
   "execution_count": 86,
   "metadata": {
    "collapsed": false
   },
   "outputs": [
    {
     "name": "stdout",
     "output_type": "stream",
     "text": [
      "(0.78428732015386771, 0.0072343583517295021) \n",
      "\n",
      "SpearmanrResult(correlation=0.83030303030303021, pvalue=0.0029402270232795065) \n",
      "\n",
      "KendalltauResult(correlation=0.6444444444444446, pvalue=0.0094910979584626725) \n",
      "\n",
      "LinregressResult(slope=0.61150129146472409, intercept=0.10815378587805125, rvalue=0.7842873201538676, pvalue=0.007234358351729509, stderr=0.17102020517368527) \n",
      "\n"
     ]
    }
   ],
   "source": [
    "#two vectors for correlation and regression (without North Ireland)\n",
    "dalc = np.array([6.47,6.13,6.19,4.89,5.63,4.52,5.89,4.79,5.27,6.08])\n",
    "dtob = np.array([4.03,3.76,3.77,3.34,3.47,2.92,3.2,2.71,3.53,4.51])\n",
    "\n",
    "#Pearson’s correlation # 정규성\n",
    "print(scipy.stats.pearsonr(dalc,dtob)), '\\n'\n",
    "#Spearman’s rank correlation # 정규분포를 따르지 않을 때\n",
    "print(scipy.stats.spearmanr(dalc,dtob)), '\\n'\n",
    "#Kendall’s tau coefficient based on concordant and discordant pairs # 순위쌍\n",
    "print(scipy.stats.kendalltau(dalc,dtob)), '\\n'\n",
    "#simple linear regression\n",
    "print(scipy.stats.linregress(dalc,dtob)), '\\n'"
   ]
  },
  {
   "cell_type": "code",
   "execution_count": 92,
   "metadata": {
    "collapsed": false
   },
   "outputs": [
    {
     "data": {
      "text/plain": [
       "<matplotlib.text.Text at 0x7fe30c2de310>"
      ]
     },
     "execution_count": 92,
     "metadata": {},
     "output_type": "execute_result"
    },
    {
     "data": {
      "image/png": "[encoded data removed]",
      "text/plain": [
       "<matplotlib.figure.Figure at 0x7fe30c2eac10>"
      ]
     },
     "metadata": {},
     "output_type": "display_data"
    }
   ],
   "source": [
    "import matplotlib.pyplot as plt\n",
    "%matplotlib inline\n",
    "plt.scatter(dtob, dalc, color='r')\n",
    "plt.xlabel('tobacco')\n",
    "plt.ylabel('alcohol')"
   ]
  },
  {
   "cell_type": "markdown",
   "metadata": {},
   "source": [
    "# anova"
   ]
  },
  {
   "cell_type": "code",
   "execution_count": 103,
   "metadata": {
    "collapsed": false
   },
   "outputs": [
    {
     "name": "stdout",
     "output_type": "stream",
     "text": [
      "99.8410111127\n",
      "91.0695388132\n",
      "82.2092022901\n"
     ]
    }
   ],
   "source": [
    "print np.std(dbeef)\n",
    "print np.std(dmeat)\n",
    "print np.std(dpoultry)"
   ]
  },
  {
   "cell_type": "code",
   "execution_count": 104,
   "metadata": {
    "collapsed": false
   },
   "outputs": [
    {
     "name": "stdout",
     "output_type": "stream",
     "text": [
      "401.15\n",
      "418.529411765\n",
      "459.0\n"
     ]
    }
   ],
   "source": [
    "print np.mean(dbeef)\n",
    "print np.mean(dmeat)\n",
    "print np.mean(dpoultry)"
   ]
  },
  {
   "cell_type": "code",
   "execution_count": 107,
   "metadata": {
    "collapsed": false
   },
   "outputs": [
    {
     "data": {
      "text/plain": [
       "Ttest_indResult(statistic=-1.8506905729456689, pvalue=0.07266906372841167)"
      ]
     },
     "execution_count": 107,
     "metadata": {},
     "output_type": "execute_result"
    }
   ],
   "source": [
    "scipy.stats.ttest_ind(dbeef, dpoultry)"
   ]
  },
  {
   "cell_type": "code",
   "execution_count": 97,
   "metadata": {
    "collapsed": false
   },
   "outputs": [
    {
     "name": "stdout",
     "output_type": "stream",
     "text": [
      "LeveneResult(statistic=0.24943197044211946, pvalue=0.7801883296333626) \n",
      "\n",
      "F_onewayResult(statistic=1.7777910697271164, pvalue=0.17932466808492342) \n",
      "\n",
      "KruskalResult(statistic=4.7128082695637135, pvalue=0.094760356763514311)\n"
     ]
    }
   ],
   "source": [
    "#salt – 3 independent samples\n",
    "# 소고기핫도그, 돼지고기핫도그, 닭고기핫도그의 나트륨 + 칼로리 함량\n",
    "dbeef = np.array([495,477,425,322,482,587,370,322,479,375,330,300,386,401,645,440,317,319,298,253])\n",
    "dmeat = np.array([458,506,473,545,496,360,387,386,507,393,405,372,144,511,405,428,339])\n",
    "dpoultry = np.array([430,375,396,383,387,542,359,357,528,513,426,513,358,581,588,522,545])\n",
    "\n",
    "#comparing variances\n",
    "print(scipy.stats.levene(dbeef,dmeat,dpoultry)), '\\n'\n",
    "\n",
    "#comparing means - one way anova - parametric\n",
    "print(scipy.stats.f_oneway(dbeef,dmeat,dpoultry)), '\\n'\n",
    "#Kruskal-Wallis test – one way anova on ranks – non-parametric\n",
    "print(scipy.stats.kruskal(dbeef,dmeat,dpoultry))\n",
    "\n",
    "# At 5% level, the contents in salt of the hot dogs are not different."
   ]
  },
  {
   "cell_type": "markdown",
   "metadata": {},
   "source": [
    "# statsmodel(회귀분석)"
   ]
  },
  {
   "cell_type": "code",
   "execution_count": 108,
   "metadata": {
    "collapsed": true
   },
   "outputs": [
    {
     "name": "stdout",
     "output_type": "stream",
     "text": [
      "                            OLS Regression Results                            \n",
      "==============================================================================\n",
      "Dep. Variable:                      y   R-squared:                       0.197\n",
      "Model:                            OLS   Adj. R-squared:                  0.180\n",
      "Method:                 Least Squares   F-statistic:                     11.87\n",
      "Date:                Fri, 03 Mar 2017   Prob (F-statistic):           2.45e-05\n",
      "Time:                        11:45:24   Log-Likelihood:                -17.323\n",
      "No. Observations:                 100   AIC:                             40.65\n",
      "Df Residuals:                      97   BIC:                             48.46\n",
      "Df Model:                           2                                         \n",
      "Covariance Type:            nonrobust                                         \n",
      "==============================================================================\n",
      "                 coef    std err          t      P>|t|      [0.025      0.975]\n",
      "------------------------------------------------------------------------------\n",
      "const          1.4666      0.074     19.794      0.000       1.320       1.614\n",
      "x1             0.1181      0.096      1.235      0.220      -0.072       0.308\n",
      "x2             0.4972      0.104      4.797      0.000       0.291       0.703\n",
      "==============================================================================\n",
      "Omnibus:                       34.287   Durbin-Watson:                   2.531\n",
      "Prob(Omnibus):                  0.000   Jarque-Bera (JB):                6.047\n",
      "Skew:                          -0.013   Prob(JB):                       0.0486\n",
      "Kurtosis:                       1.796   Cond. No.                         5.19\n",
      "==============================================================================\n",
      "\n",
      "Warnings:\n",
      "[1] Standard Errors assume that the covariance matrix of the errors is correctly specified.\n"
     ]
    }
   ],
   "source": [
    "# statsmodels.api와 statsmodels.formula.api의 차이\n",
    "import numpy as np\n",
    "import statsmodels.api as sm\n",
    "\n",
    "# Generate artificial data (2 regressors + constant)\n",
    "# nobs => 데이터 개수\n",
    "nobs = 100\n",
    "# 100행, 2열로 출력\n",
    "X = np.random.random((nobs, 2))\n",
    "# 파이썬에서 회귀분석시 상수 추가가 필요하다(하지 않으면 올바른 결과가 나오지 않음)\n",
    "X = sm.add_constant(X)\n",
    "\n",
    "beta = [1, .1, .5]\n",
    "e = np.random.random(nobs)\n",
    "y = np.dot(X, beta) + e\n",
    "\n",
    "# Fit regression model\n",
    "results = sm.OLS(y, X).fit()\n",
    "\n",
    "# Inspect the results\n",
    "print results.summary()"
   ]
  },
  {
   "cell_type": "code",
   "execution_count": 129,
   "metadata": {
    "collapsed": false
   },
   "outputs": [
    {
     "data": {
      "text/html": [
       "<div>\n",
       "<table border=\"1\" class=\"dataframe\">\n",
       "  <thead>\n",
       "    <tr style=\"text-align: right;\">\n",
       "      <th></th>\n",
       "      <th>dept</th>\n",
       "      <th>Region</th>\n",
       "      <th>Department</th>\n",
       "      <th>Crime_pers</th>\n",
       "      <th>Crime_prop</th>\n",
       "      <th>Literacy</th>\n",
       "      <th>Donations</th>\n",
       "      <th>Infants</th>\n",
       "      <th>Suicides</th>\n",
       "      <th>MainCity</th>\n",
       "      <th>...</th>\n",
       "      <th>Crime_parents</th>\n",
       "      <th>Infanticide</th>\n",
       "      <th>Donation_clergy</th>\n",
       "      <th>Lottery</th>\n",
       "      <th>Desertion</th>\n",
       "      <th>Instruction</th>\n",
       "      <th>Prostitutes</th>\n",
       "      <th>Distance</th>\n",
       "      <th>Area</th>\n",
       "      <th>Pop1831</th>\n",
       "    </tr>\n",
       "  </thead>\n",
       "  <tbody>\n",
       "    <tr>\n",
       "      <th>0</th>\n",
       "      <td>1</td>\n",
       "      <td>E</td>\n",
       "      <td>Ain</td>\n",
       "      <td>28870</td>\n",
       "      <td>15890</td>\n",
       "      <td>37</td>\n",
       "      <td>5098</td>\n",
       "      <td>33120</td>\n",
       "      <td>35039</td>\n",
       "      <td>2:Med</td>\n",
       "      <td>...</td>\n",
       "      <td>71</td>\n",
       "      <td>60</td>\n",
       "      <td>69</td>\n",
       "      <td>41</td>\n",
       "      <td>55</td>\n",
       "      <td>46</td>\n",
       "      <td>13</td>\n",
       "      <td>218.372</td>\n",
       "      <td>5762</td>\n",
       "      <td>346.03</td>\n",
       "    </tr>\n",
       "    <tr>\n",
       "      <th>1</th>\n",
       "      <td>2</td>\n",
       "      <td>N</td>\n",
       "      <td>Aisne</td>\n",
       "      <td>26226</td>\n",
       "      <td>5521</td>\n",
       "      <td>51</td>\n",
       "      <td>8901</td>\n",
       "      <td>14572</td>\n",
       "      <td>12831</td>\n",
       "      <td>2:Med</td>\n",
       "      <td>...</td>\n",
       "      <td>4</td>\n",
       "      <td>82</td>\n",
       "      <td>36</td>\n",
       "      <td>38</td>\n",
       "      <td>82</td>\n",
       "      <td>24</td>\n",
       "      <td>327</td>\n",
       "      <td>65.945</td>\n",
       "      <td>7369</td>\n",
       "      <td>513.00</td>\n",
       "    </tr>\n",
       "    <tr>\n",
       "      <th>2</th>\n",
       "      <td>3</td>\n",
       "      <td>C</td>\n",
       "      <td>Allier</td>\n",
       "      <td>26747</td>\n",
       "      <td>7925</td>\n",
       "      <td>13</td>\n",
       "      <td>10973</td>\n",
       "      <td>17044</td>\n",
       "      <td>114121</td>\n",
       "      <td>2:Med</td>\n",
       "      <td>...</td>\n",
       "      <td>46</td>\n",
       "      <td>42</td>\n",
       "      <td>76</td>\n",
       "      <td>66</td>\n",
       "      <td>16</td>\n",
       "      <td>85</td>\n",
       "      <td>34</td>\n",
       "      <td>161.927</td>\n",
       "      <td>7340</td>\n",
       "      <td>298.26</td>\n",
       "    </tr>\n",
       "    <tr>\n",
       "      <th>3</th>\n",
       "      <td>4</td>\n",
       "      <td>E</td>\n",
       "      <td>Basses-Alpes</td>\n",
       "      <td>12935</td>\n",
       "      <td>7289</td>\n",
       "      <td>46</td>\n",
       "      <td>2733</td>\n",
       "      <td>23018</td>\n",
       "      <td>14238</td>\n",
       "      <td>1:Sm</td>\n",
       "      <td>...</td>\n",
       "      <td>70</td>\n",
       "      <td>12</td>\n",
       "      <td>37</td>\n",
       "      <td>80</td>\n",
       "      <td>32</td>\n",
       "      <td>29</td>\n",
       "      <td>2</td>\n",
       "      <td>351.399</td>\n",
       "      <td>6925</td>\n",
       "      <td>155.90</td>\n",
       "    </tr>\n",
       "    <tr>\n",
       "      <th>4</th>\n",
       "      <td>5</td>\n",
       "      <td>E</td>\n",
       "      <td>Hautes-Alpes</td>\n",
       "      <td>17488</td>\n",
       "      <td>8174</td>\n",
       "      <td>69</td>\n",
       "      <td>6962</td>\n",
       "      <td>23076</td>\n",
       "      <td>16171</td>\n",
       "      <td>1:Sm</td>\n",
       "      <td>...</td>\n",
       "      <td>22</td>\n",
       "      <td>23</td>\n",
       "      <td>64</td>\n",
       "      <td>79</td>\n",
       "      <td>35</td>\n",
       "      <td>7</td>\n",
       "      <td>1</td>\n",
       "      <td>320.280</td>\n",
       "      <td>5549</td>\n",
       "      <td>129.10</td>\n",
       "    </tr>\n",
       "  </tbody>\n",
       "</table>\n",
       "<p>5 rows × 23 columns</p>\n",
       "</div>"
      ],
      "text/plain": [
       "   dept Region    Department  Crime_pers  Crime_prop  Literacy  Donations  \\\n",
       "0     1      E           Ain       28870       15890        37       5098   \n",
       "1     2      N         Aisne       26226        5521        51       8901   \n",
       "2     3      C        Allier       26747        7925        13      10973   \n",
       "3     4      E  Basses-Alpes       12935        7289        46       2733   \n",
       "4     5      E  Hautes-Alpes       17488        8174        69       6962   \n",
       "\n",
       "   Infants  Suicides MainCity   ...     Crime_parents  Infanticide  \\\n",
       "0    33120     35039    2:Med   ...                71           60   \n",
       "1    14572     12831    2:Med   ...                 4           82   \n",
       "2    17044    114121    2:Med   ...                46           42   \n",
       "3    23018     14238     1:Sm   ...                70           12   \n",
       "4    23076     16171     1:Sm   ...                22           23   \n",
       "\n",
       "   Donation_clergy  Lottery  Desertion  Instruction  Prostitutes  Distance  \\\n",
       "0               69       41         55           46           13   218.372   \n",
       "1               36       38         82           24          327    65.945   \n",
       "2               76       66         16           85           34   161.927   \n",
       "3               37       80         32           29            2   351.399   \n",
       "4               64       79         35            7            1   320.280   \n",
       "\n",
       "   Area  Pop1831  \n",
       "0  5762   346.03  \n",
       "1  7369   513.00  \n",
       "2  7340   298.26  \n",
       "3  6925   155.90  \n",
       "4  5549   129.10  \n",
       "\n",
       "[5 rows x 23 columns]"
      ]
     },
     "execution_count": 129,
     "metadata": {},
     "output_type": "execute_result"
    }
   ],
   "source": [
    "dat.head()"
   ]
  },
  {
   "cell_type": "code",
   "execution_count": 130,
   "metadata": {
    "collapsed": false
   },
   "outputs": [
    {
     "data": {
      "text/plain": [
       "NormaltestResult(statistic=36.626174496340369, pvalue=1.113594972312434e-08)"
      ]
     },
     "execution_count": 130,
     "metadata": {},
     "output_type": "execute_result"
    }
   ],
   "source": [
    "scipy.stats.normaltest(dat['Pop1831'])"
   ]
  },
  {
   "cell_type": "code",
   "execution_count": 109,
   "metadata": {
    "collapsed": false
   },
   "outputs": [
    {
     "name": "stdout",
     "output_type": "stream",
     "text": [
      "                            OLS Regression Results                            \n",
      "==============================================================================\n",
      "Dep. Variable:                Lottery   R-squared:                       0.348\n",
      "Model:                            OLS   Adj. R-squared:                  0.333\n",
      "Method:                 Least Squares   F-statistic:                     22.20\n",
      "Date:                Fri, 03 Mar 2017   Prob (F-statistic):           1.90e-08\n",
      "Time:                        11:45:34   Log-Likelihood:                -379.82\n",
      "No. Observations:                  86   AIC:                             765.6\n",
      "Df Residuals:                      83   BIC:                             773.0\n",
      "Df Model:                           2                                         \n",
      "Covariance Type:            nonrobust                                         \n",
      "===================================================================================\n",
      "                      coef    std err          t      P>|t|      [0.025      0.975]\n",
      "-----------------------------------------------------------------------------------\n",
      "Intercept         246.4341     35.233      6.995      0.000     176.358     316.510\n",
      "Literacy           -0.4889      0.128     -3.832      0.000      -0.743      -0.235\n",
      "np.log(Pop1831)   -31.3114      5.977     -5.239      0.000     -43.199     -19.424\n",
      "==============================================================================\n",
      "Omnibus:                        3.713   Durbin-Watson:                   2.019\n",
      "Prob(Omnibus):                  0.156   Jarque-Bera (JB):                3.394\n",
      "Skew:                          -0.487   Prob(JB):                        0.183\n",
      "Kurtosis:                       3.003   Cond. No.                         702.\n",
      "==============================================================================\n",
      "\n",
      "Warnings:\n",
      "[1] Standard Errors assume that the covariance matrix of the errors is correctly specified.\n"
     ]
    }
   ],
   "source": [
    "import numpy as np\n",
    "import statsmodels.api as sm\n",
    "import statsmodels.formula.api as smf\n",
    "\n",
    "# Load data\n",
    "dat = sm.datasets.get_rdataset(\"Guerry\", \"HistData\").data\n",
    "\n",
    "# Fit regression model (using the natural log of one of the regressors)\n",
    "results = smf.ols('Lottery ~ Literacy + np.log(Pop1831)', data=dat).fit()\n",
    "\n",
    "# Inspect the results\n",
    "print results.summary()"
   ]
  },
  {
   "cell_type": "markdown",
   "metadata": {},
   "source": [
    "# statsmodels(anova)"
   ]
  },
  {
   "cell_type": "code",
   "execution_count": 2,
   "metadata": {
    "collapsed": true
   },
   "outputs": [],
   "source": [
    "import statsmodels.api as sm\n",
    "from statsmodels.formula.api import ols"
   ]
  },
  {
   "cell_type": "code",
   "execution_count": null,
   "metadata": {
    "collapsed": true
   },
   "outputs": [],
   "source": [
    "Description\n",
    "The Moore data frame has 45 rows and 4 columns. \n",
    "The data are for subjects in a social-psychological experiment, \n",
    "who were faced with manipulated disagreement from a partner of either of low or high status. \n",
    "The subjects could either conform to the partner's judgment or stick with their own judgment.\n",
    "\n",
    "This data frame contains the following columns:\n",
    "\n",
    "partner.status\n",
    "    Partner's status. A factor with levels: high, low.\n",
    "\n",
    "conformity\n",
    "    Number of conforming responses in 40 critical trials.\n",
    "\n",
    "fcategory\n",
    "    F-Scale Categorized. A factor with levels (note levels out of order): high, low, medium.\n",
    "\n",
    "fscore\n",
    "    Authoritarianism: F-Scale score."
   ]
  },
  {
   "cell_type": "code",
   "execution_count": 134,
   "metadata": {
    "collapsed": false
   },
   "outputs": [
    {
     "data": {
      "text/html": [
       "<div>\n",
       "<table border=\"1\" class=\"dataframe\">\n",
       "  <thead>\n",
       "    <tr style=\"text-align: right;\">\n",
       "      <th></th>\n",
       "      <th>partner_status</th>\n",
       "      <th>conformity</th>\n",
       "      <th>fcategory</th>\n",
       "      <th>fscore</th>\n",
       "    </tr>\n",
       "  </thead>\n",
       "  <tbody>\n",
       "    <tr>\n",
       "      <th>0</th>\n",
       "      <td>low</td>\n",
       "      <td>8</td>\n",
       "      <td>low</td>\n",
       "      <td>37</td>\n",
       "    </tr>\n",
       "    <tr>\n",
       "      <th>1</th>\n",
       "      <td>low</td>\n",
       "      <td>4</td>\n",
       "      <td>high</td>\n",
       "      <td>57</td>\n",
       "    </tr>\n",
       "    <tr>\n",
       "      <th>2</th>\n",
       "      <td>low</td>\n",
       "      <td>8</td>\n",
       "      <td>high</td>\n",
       "      <td>65</td>\n",
       "    </tr>\n",
       "    <tr>\n",
       "      <th>3</th>\n",
       "      <td>low</td>\n",
       "      <td>7</td>\n",
       "      <td>low</td>\n",
       "      <td>20</td>\n",
       "    </tr>\n",
       "    <tr>\n",
       "      <th>4</th>\n",
       "      <td>low</td>\n",
       "      <td>10</td>\n",
       "      <td>low</td>\n",
       "      <td>36</td>\n",
       "    </tr>\n",
       "  </tbody>\n",
       "</table>\n",
       "</div>"
      ],
      "text/plain": [
       "  partner_status  conformity fcategory  fscore\n",
       "0            low           8       low      37\n",
       "1            low           4      high      57\n",
       "2            low           8      high      65\n",
       "3            low           7       low      20\n",
       "4            low          10       low      36"
      ]
     },
     "execution_count": 134,
     "metadata": {},
     "output_type": "execute_result"
    }
   ],
   "source": [
    "data.head()"
   ]
  },
  {
   "cell_type": "code",
   "execution_count": 158,
   "metadata": {
    "collapsed": false
   },
   "outputs": [
    {
     "data": {
      "text/html": [
       "<div>\n",
       "<table border=\"1\" class=\"dataframe\">\n",
       "  <thead>\n",
       "    <tr style=\"text-align: right;\">\n",
       "      <th></th>\n",
       "      <th>partner_status</th>\n",
       "      <th>fcategory</th>\n",
       "    </tr>\n",
       "  </thead>\n",
       "  <tbody>\n",
       "    <tr>\n",
       "      <th>high</th>\n",
       "      <td>23</td>\n",
       "      <td>15</td>\n",
       "    </tr>\n",
       "    <tr>\n",
       "      <th>low</th>\n",
       "      <td>22</td>\n",
       "      <td>15</td>\n",
       "    </tr>\n",
       "    <tr>\n",
       "      <th>medium</th>\n",
       "      <td>0</td>\n",
       "      <td>15</td>\n",
       "    </tr>\n",
       "  </tbody>\n",
       "</table>\n",
       "</div>"
      ],
      "text/plain": [
       "        partner_status  fcategory\n",
       "high                23         15\n",
       "low                 22         15\n",
       "medium               0         15"
      ]
     },
     "execution_count": 158,
     "metadata": {},
     "output_type": "execute_result"
    }
   ],
   "source": [
    "#pd.value_counts(data.partner_status)\n",
    "data[['partner_status', 'fcategory']].apply(pd.value_counts).fillna(0)"
   ]
  },
  {
   "cell_type": "code",
   "execution_count": 133,
   "metadata": {
    "collapsed": false
   },
   "outputs": [
    {
     "data": {
      "text/html": [
       "<div>\n",
       "<table border=\"1\" class=\"dataframe\">\n",
       "  <thead>\n",
       "    <tr style=\"text-align: right;\">\n",
       "      <th></th>\n",
       "      <th>sum_sq</th>\n",
       "      <th>df</th>\n",
       "      <th>F</th>\n",
       "      <th>PR(&gt;F)</th>\n",
       "    </tr>\n",
       "  </thead>\n",
       "  <tbody>\n",
       "    <tr>\n",
       "      <th>C(fcategory, Sum)</th>\n",
       "      <td>11.614700</td>\n",
       "      <td>2</td>\n",
       "      <td>0.276958</td>\n",
       "      <td>0.759564</td>\n",
       "    </tr>\n",
       "    <tr>\n",
       "      <th>C(partner_status, Sum)</th>\n",
       "      <td>212.213778</td>\n",
       "      <td>1</td>\n",
       "      <td>10.120692</td>\n",
       "      <td>0.002874</td>\n",
       "    </tr>\n",
       "    <tr>\n",
       "      <th>C(fcategory, Sum):C(partner_status, Sum)</th>\n",
       "      <td>175.488928</td>\n",
       "      <td>2</td>\n",
       "      <td>4.184623</td>\n",
       "      <td>0.022572</td>\n",
       "    </tr>\n",
       "    <tr>\n",
       "      <th>Residual</th>\n",
       "      <td>817.763961</td>\n",
       "      <td>39</td>\n",
       "      <td>NaN</td>\n",
       "      <td>NaN</td>\n",
       "    </tr>\n",
       "  </tbody>\n",
       "</table>\n",
       "</div>"
      ],
      "text/plain": [
       "                                              sum_sq  df          F    PR(>F)\n",
       "C(fcategory, Sum)                          11.614700   2   0.276958  0.759564\n",
       "C(partner_status, Sum)                    212.213778   1  10.120692  0.002874\n",
       "C(fcategory, Sum):C(partner_status, Sum)  175.488928   2   4.184623  0.022572\n",
       "Residual                                  817.763961  39        NaN       NaN"
      ]
     },
     "execution_count": 133,
     "metadata": {},
     "output_type": "execute_result"
    }
   ],
   "source": [
    "# car package의 Moore data\n",
    "# R style\n",
    "# install.packages('car')\n",
    "# library(car)\n",
    "# data('Moore')\n",
    "# head(Moore)\n",
    "moore = sm.datasets.get_rdataset(\"Moore\", \"car\", cache=True) # load data\n",
    "data = moore.data\n",
    "data = data.rename(columns={\"partner.status\":\"partner_status\"}) # make name pythonic\n",
    "\n",
    "# 이원분산분석 (초점이 되는 것은 상호작용항의 유의성)\n",
    "# h0: 순응정도에 대해 권위주의 정도(상, 중, 하)와 상대방의 지위(자신보다 높음, 낮음)간에는 상호작용효과가 없다\n",
    "# h0: 권위주의 정도와 상대방의 지위에 따라 순응정도는 차이가 없다\n",
    "moore_lm = ols('conformity ~ C(fcategory, Sum)*C(partner_status, Sum)', data=data).fit()\n",
    "table = sm.stats.anova_lm(moore_lm, typ=2) # Type 2 ANOVA DataFrame\n",
    "table\n",
    "\n",
    "# partner_status와 fcategory간의 상호작용효과는 f=4.184, p=0.02 -> 유의함"
   ]
  },
  {
   "cell_type": "markdown",
   "metadata": {},
   "source": [
    "# patsy의 이해"
   ]
  },
  {
   "cell_type": "code",
   "execution_count": null,
   "metadata": {
    "collapsed": true
   },
   "outputs": [],
   "source": [
    "'''\n",
    "I -- 타입보호\n",
    "Q -- 공백이 있는 문자열 보호(formula 내에서)\n",
    "np.log -- formula내에서 데이터 변환\n",
    "~ -- lowest predence(bind most loosely)\n",
    "** -- highest predence(bind most tightly)\n",
    ": -- 상호작용\n",
    "* -- a+b, a:b의 의미\n",
    "/ -- a + a:b의 의미\n",
    "'''"
   ]
  },
  {
   "cell_type": "code",
   "execution_count": 159,
   "metadata": {
    "collapsed": true
   },
   "outputs": [],
   "source": [
    "import statsmodels.api as sm\n",
    "import statsmodels.formula.api as smf\n",
    "import statsmodels.graphics.api as smg\n",
    "import patsy\n",
    "%matplotlib inline\n",
    "import matplotlib.pyplot as plt\n",
    "import numpy as np\n",
    "import pandas as pd\n",
    "import scipy.stats\n",
    "import seaborn as sns"
   ]
  },
  {
   "cell_type": "code",
   "execution_count": 182,
   "metadata": {
    "collapsed": false
   },
   "outputs": [
    {
     "name": "stdout",
     "output_type": "stream",
     "text": [
      "[ -5.55555556e-01   1.88888889e+00  -8.88888889e-01  -1.33226763e-15]\n",
      "[]\n",
      "3\n",
      "[  2.48531012e+02   5.13072310e+00   1.07813150e-01   3.00329500e-16]\n"
     ]
    }
   ],
   "source": [
    "np.random.seed(123456789)\n",
    "y = np.array([1, 2, 3, 4, 5])\n",
    "x1 = np.array([6, 7, 8, 9, 10])\n",
    "x2 = np.array([11, 12, 13, 14, 15])\n",
    "X = np.vstack([np.ones(5), x1, x2, x1*x2]).T\n",
    "\n",
    "beta, res, rank, sval = np.linalg.lstsq(X, y)\n",
    "print beta\n",
    "print res\n",
    "print rank\n",
    "print sval"
   ]
  },
  {
   "cell_type": "code",
   "execution_count": 162,
   "metadata": {
    "collapsed": false
   },
   "outputs": [
    {
     "data": {
      "text/plain": [
       "array([ -5.55555556e-01,   1.88888889e+00,  -8.88888889e-01,\n",
       "        -1.66533454e-15])"
      ]
     },
     "execution_count": 162,
     "metadata": {},
     "output_type": "execute_result"
    }
   ],
   "source": [
    "data = {\"y\": y, \"x1\": x1, \"x2\": x2}\n",
    "y, X = patsy.dmatrices(\"y ~ 1 + x1 + x2 + x1*x2\", data)\n",
    "model = sm.OLS(y, X)\n",
    "result = model.fit()\n",
    "result.params"
   ]
  },
  {
   "cell_type": "code",
   "execution_count": 163,
   "metadata": {
    "collapsed": false
   },
   "outputs": [
    {
     "data": {
      "text/plain": [
       "Intercept   -5.555556e-01\n",
       "x1           1.888889e+00\n",
       "x2          -8.888889e-01\n",
       "x1:x2       -1.665335e-15\n",
       "dtype: float64"
      ]
     },
     "execution_count": 163,
     "metadata": {},
     "output_type": "execute_result"
    }
   ],
   "source": [
    "df_data = pd.DataFrame(data)\n",
    "y, X = patsy.dmatrices(\"y ~ 1 + x1 + x2 + x1:x2\", df_data, return_type=\"dataframe\")\n",
    "model = sm.OLS(y, X)\n",
    "result = model.fit()\n",
    "result.params"
   ]
  },
  {
   "cell_type": "code",
   "execution_count": 170,
   "metadata": {
    "collapsed": false
   },
   "outputs": [
    {
     "name": "stdout",
     "output_type": "stream",
     "text": [
      "['Intercept', 'a']\n",
      "['Intercept', 'a', 'b']\n",
      "['a', 'b'] \n",
      "\n",
      "['Intercept', 'a', 'b', 'a:b']\n",
      "['Intercept', 'a', 'b', 'a:b', 'c', 'a:c', 'b:c', 'a:b:c']\n",
      "['Intercept', 'a', 'b', 'a:b', 'c', 'a:c', 'b:c']\n"
     ]
    }
   ],
   "source": [
    "from collections import defaultdict\n",
    "data = defaultdict(lambda: np.array([]))\n",
    "print patsy.dmatrices(\"y ~ a\", data=data)[1].design_info.term_names\n",
    "print patsy.dmatrices(\"y ~ 1 + a + b\", data=data)[1].design_info.term_names\n",
    "print patsy.dmatrices(\"y ~ -1 + a + b\", data=data)[1].design_info.term_names, '\\n'\n",
    "print patsy.dmatrices(\"y ~ a * b\", data=data)[1].design_info.term_names\n",
    "print patsy.dmatrices(\"y ~ a * b * c\", data=data)[1].design_info.term_names\n",
    "print patsy.dmatrices(\"y ~ a * b * c - a:b:c\", data=data)[1].design_info.term_names"
   ]
  },
  {
   "cell_type": "code",
   "execution_count": 171,
   "metadata": {
    "collapsed": false
   },
   "outputs": [
    {
     "name": "stdout",
     "output_type": "stream",
     "text": [
      "['Intercept', 'a', 'b']\n",
      "['Intercept', 'I(a + b)'] \n",
      "\n",
      "['Intercept', 'a']\n",
      "['Intercept', 'np.log(a)', 'b']\n"
     ]
    }
   ],
   "source": [
    "data = {k: np.array([]) for k in [\"y\", \"a\", \"b\", \"c\"]}\n",
    "print patsy.dmatrices(\"y ~ a + b\", data=data)[1].design_info.term_names\n",
    "print patsy.dmatrices(\"y ~ I(a + b)\", data=data)[1].design_info.term_names, '\\n'\n",
    "print patsy.dmatrices(\"y ~ a**2\", data=data)[1].design_info.term_names\n",
    "print patsy.dmatrices(\"y ~ np.log(a) + b\", data=data)[1].design_info.term_names"
   ]
  },
  {
   "cell_type": "code",
   "execution_count": 172,
   "metadata": {
    "collapsed": false
   },
   "outputs": [
    {
     "data": {
      "text/plain": [
       "['Intercept', 'z(a, b)']"
      ]
     },
     "execution_count": 172,
     "metadata": {},
     "output_type": "execute_result"
    }
   ],
   "source": [
    "# Or we can even transform variables with arbitrary Python functions:\n",
    "z = lambda x1, x2: x1+x2\n",
    "patsy.dmatrices(\"y ~ z(a, b)\", data=data)[1].design_info.term_names"
   ]
  },
  {
   "cell_type": "code",
   "execution_count": 173,
   "metadata": {
    "collapsed": false
   },
   "outputs": [
    {
     "data": {
      "text/html": [
       "<div>\n",
       "<table border=\"1\" class=\"dataframe\">\n",
       "  <thead>\n",
       "    <tr style=\"text-align: right;\">\n",
       "      <th></th>\n",
       "      <th>C(a)[1]</th>\n",
       "      <th>C(a)[2]</th>\n",
       "      <th>C(a)[3]</th>\n",
       "    </tr>\n",
       "  </thead>\n",
       "  <tbody>\n",
       "    <tr>\n",
       "      <th>0</th>\n",
       "      <td>1</td>\n",
       "      <td>0</td>\n",
       "      <td>0</td>\n",
       "    </tr>\n",
       "    <tr>\n",
       "      <th>1</th>\n",
       "      <td>0</td>\n",
       "      <td>1</td>\n",
       "      <td>0</td>\n",
       "    </tr>\n",
       "    <tr>\n",
       "      <th>2</th>\n",
       "      <td>0</td>\n",
       "      <td>0</td>\n",
       "      <td>1</td>\n",
       "    </tr>\n",
       "  </tbody>\n",
       "</table>\n",
       "</div>"
      ],
      "text/plain": [
       "   C(a)[1]  C(a)[2]  C(a)[3]\n",
       "0        1        0        0\n",
       "1        0        1        0\n",
       "2        0        0        1"
      ]
     },
     "execution_count": 173,
     "metadata": {},
     "output_type": "execute_result"
    }
   ],
   "source": [
    "data = {\"y\": [1, 2, 3], \"a\": [1, 2, 3]}\n",
    "patsy.dmatrices(\"y ~ - 1 + C(a)\", data=data, return_type=\"dataframe\")[1]"
   ]
  },
  {
   "cell_type": "code",
   "execution_count": 184,
   "metadata": {
    "collapsed": false
   },
   "outputs": [
    {
     "name": "stdout",
     "output_type": "stream",
     "text": [
      "   a[type A]  a[type B]  a[type C]\n",
      "0          1          0          0\n",
      "1          0          1          0\n",
      "2          0          0          1\n",
      "   C(a, Poly).Constant  C(a, Poly).Linear  C(a, Poly).Quadratic\n",
      "0                    1      -7.071068e-01              0.408248\n",
      "1                    1      -5.551115e-17             -0.816497\n",
      "2                    1       7.071068e-01              0.408248\n"
     ]
    }
   ],
   "source": [
    "data = {\"y\": [1, 2, 3], \"a\": [\"type A\", \"type B\", \"type C\"]}\n",
    "print patsy.dmatrices(\"y ~ - 1 + a\", data=data, return_type=\"dataframe\")[1]\n",
    "print patsy.dmatrices(\"y ~ - 1 + C(a, Poly)\", data=data, return_type=\"dataframe\")[1]\n",
    "#print patsy.dmatrices(\"y ~ a * b\", data=data)[1].design_info.term_names, '\\n'\n",
    "#print patsy.dmatrices(\"y ~ a * b * c\", data=data)[1].design_info.term_names\n",
    "#print patsy.dmatrices(\"y ~ a * b * c - a:b:c\", data=data)[1].design_info.term_names"
   ]
  },
  {
   "cell_type": "code",
   "execution_count": 185,
   "metadata": {
    "collapsed": false
   },
   "outputs": [
    {
     "data": {
      "text/plain": [
       "['Intercept', 'a']"
      ]
     },
     "execution_count": 185,
     "metadata": {},
     "output_type": "execute_result"
    }
   ],
   "source": [
    "data = {k: np.array([]) for k in ['y', 'a', 'b', 'c']}\n",
    "patsy.dmatrices(\"y ~ a + b\", data=data)[1].design_info.term_names\n",
    "patsy.dmatrices(\"y ~ I(a + b)\", data=data)[1].design_info.term_names\n",
    "patsy.dmatrices(\"y ~ a**2\", data=data)[1].design_info.term_names"
   ]
  },
  {
   "cell_type": "markdown",
   "metadata": {},
   "source": [
    "# 이원배치 분산분석"
   ]
  },
  {
   "cell_type": "code",
   "execution_count": 3,
   "metadata": {
    "collapsed": false
   },
   "outputs": [],
   "source": [
    "moore1 = sm.datasets.get_rdataset(\"Moore\", \"car\", cache=True) # load data"
   ]
  },
  {
   "cell_type": "code",
   "execution_count": 4,
   "metadata": {
    "collapsed": false
   },
   "outputs": [
    {
     "data": {
      "text/html": [
       "<div>\n",
       "<table border=\"1\" class=\"dataframe\">\n",
       "  <thead>\n",
       "    <tr style=\"text-align: right;\">\n",
       "      <th></th>\n",
       "      <th>partner_status</th>\n",
       "      <th>conformity</th>\n",
       "      <th>fcategory</th>\n",
       "      <th>fscore</th>\n",
       "    </tr>\n",
       "  </thead>\n",
       "  <tbody>\n",
       "    <tr>\n",
       "      <th>0</th>\n",
       "      <td>low</td>\n",
       "      <td>8</td>\n",
       "      <td>low</td>\n",
       "      <td>37</td>\n",
       "    </tr>\n",
       "    <tr>\n",
       "      <th>1</th>\n",
       "      <td>low</td>\n",
       "      <td>4</td>\n",
       "      <td>high</td>\n",
       "      <td>57</td>\n",
       "    </tr>\n",
       "    <tr>\n",
       "      <th>2</th>\n",
       "      <td>low</td>\n",
       "      <td>8</td>\n",
       "      <td>high</td>\n",
       "      <td>65</td>\n",
       "    </tr>\n",
       "    <tr>\n",
       "      <th>3</th>\n",
       "      <td>low</td>\n",
       "      <td>7</td>\n",
       "      <td>low</td>\n",
       "      <td>20</td>\n",
       "    </tr>\n",
       "    <tr>\n",
       "      <th>4</th>\n",
       "      <td>low</td>\n",
       "      <td>10</td>\n",
       "      <td>low</td>\n",
       "      <td>36</td>\n",
       "    </tr>\n",
       "  </tbody>\n",
       "</table>\n",
       "</div>"
      ],
      "text/plain": [
       "  partner_status  conformity fcategory  fscore\n",
       "0            low           8       low      37\n",
       "1            low           4      high      57\n",
       "2            low           8      high      65\n",
       "3            low           7       low      20\n",
       "4            low          10       low      36"
      ]
     },
     "execution_count": 4,
     "metadata": {},
     "output_type": "execute_result"
    }
   ],
   "source": [
    "mdata = moore1.data\n",
    "mdata = mdata.rename(columns={\"partner.status\":\"partner_status\"}) # make name pythonic\n",
    "mdata.head()"
   ]
  },
  {
   "cell_type": "code",
   "execution_count": 21,
   "metadata": {
    "collapsed": false
   },
   "outputs": [
    {
     "data": {
      "text/html": [
       "<div>\n",
       "<table border=\"1\" class=\"dataframe\">\n",
       "  <thead>\n",
       "    <tr style=\"text-align: right;\">\n",
       "      <th>fcategory</th>\n",
       "      <th>high</th>\n",
       "      <th>low</th>\n",
       "      <th>medium</th>\n",
       "    </tr>\n",
       "    <tr>\n",
       "      <th>partner_status</th>\n",
       "      <th></th>\n",
       "      <th></th>\n",
       "      <th></th>\n",
       "    </tr>\n",
       "  </thead>\n",
       "  <tbody>\n",
       "    <tr>\n",
       "      <th>high</th>\n",
       "      <td>7</td>\n",
       "      <td>5</td>\n",
       "      <td>11</td>\n",
       "    </tr>\n",
       "    <tr>\n",
       "      <th>low</th>\n",
       "      <td>8</td>\n",
       "      <td>10</td>\n",
       "      <td>4</td>\n",
       "    </tr>\n",
       "  </tbody>\n",
       "</table>\n",
       "</div>"
      ],
      "text/plain": [
       "fcategory       high  low  medium\n",
       "partner_status                   \n",
       "high               7    5      11\n",
       "low                8   10       4"
      ]
     },
     "execution_count": 21,
     "metadata": {},
     "output_type": "execute_result"
    }
   ],
   "source": [
    "mdata.pivot_table('conformity', index=['partner_status'], columns=['fcategory'], aggfunc=len)"
   ]
  },
  {
   "cell_type": "code",
   "execution_count": 20,
   "metadata": {
    "collapsed": false
   },
   "outputs": [
    {
     "data": {
      "text/html": [
       "<div>\n",
       "<table border=\"1\" class=\"dataframe\">\n",
       "  <thead>\n",
       "    <tr style=\"text-align: right;\">\n",
       "      <th>fcategory</th>\n",
       "      <th>high</th>\n",
       "      <th>low</th>\n",
       "      <th>medium</th>\n",
       "    </tr>\n",
       "    <tr>\n",
       "      <th>partner_status</th>\n",
       "      <th></th>\n",
       "      <th></th>\n",
       "      <th></th>\n",
       "    </tr>\n",
       "  </thead>\n",
       "  <tbody>\n",
       "    <tr>\n",
       "      <th>high</th>\n",
       "      <td>7</td>\n",
       "      <td>5</td>\n",
       "      <td>11</td>\n",
       "    </tr>\n",
       "    <tr>\n",
       "      <th>low</th>\n",
       "      <td>8</td>\n",
       "      <td>10</td>\n",
       "      <td>4</td>\n",
       "    </tr>\n",
       "  </tbody>\n",
       "</table>\n",
       "</div>"
      ],
      "text/plain": [
       "fcategory       high  low  medium\n",
       "partner_status                   \n",
       "high               7    5      11\n",
       "low                8   10       4"
      ]
     },
     "execution_count": 20,
     "metadata": {},
     "output_type": "execute_result"
    }
   ],
   "source": [
    "mdata.groupby(['partner_status', 'fcategory'])['conformity'].count().unstack()"
   ]
  }
 ],
 "metadata": {
  "kernelspec": {
   "display_name": "Python 2",
   "language": "python",
   "name": "python2"
  },
  "language_info": {
   "codemirror_mode": {
    "name": "ipython",
    "version": 2
   },
   "file_extension": ".py",
   "mimetype": "text/x-python",
   "name": "python",
   "nbconvert_exporter": "python",
   "pygments_lexer": "ipython2",
   "version": "2.7.12"
  }
 },
 "nbformat": 4,
 "nbformat_minor": 2
}
