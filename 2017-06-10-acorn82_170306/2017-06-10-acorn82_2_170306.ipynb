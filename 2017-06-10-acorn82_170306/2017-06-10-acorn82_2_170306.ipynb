{
 "cells": [
  {
   "cell_type": "raw",
   "metadata": {},
   "source": [
    "원래 ipynb 제목\n",
    "2. GLM.ipynb"
   ]
  },
  {
   "cell_type": "markdown",
   "metadata": {},
   "source": [
    "# GLM"
   ]
  },
  {
   "cell_type": "markdown",
   "metadata": {},
   "source": [
    "http://scikit-learn.org/stable/modules/linear_model.html#stochastic-gradient-descent-sgd\n",
    "- 이상치\n",
    "- 변수 간 종속성\n",
    "- \n",
    "- 위의 문제들을 해결하기 위한 방법들(가중치를 사용)\n",
    "- logistic reg: 분류기(예측이 아님)\n",
    "- lasso는 절대값으로\n",
    "    - \n",
    "- ridge는 제곱값으로\n",
    "    - RidgeCV: 데이터프레임을 몇 조각으로 나눠서 따로 확인\n",
    "        - 데이터 양이 적을 때: 데이터 양을 늘리기 위한 방법\n",
    "- elastic net은 절대값 + 제곱값 둘 다 사용\n",
    "\n",
    "- LARS: 관측값에 비해 차원수가 많을 때\n",
    "- OMP: 전진 선택법 / 노이즈가 있을 때 희소 signal을 찾을 때\n",
    "- SGD: 하강 경사법\n",
    "- 퍼셉트론: neural network"
   ]
  },
  {
   "cell_type": "code",
   "execution_count": null,
   "metadata": {
    "collapsed": true
   },
   "outputs": [],
   "source": []
  }
 ],
 "metadata": {
  "kernelspec": {
   "display_name": "Python 2",
   "language": "python",
   "name": "python2"
  },
  "language_info": {
   "codemirror_mode": {
    "name": "ipython",
    "version": 2
   },
   "file_extension": ".py",
   "mimetype": "text/x-python",
   "name": "python",
   "nbconvert_exporter": "python",
   "pygments_lexer": "ipython2",
   "version": "2.7.12"
  }
 },
 "nbformat": 4,
 "nbformat_minor": 2
}
