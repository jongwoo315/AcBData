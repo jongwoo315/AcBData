{
 "cells": [
  {
   "cell_type": "raw",
   "metadata": {},
   "source": [
    "원래 ipynb 제목\n",
    "4. svm, pca combination.ipynb"
   ]
  },
  {
   "cell_type": "markdown",
   "metadata": {},
   "source": [
    "http://scikit-learn.org/stable/auto_examples/feature_stacker.html"
   ]
  },
  {
   "cell_type": "markdown",
   "metadata": {},
   "source": [
    "Often it is beneficial to combine several methods to obtain good performance. This example shows how to use FeatureUnion to combine features obtained by PCA and univariate selection.\n",
    "Combining features using this transformer has the benefit that it allows cross validation and grid searches over the whole process.\n",
    "The combination used in this example is not particularly helpful on this dataset and is only used to illustrate the usage of FeatureUnion."
   ]
  },
  {
   "cell_type": "markdown",
   "metadata": {},
   "source": [
    "petal=꽃잎 // sepal=꽃받침\n",
    "<img src='iris_petal_sepal.png', width=150, height=100>\n",
    "<img src='iris-data-analysis-example-in-r-3-638.jpg', width=480>"
   ]
  },
  {
   "cell_type": "code",
   "execution_count": 11,
   "metadata": {
    "collapsed": true
   },
   "outputs": [],
   "source": [
    "from sklearn.datasets import load_iris\n",
    "iris = load_iris()\n",
    "X, y = iris.data, iris.target"
   ]
  },
  {
   "cell_type": "code",
   "execution_count": 35,
   "metadata": {
    "collapsed": true
   },
   "outputs": [],
   "source": [
    "import pandas as pd"
   ]
  },
  {
   "cell_type": "code",
   "execution_count": 37,
   "metadata": {
    "collapsed": false
   },
   "outputs": [],
   "source": [
    "df = pd.DataFrame(X)"
   ]
  },
  {
   "cell_type": "markdown",
   "metadata": {},
   "source": [
    "## PCA"
   ]
  },
  {
   "cell_type": "code",
   "execution_count": 12,
   "metadata": {
    "collapsed": false
   },
   "outputs": [
    {
     "data": {
      "text/plain": [
       "PCA(copy=True, iterated_power='auto', n_components=2, random_state=None,\n",
       "  svd_solver='auto', tol=0.0, whiten=False)"
      ]
     },
     "execution_count": 12,
     "metadata": {},
     "output_type": "execute_result"
    }
   ],
   "source": [
    "# This dataset is way too high-dimensional. Better do PCA:\n",
    "from sklearn.decomposition import PCA\n",
    "pca = PCA(n_components=2)\n",
    "pca"
   ]
  },
  {
   "cell_type": "markdown",
   "metadata": {},
   "source": [
    "## SelectKBest"
   ]
  },
  {
   "cell_type": "code",
   "execution_count": 15,
   "metadata": {
    "collapsed": false
   },
   "outputs": [
    {
     "data": {
      "text/plain": [
       "SelectKBest(k=1, score_func=<function f_classif at 0x7fc082cdb230>)"
      ]
     },
     "execution_count": 15,
     "metadata": {},
     "output_type": "execute_result"
    }
   ],
   "source": [
    "# Maybe some original features where good, too?\n",
    "from sklearn.feature_selection import SelectKBest\n",
    "selection = SelectKBest(k=1)\n",
    "selection"
   ]
  },
  {
   "cell_type": "markdown",
   "metadata": {},
   "source": [
    "## 위에서 선언한 pca, selection을 동시에 작업할 수 있게 만듦"
   ]
  },
  {
   "cell_type": "code",
   "execution_count": 16,
   "metadata": {
    "collapsed": false
   },
   "outputs": [
    {
     "data": {
      "text/plain": [
       "FeatureUnion(n_jobs=1,\n",
       "       transformer_list=[('pca', PCA(copy=True, iterated_power='auto', n_components=2, random_state=None,\n",
       "  svd_solver='auto', tol=0.0, whiten=False)), ('univ_select', SelectKBest(k=1, score_func=<function f_classif at 0x7fc082cdb230>))],\n",
       "       transformer_weights=None)"
      ]
     },
     "execution_count": 16,
     "metadata": {},
     "output_type": "execute_result"
    }
   ],
   "source": [
    "# Build estimator from PCA and Univariate selection:\n",
    "from sklearn.pipeline import Pipeline, FeatureUnion\n",
    "combined_features = FeatureUnion([(\"pca\", pca), (\"univ_select\", selection)])\n",
    "combined_features"
   ]
  },
  {
   "cell_type": "markdown",
   "metadata": {},
   "source": [
    "## iris 데이터 피팅"
   ]
  },
  {
   "cell_type": "code",
   "execution_count": 18,
   "metadata": {
    "collapsed": false
   },
   "outputs": [
    {
     "data": {
      "text/plain": [
       "array([[-2.68420713,  0.32660731,  1.4       ],\n",
       "       [-2.71539062, -0.16955685,  1.4       ],\n",
       "       [-2.88981954, -0.13734561,  1.3       ],\n",
       "       [-2.7464372 , -0.31112432,  1.5       ],\n",
       "       [-2.72859298,  0.33392456,  1.4       ]])"
      ]
     },
     "execution_count": 18,
     "metadata": {},
     "output_type": "execute_result"
    }
   ],
   "source": [
    "# Use combined features to transform dataset:\n",
    "X_features = combined_features.fit(X, y).transform(X)\n",
    "X_features[:5]"
   ]
  },
  {
   "cell_type": "code",
   "execution_count": 28,
   "metadata": {
    "collapsed": false
   },
   "outputs": [
    {
     "data": {
      "text/plain": [
       "150"
      ]
     },
     "execution_count": 28,
     "metadata": {},
     "output_type": "execute_result"
    }
   ],
   "source": [
    "len(X_features)"
   ]
  },
  {
   "cell_type": "code",
   "execution_count": 41,
   "metadata": {
    "collapsed": false
   },
   "outputs": [
    {
     "data": {
      "text/plain": [
       "FeatureUnion(n_jobs=1,\n",
       "       transformer_list=[('pca', PCA(copy=True, iterated_power='auto', n_components=2, random_state=None,\n",
       "  svd_solver='auto', tol=0.0, whiten=False)), ('univ_select', SelectKBest(k=1, score_func=<function f_classif at 0x7fc082cdb230>))],\n",
       "       transformer_weights=None)"
      ]
     },
     "execution_count": 41,
     "metadata": {},
     "output_type": "execute_result"
    }
   ],
   "source": [
    "combined_features.fit(X, y)"
   ]
  },
  {
   "cell_type": "markdown",
   "metadata": {},
   "source": [
    "## 서포트 벡터 머신"
   ]
  },
  {
   "cell_type": "code",
   "execution_count": 19,
   "metadata": {
    "collapsed": false,
    "scrolled": true
   },
   "outputs": [
    {
     "data": {
      "text/plain": [
       "SVC(C=1.0, cache_size=200, class_weight=None, coef0=0.0,\n",
       "  decision_function_shape=None, degree=3, gamma='auto', kernel='linear',\n",
       "  max_iter=-1, probability=False, random_state=None, shrinking=True,\n",
       "  tol=0.001, verbose=False)"
      ]
     },
     "execution_count": 19,
     "metadata": {},
     "output_type": "execute_result"
    }
   ],
   "source": [
    "from sklearn.svm import SVC\n",
    "svm = SVC(kernel=\"linear\")\n",
    "svm"
   ]
  },
  {
   "cell_type": "markdown",
   "metadata": {},
   "source": [
    "## pipeline"
   ]
  },
  {
   "cell_type": "code",
   "execution_count": 20,
   "metadata": {
    "collapsed": false
   },
   "outputs": [
    {
     "data": {
      "text/plain": [
       "Pipeline(steps=[('features', FeatureUnion(n_jobs=1,\n",
       "       transformer_list=[('pca', PCA(copy=True, iterated_power='auto', n_components=2, random_state=None,\n",
       "  svd_solver='auto', tol=0.0, whiten=False)), ('univ_select', SelectKBest(k=1, score_func=<function f_classif at 0x7fc082cdb230>))],\n",
       "       transformer...,\n",
       "  max_iter=-1, probability=False, random_state=None, shrinking=True,\n",
       "  tol=0.001, verbose=False))])"
      ]
     },
     "execution_count": 20,
     "metadata": {},
     "output_type": "execute_result"
    }
   ],
   "source": [
    "# Do grid search over k, n_components and C:\n",
    "pipeline = Pipeline([(\"features\", combined_features), (\"svm\", svm)])\n",
    "pipeline"
   ]
  },
  {
   "cell_type": "markdown",
   "metadata": {},
   "source": [
    "## param_grid 생성(gridsearch에 사용할 매개변수)"
   ]
  },
  {
   "cell_type": "code",
   "execution_count": null,
   "metadata": {
    "collapsed": true
   },
   "outputs": [],
   "source": [
    "param_grid = dict(features__pca__n_components=[1, 2, 3],\n",
    "                  features__univ_select__k=[1, 2],\n",
    "                  svm__C=[0.1, 1, 10])"
   ]
  },
  {
   "cell_type": "markdown",
   "metadata": {},
   "source": [
    "## GridSearchCV 실시"
   ]
  },
  {
   "cell_type": "code",
   "execution_count": 10,
   "metadata": {
    "collapsed": false
   },
   "outputs": [
    {
     "name": "stdout",
     "output_type": "stream",
     "text": [
      "Fitting 3 folds for each of 18 candidates, totalling 54 fits\n",
      "[CV] features__pca__n_components=1, svm__C=0.1, features__univ_select__k=1 \n",
      "[CV]  features__pca__n_components=1, svm__C=0.1, features__univ_select__k=1, score=0.960784, total=   0.0s\n",
      "[CV] features__pca__n_components=1, svm__C=0.1, features__univ_select__k=1 \n",
      "[CV]  features__pca__n_components=1, svm__C=0.1, features__univ_select__k=1, score=0.901961, total=   0.0s\n",
      "[CV] features__pca__n_components=1, svm__C=0.1, features__univ_select__k=1 \n",
      "[CV]  features__pca__n_components=1, svm__C=0.1, features__univ_select__k=1, score=0.979167, total=   0.0s\n",
      "[CV] features__pca__n_components=1, svm__C=1, features__univ_select__k=1 \n",
      "[CV]  features__pca__n_components=1, svm__C=1, features__univ_select__k=1, score=0.941176, total=   0.0s\n",
      "[CV] features__pca__n_components=1, svm__C=1, features__univ_select__k=1 \n",
      "[CV]  features__pca__n_components=1, svm__C=1, features__univ_select__k=1, score=0.921569, total=   0.0s\n",
      "[CV] features__pca__n_components=1, svm__C=1, features__univ_select__k=1 \n",
      "[CV]  features__pca__n_components=1, svm__C=1, features__univ_select__k=1, score=0.979167, total=   0.0s\n",
      "[CV] features__pca__n_components=1, svm__C=10, features__univ_select__k=1 \n",
      "[CV]  features__pca__n_components=1, svm__C=10, features__univ_select__k=1, score=0.960784, total=   0.0s\n",
      "[CV] features__pca__n_components=1, svm__C=10, features__univ_select__k=1 \n",
      "[CV]  features__pca__n_components=1, svm__C=10, features__univ_select__k=1, score=0.921569, total=   0.0s\n",
      "[CV] features__pca__n_components=1, svm__C=10, features__univ_select__k=1 \n",
      "[CV]  features__pca__n_components=1, svm__C=10, features__univ_select__k=1, score=0.979167, total=   0.0s\n"
     ]
    },
    {
     "name": "stderr",
     "output_type": "stream",
     "text": [
      "[Parallel(n_jobs=1)]: Done   1 out of   1 | elapsed:    0.0s remaining:    0.0s\n",
      "[Parallel(n_jobs=1)]: Done   2 out of   2 | elapsed:    0.1s remaining:    0.0s\n",
      "[Parallel(n_jobs=1)]: Done   3 out of   3 | elapsed:    0.1s remaining:    0.0s\n",
      "[Parallel(n_jobs=1)]: Done   4 out of   4 | elapsed:    0.1s remaining:    0.0s\n",
      "[Parallel(n_jobs=1)]: Done   5 out of   5 | elapsed:    0.1s remaining:    0.0s\n",
      "[Parallel(n_jobs=1)]: Done   6 out of   6 | elapsed:    0.1s remaining:    0.0s\n",
      "[Parallel(n_jobs=1)]: Done   7 out of   7 | elapsed:    0.2s remaining:    0.0s\n",
      "[Parallel(n_jobs=1)]: Done   8 out of   8 | elapsed:    0.2s remaining:    0.0s\n",
      "[Parallel(n_jobs=1)]: Done   9 out of   9 | elapsed:    0.2s remaining:    0.0s\n"
     ]
    },
    {
     "name": "stdout",
     "output_type": "stream",
     "text": [
      "[CV] features__pca__n_components=1, svm__C=0.1, features__univ_select__k=2 \n",
      "[CV]  features__pca__n_components=1, svm__C=0.1, features__univ_select__k=2, score=0.960784, total=   0.0s\n",
      "[CV] features__pca__n_components=1, svm__C=0.1, features__univ_select__k=2 \n",
      "[CV]  features__pca__n_components=1, svm__C=0.1, features__univ_select__k=2, score=0.921569, total=   0.0s\n",
      "[CV] features__pca__n_components=1, svm__C=0.1, features__univ_select__k=2 \n",
      "[CV]  features__pca__n_components=1, svm__C=0.1, features__univ_select__k=2, score=0.979167, total=   0.0s\n",
      "[CV] features__pca__n_components=1, svm__C=1, features__univ_select__k=2 \n",
      "[CV]  features__pca__n_components=1, svm__C=1, features__univ_select__k=2, score=0.960784, total=   0.0s\n",
      "[CV] features__pca__n_components=1, svm__C=1, features__univ_select__k=2 \n",
      "[CV]  features__pca__n_components=1, svm__C=1, features__univ_select__k=2, score=0.921569, total=   0.0s\n",
      "[CV] features__pca__n_components=1, svm__C=1, features__univ_select__k=2 \n",
      "[CV]  features__pca__n_components=1, svm__C=1, features__univ_select__k=2, score=1.000000, total=   0.0s\n",
      "[CV] features__pca__n_components=1, svm__C=10, features__univ_select__k=2 \n",
      "[CV]  features__pca__n_components=1, svm__C=10, features__univ_select__k=2, score=0.980392, total=   0.0s\n",
      "[CV] features__pca__n_components=1, svm__C=10, features__univ_select__k=2 \n",
      "[CV]  features__pca__n_components=1, svm__C=10, features__univ_select__k=2, score=0.901961, total=   0.0s\n",
      "[CV] features__pca__n_components=1, svm__C=10, features__univ_select__k=2 \n",
      "[CV]  features__pca__n_components=1, svm__C=10, features__univ_select__k=2, score=1.000000, total=   0.0s\n",
      "[CV] features__pca__n_components=2, svm__C=0.1, features__univ_select__k=1 \n",
      "[CV]  features__pca__n_components=2, svm__C=0.1, features__univ_select__k=1, score=0.960784, total=   0.0s\n",
      "[CV] features__pca__n_components=2, svm__C=0.1, features__univ_select__k=1 \n",
      "[CV]  features__pca__n_components=2, svm__C=0.1, features__univ_select__k=1, score=0.901961, total=   0.0s\n",
      "[CV] features__pca__n_components=2, svm__C=0.1, features__univ_select__k=1 \n",
      "[CV]  features__pca__n_components=2, svm__C=0.1, features__univ_select__k=1, score=0.979167, total=   0.0s\n",
      "[CV] features__pca__n_components=2, svm__C=1, features__univ_select__k=1 \n",
      "[CV]  features__pca__n_components=2, svm__C=1, features__univ_select__k=1, score=0.980392, total=   0.0s\n",
      "[CV] features__pca__n_components=2, svm__C=1, features__univ_select__k=1 \n",
      "[CV]  features__pca__n_components=2, svm__C=1, features__univ_select__k=1, score=0.941176, total=   0.0s\n",
      "[CV] features__pca__n_components=2, svm__C=1, features__univ_select__k=1 \n",
      "[CV]  features__pca__n_components=2, svm__C=1, features__univ_select__k=1, score=0.979167, total=   0.0s\n",
      "[CV] features__pca__n_components=2, svm__C=10, features__univ_select__k=1 \n",
      "[CV]  features__pca__n_components=2, svm__C=10, features__univ_select__k=1, score=0.980392, total=   0.0s\n",
      "[CV] features__pca__n_components=2, svm__C=10, features__univ_select__k=1 \n",
      "[CV]  features__pca__n_components=2, svm__C=10, features__univ_select__k=1, score=0.941176, total=   0.0s\n",
      "[CV] features__pca__n_components=2, svm__C=10, features__univ_select__k=1 \n",
      "[CV]  features__pca__n_components=2, svm__C=10, features__univ_select__k=1, score=0.979167, total=   0.0s\n",
      "[CV] features__pca__n_components=2, svm__C=0.1, features__univ_select__k=2 \n",
      "[CV]  features__pca__n_components=2, svm__C=0.1, features__univ_select__k=2, score=0.980392, total=   0.0s\n",
      "[CV] features__pca__n_components=2, svm__C=0.1, features__univ_select__k=2 \n",
      "[CV]  features__pca__n_components=2, svm__C=0.1, features__univ_select__k=2, score=0.941176, total=   0.0s\n",
      "[CV] features__pca__n_components=2, svm__C=0.1, features__univ_select__k=2 \n",
      "[CV]  features__pca__n_components=2, svm__C=0.1, features__univ_select__k=2, score=0.979167, total=   0.0s\n",
      "[CV] features__pca__n_components=2, svm__C=1, features__univ_select__k=2 \n",
      "[CV]  features__pca__n_components=2, svm__C=1, features__univ_select__k=2, score=1.000000, total=   0.0s\n",
      "[CV] features__pca__n_components=2, svm__C=1, features__univ_select__k=2 \n",
      "[CV]  features__pca__n_components=2, svm__C=1, features__univ_select__k=2, score=0.960784, total=   0.0s\n",
      "[CV] features__pca__n_components=2, svm__C=1, features__univ_select__k=2 \n",
      "[CV]  features__pca__n_components=2, svm__C=1, features__univ_select__k=2, score=0.979167, total=   0.0s\n",
      "[CV] features__pca__n_components=2, svm__C=10, features__univ_select__k=2 \n",
      "[CV]  features__pca__n_components=2, svm__C=10, features__univ_select__k=2, score=0.980392, total=   0.0s\n",
      "[CV] features__pca__n_components=2, svm__C=10, features__univ_select__k=2 \n",
      "[CV]  features__pca__n_components=2, svm__C=10, features__univ_select__k=2, score=0.921569, total=   0.0s\n",
      "[CV] features__pca__n_components=2, svm__C=10, features__univ_select__k=2 \n",
      "[CV]  features__pca__n_components=2, svm__C=10, features__univ_select__k=2, score=1.000000, total=   0.0s\n",
      "[CV] features__pca__n_components=3, svm__C=0.1, features__univ_select__k=1 \n",
      "[CV]  features__pca__n_components=3, svm__C=0.1, features__univ_select__k=1, score=0.980392, total=   0.0s\n",
      "[CV] features__pca__n_components=3, svm__C=0.1, features__univ_select__k=1 \n",
      "[CV]  features__pca__n_components=3, svm__C=0.1, features__univ_select__k=1, score=0.941176, total=   0.0s\n",
      "[CV] features__pca__n_components=3, svm__C=0.1, features__univ_select__k=1 \n",
      "[CV]  features__pca__n_components=3, svm__C=0.1, features__univ_select__k=1, score=0.979167, total=   0.0s\n",
      "[CV] features__pca__n_components=3, svm__C=1, features__univ_select__k=1 \n",
      "[CV]  features__pca__n_components=3, svm__C=1, features__univ_select__k=1, score=1.000000, total=   0.0s\n",
      "[CV] features__pca__n_components=3, svm__C=1, features__univ_select__k=1 \n",
      "[CV]  features__pca__n_components=3, svm__C=1, features__univ_select__k=1, score=0.941176, total=   0.0s\n",
      "[CV] features__pca__n_components=3, svm__C=1, features__univ_select__k=1 \n",
      "[CV]  features__pca__n_components=3, svm__C=1, features__univ_select__k=1, score=0.979167, total=   0.0s\n",
      "[CV] features__pca__n_components=3, svm__C=10, features__univ_select__k=1 \n",
      "[CV]  features__pca__n_components=3, svm__C=10, features__univ_select__k=1, score=1.000000, total=   0.0s\n",
      "[CV] features__pca__n_components=3, svm__C=10, features__univ_select__k=1 \n",
      "[CV]  features__pca__n_components=3, svm__C=10, features__univ_select__k=1, score=0.921569, total=   0.0s\n",
      "[CV] features__pca__n_components=3, svm__C=10, features__univ_select__k=1 \n",
      "[CV]  features__pca__n_components=3, svm__C=10, features__univ_select__k=1, score=1.000000, total=   0.0s\n",
      "[CV] features__pca__n_components=3, svm__C=0.1, features__univ_select__k=2 \n",
      "[CV]  features__pca__n_components=3, svm__C=0.1, features__univ_select__k=2, score=0.980392, total=   0.0s\n",
      "[CV] features__pca__n_components=3, svm__C=0.1, features__univ_select__k=2 \n",
      "[CV]  features__pca__n_components=3, svm__C=0.1, features__univ_select__k=2, score=0.941176, total=   0.0s\n",
      "[CV] features__pca__n_components=3, svm__C=0.1, features__univ_select__k=2 \n",
      "[CV]  features__pca__n_components=3, svm__C=0.1, features__univ_select__k=2, score=0.979167, total=   0.0s\n",
      "[CV] features__pca__n_components=3, svm__C=1, features__univ_select__k=2 \n",
      "[CV]  features__pca__n_components=3, svm__C=1, features__univ_select__k=2, score=1.000000, total=   0.0s\n",
      "[CV] features__pca__n_components=3, svm__C=1, features__univ_select__k=2 \n",
      "[CV]  features__pca__n_components=3, svm__C=1, features__univ_select__k=2, score=0.960784, total=   0.0s\n",
      "[CV] features__pca__n_components=3, svm__C=1, features__univ_select__k=2 \n",
      "[CV]  features__pca__n_components=3, svm__C=1, features__univ_select__k=2, score=0.979167, total=   0.0s\n",
      "[CV] features__pca__n_components=3, svm__C=10, features__univ_select__k=2 \n",
      "[CV]  features__pca__n_components=3, svm__C=10, features__univ_select__k=2, score=1.000000, total=   0.0s\n",
      "[CV] features__pca__n_components=3, svm__C=10, features__univ_select__k=2 \n",
      "[CV]  features__pca__n_components=3, svm__C=10, features__univ_select__k=2, score=0.921569, total=   0.0s\n",
      "[CV] features__pca__n_components=3, svm__C=10, features__univ_select__k=2 \n",
      "[CV]  features__pca__n_components=3, svm__C=10, features__univ_select__k=2, score=1.000000, total=   0.0s\n",
      "GridSearchCV(cv=None, error_score='raise',\n",
      "       estimator=Pipeline(steps=[('features', FeatureUnion(n_jobs=1,\n",
      "       transformer_list=[('pca', PCA(copy=True, iterated_power='auto', n_components=2, random_state=None,\n",
      "  svd_solver='auto', tol=0.0, whiten=False)), ('univ_select', SelectKBest(k=1, score_func=<function f_classif at 0x7fc082cdb230>))],\n",
      "       transformer...,\n",
      "  max_iter=-1, probability=False, random_state=None, shrinking=True,\n",
      "  tol=0.001, verbose=False))]),\n",
      "       fit_params={}, iid=True, n_jobs=1,\n",
      "       param_grid={'features__pca__n_components': [1, 2, 3], 'svm__C': [0.1, 1, 10], 'features__univ_select__k': [1, 2]},\n",
      "       pre_dispatch='2*n_jobs', refit=True, return_train_score=True,\n",
      "       scoring=None, verbose=10)\n"
     ]
    },
    {
     "name": "stderr",
     "output_type": "stream",
     "text": [
      "[Parallel(n_jobs=1)]: Done  54 out of  54 | elapsed:    1.2s finished\n"
     ]
    }
   ],
   "source": [
    "from sklearn.model_selection import GridSearchCV\n",
    "grid_search = GridSearchCV(pipeline, param_grid=param_grid, verbose=10)\n",
    "print grid_search.fit(X, y)"
   ]
  },
  {
   "cell_type": "code",
   "execution_count": 6,
   "metadata": {
    "collapsed": false,
    "scrolled": false
   },
   "outputs": [
    {
     "name": "stdout",
     "output_type": "stream",
     "text": [
      "Pipeline(steps=[('features', FeatureUnion(n_jobs=1,\n",
      "       transformer_list=[('pca', PCA(copy=True, iterated_power='auto', n_components=2, random_state=None,\n",
      "  svd_solver='auto', tol=0.0, whiten=False)), ('univ_select', SelectKBest(k=2, score_func=<function f_classif at 0x7fc082cdb230>))],\n",
      "       transformer...,\n",
      "  max_iter=-1, probability=False, random_state=None, shrinking=True,\n",
      "  tol=0.001, verbose=False))])\n"
     ]
    }
   ],
   "source": [
    "print(grid_search.best_estimator_)"
   ]
  }
 ],
 "metadata": {
  "kernelspec": {
   "display_name": "Python 2",
   "language": "python",
   "name": "python2"
  },
  "language_info": {
   "codemirror_mode": {
    "name": "ipython",
    "version": 2
   },
   "file_extension": ".py",
   "mimetype": "text/x-python",
   "name": "python",
   "nbconvert_exporter": "python",
   "pygments_lexer": "ipython2",
   "version": "2.7.12"
  }
 },
 "nbformat": 4,
 "nbformat_minor": 2
}
