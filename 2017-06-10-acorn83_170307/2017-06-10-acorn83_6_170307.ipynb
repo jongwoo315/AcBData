{
 "cells": [
  {
   "cell_type": "raw",
   "metadata": {},
   "source": [
    "원래 ipynb 제목\n",
    "5. K-means (text_mining?).ipynb"
   ]
  },
  {
   "cell_type": "markdown",
   "metadata": {},
   "source": [
    "https://github.com/luispedro/BuildingMachineLearningSystemsWithPython/blob/master/ch03/rel_post_20news.py#L39\n",
    "https://archive.ics.uci.edu/ml/machine-learning-databases/20newsgroups-mld/20newsgroups.data.html  \n",
    "http://qwone.com/~jason/20Newsgroups"
   ]
  },
  {
   "cell_type": "markdown",
   "metadata": {},
   "source": [
    "유즈넷(user + internet)  \n",
    "인터넷을 이루는 한가지로, 유저 네트워크의 준말인데, 주로 텍스트 형태의 기사들을 전 세계의 사용자들이 공개된 공간에서 주고 받아 토론할 수 있게 고안된 분산 네트워크이다.  \n",
    "사용자는 전자 게시판의 카테고리와 유사하게 분류된 뉴스그룹이라 불리는 토론 그룹에서 전자 우편(이메일)과 유사한 형태의 글을 읽거나 작성하여 토론한다."
   ]
  },
  {
   "cell_type": "markdown",
   "metadata": {},
   "source": [
    "뉴스그룹(newsgroup)  \n",
    "다른 위치의 많은 사용자들이 올린 메시지를 처리하기 위한 유즈넷 시스템 안의 저장소이다. 이 용어는 분명하게 정의하기가 쉽지 않는데, 뉴스그룹을 보통 토론 그룹으로 말하기 때문이다. 월드 와이드 웹 상에서 토론 포럼은 뉴스그룹과 기술적으로 구별되지만 기능상으로는 비슷하다."
   ]
  },
  {
   "cell_type": "markdown",
   "metadata": {},
   "source": [
    "<tbody style=\"font-size: 14px !important; line-height: 21px !important;\">\n",
    "<tr bgcolor=\"#ffffff\" style=\"font-size: 14px !important; line-height: 21px !important;\">\n",
    "<td width=\"20%\" style=\"font-size: 14px !important; line-height: 21px !important;\">&nbsp;alt.</td>\n",
    "<td width=\"80%\" style=\"font-size: 14px !important; line-height: 21px !important;\">&nbsp;일상 얘기를 하는 그룹. 가장 많은 소그룹을 보유 (alternative)</td></tr>\n",
    "<tr bgcolor=\"#ffffff\" style=\"font-size: 14px !important; line-height: 21px !important;\">\n",
    "<td style=\"font-size: 14px !important; line-height: 21px !important;\">&nbsp;comp.</td>\n",
    "<td style=\"font-size: 14px !important; line-height: 21px !important;\">&nbsp;컴퓨터와 프로그램 언어 관련 그룹. (computer) </td></tr>\n",
    "<tr bgcolor=\"#ffffff\" style=\"font-size: 14px !important; line-height: 21px !important;\">\n",
    "<td style=\"font-size: 14px !important; line-height: 21px !important;\">&nbsp;misc.</td>\n",
    "<td style=\"font-size: 14px !important; line-height: 21px !important;\">&nbsp;기타 그룹. (miscellaneous) </td></tr>\n",
    "<tr bgcolor=\"#ffffff\" style=\"font-size: 14px !important; line-height: 21px !important;\">\n",
    "<td style=\"font-size: 14px !important; line-height: 21px !important;\">&nbsp;rec.</td>\n",
    "<td style=\"font-size: 14px !important; line-height: 21px !important;\">&nbsp;취미나 여가에 관련된 그룹. (recreation) </td></tr>\n",
    "<tr bgcolor=\"#ffffff\" style=\"font-size: 14px !important; line-height: 21px !important;\">\n",
    "<td style=\"font-size: 14px !important; line-height: 21px !important;\">&nbsp;sci.</td>\n",
    "<td style=\"font-size: 14px !important; line-height: 21px !important;\">&nbsp;과학에 관련된 그룹. (science) </td></tr>\n",
    "<tr bgcolor=\"#ffffff\" style=\"font-size: 14px !important; line-height: 21px !important;\">\n",
    "<td style=\"font-size: 14px !important; line-height: 21px !important;\">&nbsp;soc.</td>\n",
    "<td style=\"font-size: 14px !important; line-height: 21px !important;\">&nbsp;사회 전반에 관련된 그룹. (society) </td></tr></tbody>"
   ]
  },
  {
   "cell_type": "markdown",
   "metadata": {},
   "source": [
    "The 20 Newsgroups data set\n",
    "\n",
    "The 20 Newsgroups data set is a collection of approximately 20,000 newsgroup documents, partitioned (nearly) evenly across 20 different newsgroups.\n",
    "\n",
    "Organization\n",
    "\n",
    "The data is organized into 20 different newsgroups, each corresponding to a different topic. Some of the newsgroups are very closely related to each other (e.g. comp.sys.ibm.pc.hardware / comp.sys.mac.hardware), while others are highly unrelated (e.g misc.forsale / soc.religion.christian). Here is a list of the 20 newsgroups, partitioned (more or less) according to subject matter:"
   ]
  },
  {
   "cell_type": "markdown",
   "metadata": {},
   "source": [
    "<tbody style=\"font-size: 16px !important;\"><tr style=\"font-size: 16px !important;\">\n",
    "<td style=\"font-size: 16px !important;\">comp.graphics<br>comp.os.ms-windows.misc<br>comp.sys.ibm.pc.hardware<br>comp.sys.mac.hardware<br>comp.windows.x</td>\n",
    "<td style=\"font-size: 16px !important;\">rec.autos<br>rec.motorcycles<br>rec.sport.baseball<br>rec.sport.hockey</td>\n",
    "<td style=\"font-size: 16px !important;\">sci.crypt<br>sci.electronics<br>sci.med<br>sci.space</td>\n",
    "</tr><tr style=\"font-size: 16px !important;\">\n",
    "<td style=\"font-size: 16px !important;\">misc.forsale</td>\n",
    "<td style=\"font-size: 16px !important;\">talk.politics.misc<br>talk.politics.guns<br>talk.politics.mideast</td>\n",
    "<td style=\"font-size: 16px !important;\">talk.religion.misc<br>alt.atheism<br>soc.religion.christian</td>\n",
    "</tr>\n",
    "</tbody>"
   ]
  },
  {
   "cell_type": "code",
   "execution_count": 2,
   "metadata": {
    "collapsed": true
   },
   "outputs": [],
   "source": [
    "from sklearn.datasets import fetch_20newsgroups"
   ]
  },
  {
   "cell_type": "code",
   "execution_count": 3,
   "metadata": {
    "collapsed": true
   },
   "outputs": [],
   "source": [
    "# 시간이 좀 걸림\n",
    "all_data = fetch_20newsgroups(subset='all')"
   ]
  },
  {
   "cell_type": "code",
   "execution_count": 43,
   "metadata": {
    "collapsed": false
   },
   "outputs": [
    {
     "name": "stdout",
     "output_type": "stream",
     "text": [
      "18846\n"
     ]
    }
   ],
   "source": [
    "print(len(all_data.filenames))"
   ]
  },
  {
   "cell_type": "code",
   "execution_count": 6,
   "metadata": {
    "collapsed": false
   },
   "outputs": [
    {
     "name": "stdout",
     "output_type": "stream",
     "text": [
      "['alt.atheism', 'comp.graphics', 'comp.os.ms-windows.misc', 'comp.sys.ibm.pc.hardware', 'comp.sys.mac.hardware', 'comp.windows.x', 'misc.forsale', 'rec.autos', 'rec.motorcycles', 'rec.sport.baseball', 'rec.sport.hockey', 'sci.crypt', 'sci.electronics', 'sci.med', 'sci.space', 'soc.religion.christian', 'talk.politics.guns', 'talk.politics.mideast', 'talk.politics.misc', 'talk.religion.misc']\n"
     ]
    }
   ],
   "source": [
    "print(all_data.target_names)"
   ]
  },
  {
   "cell_type": "markdown",
   "metadata": {},
   "source": [
    "###### <font color='coral'>시간 절약을 위해 전체 데이터가 아니고, 일부분만 가져온다"
   ]
  },
  {
   "cell_type": "code",
   "execution_count": 5,
   "metadata": {
    "collapsed": true
   },
   "outputs": [],
   "source": [
    "groups = ['comp.graphics', 'comp.os.ms-windows.misc',\n",
    "'comp.sys.ibm.pc.hardware', 'comp.sys.mac.hardware',\n",
    "'comp.windows.x', 'sci.space']"
   ]
  },
  {
   "cell_type": "code",
   "execution_count": 47,
   "metadata": {
    "collapsed": false
   },
   "outputs": [
    {
     "data": {
      "text/plain": [
       "3529"
      ]
     },
     "execution_count": 47,
     "metadata": {},
     "output_type": "execute_result"
    }
   ],
   "source": [
    "train_data = sklearn.datasets.fetch_20newsgroups(subset='train',\n",
    "categories=groups)\n",
    "len(train_data.filenames)"
   ]
  },
  {
   "cell_type": "code",
   "execution_count": 49,
   "metadata": {
    "collapsed": true
   },
   "outputs": [],
   "source": [
    "test_data = sklearn.datasets.fetch_20newsgroups(subset='test', categories=groups)"
   ]
  },
  {
   "cell_type": "code",
   "execution_count": 50,
   "metadata": {
    "collapsed": false
   },
   "outputs": [
    {
     "data": {
      "text/plain": [
       "2349"
      ]
     },
     "execution_count": 50,
     "metadata": {},
     "output_type": "execute_result"
    }
   ],
   "source": [
    "len(test_data.filenames)"
   ]
  },
  {
   "cell_type": "code",
   "execution_count": null,
   "metadata": {
    "collapsed": true
   },
   "outputs": [],
   "source": [
    "# import nltk.stem\n",
    "# english_stemmer = nltk.stem.SnowballStemmer('english')#"
   ]
  },
  {
   "cell_type": "markdown",
   "metadata": {},
   "source": [
    "###### <font color='coral'>real data is noisy.  \n",
    "###### <font color='coral'>The newsgroup dataset is no exception.  \n",
    "###### <font color='coral'>It even contains invalid characters that will result in UnicodeDecodeError.  \n",
    "###### <font color='coral'>We have to tell the vectorizer to ignore them."
   ]
  },
  {
   "cell_type": "code",
   "execution_count": 13,
   "metadata": {
    "collapsed": false
   },
   "outputs": [],
   "source": [
    "from sklearn.feature_extraction.text import TfidfVectorizer"
   ]
  },
  {
   "cell_type": "code",
   "execution_count": 14,
   "metadata": {
    "collapsed": false
   },
   "outputs": [],
   "source": [
    "class StemmedTfidfVectorizer(TfidfVectorizer):\n",
    "\n",
    "    def build_analyzer(self):\n",
    "        analyzer = super(TfidfVectorizer, self).build_analyzer()\n",
    "        return lambda doc: (english_stemmer.stem(w) for w in analyzer(doc))"
   ]
  },
  {
   "cell_type": "code",
   "execution_count": 15,
   "metadata": {
    "collapsed": false
   },
   "outputs": [
    {
     "name": "stdout",
     "output_type": "stream",
     "text": [
      "#samples: 3529, #features: 4712\n"
     ]
    }
   ],
   "source": [
    "vectorizer = StemmedTfidfVectorizer(min_df=10, max_df=0.5,\n",
    "                                    stop_words='english', decode_error='ignore'\n",
    "                                    )\n",
    "\n",
    "vectorized = vectorizer.fit_transform(train_data.data)\n",
    "num_samples, num_features = vectorized.shape\n",
    "\n",
    "print(\"#samples: %d, #features: %d\" % (num_samples, num_features))\n",
    "# samples: 3529, #features: 4712"
   ]
  },
  {
   "cell_type": "markdown",
   "metadata": {},
   "source": [
    "###### <font color='coral'>3529개의 포스트, 4712크기의 벡터\n",
    "###### <font color='coral'>That is what K-means takes as input."
   ]
  },
  {
   "cell_type": "code",
   "execution_count": null,
   "metadata": {
    "collapsed": true
   },
   "outputs": [],
   "source": [
    "import nltk.stem\n",
    "english_stemmer = nltk.stem.SnowballStemmer('english')"
   ]
  },
  {
   "cell_type": "code",
   "execution_count": null,
   "metadata": {
    "collapsed": true
   },
   "outputs": [],
   "source": [
    "from sklearn.cluster import KMeans"
   ]
  },
  {
   "cell_type": "code",
   "execution_count": 55,
   "metadata": {
    "collapsed": false
   },
   "outputs": [
    {
     "name": "stdout",
     "output_type": "stream",
     "text": [
      "Initialization complete\n",
      "Iteration  0, inertia 5686.053\n",
      "Iteration  1, inertia 3164.888\n",
      "Iteration  2, inertia 3132.208\n",
      "Iteration  3, inertia 3111.713\n",
      "Iteration  4, inertia 3098.584\n",
      "Iteration  5, inertia 3092.191\n",
      "Iteration  6, inertia 3087.277\n",
      "Iteration  7, inertia 3084.100\n",
      "Iteration  8, inertia 3082.800\n",
      "Iteration  9, inertia 3082.234\n",
      "Iteration 10, inertia 3081.949\n",
      "Iteration 11, inertia 3081.843\n",
      "Iteration 12, inertia 3081.791\n",
      "Iteration 13, inertia 3081.752\n",
      "Iteration 14, inertia 3081.660\n",
      "Iteration 15, inertia 3081.617\n",
      "Iteration 16, inertia 3081.589\n",
      "Iteration 17, inertia 3081.571\n",
      "Converged at iteration 17: center shift 0.000000e+00 within tolerance 2.069005e-08\n"
     ]
    }
   ],
   "source": [
    "num_clusters = 50 # 이 챕터에서 사용하기 위해 크기를 50으로 조정\n",
    "km = KMeans(n_clusters=num_clusters, \n",
    "            n_init=1, verbose=1, random_state=3)\n",
    "\n",
    "clustered = km.fit(vectorized)"
   ]
  },
  {
   "cell_type": "code",
   "execution_count": 57,
   "metadata": {
    "collapsed": false
   },
   "outputs": [
    {
     "name": "stdout",
     "output_type": "stream",
     "text": [
      "km.labels_=[48 23 31 ...,  6  2 22]\n",
      "km.labels_.shape=3529\n"
     ]
    }
   ],
   "source": [
    "print(\"km.labels_=%s\" % km.labels_)\n",
    "\n",
    "print(\"km.labels_.shape=%s\" % km.labels_.shape)"
   ]
  },
  {
   "cell_type": "code",
   "execution_count": 33,
   "metadata": {
    "collapsed": false
   },
   "outputs": [
    {
     "name": "stdout",
     "output_type": "stream",
     "text": [
      "Homogeneity: 0.445\n",
      "Completeness: 0.231\n",
      "V-measure: 0.304\n",
      "Adjusted Rand Index: 0.094\n",
      "Adjusted Mutual Information: 0.223\n",
      "Silhouette Coefficient: 0.006\n"
     ]
    }
   ],
   "source": [
    "from sklearn import metrics\n",
    "print(\"Homogeneity: %0.3f\" % metrics.homogeneity_score(labels, km.labels_))\n",
    "# Homogeneity: 0.400\n",
    "print(\"Completeness: %0.3f\" % metrics.completeness_score(labels, km.labels_))\n",
    "# Completeness: 0.206\n",
    "print(\"V-measure: %0.3f\" % metrics.v_measure_score(labels, km.labels_))\n",
    "# V-measure: 0.272\n",
    "print(\"Adjusted Rand Index: %0.3f\" %\n",
    "      metrics.adjusted_rand_score(labels, km.labels_))\n",
    "# Adjusted Rand Index: 0.064\n",
    "print(\"Adjusted Mutual Information: %0.3f\" %\n",
    "      metrics.adjusted_mutual_info_score(labels, km.labels_))\n",
    "# Adjusted Mutual Information: 0.197\n",
    "print((\"Silhouette Coefficient: %0.3f\" %\n",
    "       metrics.silhouette_score(vectorized, labels, sample_size=1000)))\n",
    "# Silhouette Coefficient: 0.006"
   ]
  },
  {
   "cell_type": "code",
   "execution_count": 37,
   "metadata": {
    "collapsed": false
   },
   "outputs": [],
   "source": [
    "new_post = \\\n",
    "    \"\"\"Disk drive problems. Hi, I have a problem with my hard disk.\n",
    "After 1 year it is working only sporadically now.\n",
    "I tried to format it, but now it doesn't boot any more.\n",
    "Any ideas? Thanks.\n",
    "\"\"\""
   ]
  },
  {
   "cell_type": "code",
   "execution_count": 38,
   "metadata": {
    "collapsed": false
   },
   "outputs": [
    {
     "name": "stdout",
     "output_type": "stream",
     "text": [
      "Count similar: 56\n"
     ]
    }
   ],
   "source": [
    "new_post_vec = vectorizer.transform([new_post])\n",
    "new_post_label = km.predict(new_post_vec)[0]\n",
    "\n",
    "similar_indices = (km.labels_ == new_post_label).nonzero()[0]\n",
    "\n",
    "similar = []\n",
    "for i in similar_indices:\n",
    "    dist = sp.linalg.norm((new_post_vec - vectorized[i]).toarray())\n",
    "    similar.append((dist, train_data.data[i]))\n",
    "\n",
    "similar = sorted(similar)\n",
    "print(\"Count similar: %i\" % len(similar))"
   ]
  },
  {
   "cell_type": "code",
   "execution_count": 39,
   "metadata": {
    "collapsed": false
   },
   "outputs": [
    {
     "name": "stdout",
     "output_type": "stream",
     "text": [
      "=== #1 ===\n",
      "(1.0378441731334072, u\"From: Thomas Dachsel <GERTHD@mvs.sas.com>\\nSubject: BOOT PROBLEM with IDE controller\\nNntp-Posting-Host: sdcmvs.mvs.sas.com\\nOrganization: SAS Institute Inc.\\nLines: 25\\n\\nHi,\\nI've got a Multi I/O card (IDE controller + serial/parallel\\ninterface) and two floppy drives (5 1/4, 3 1/2) and a\\nQuantum ProDrive 80AT connected to it.\\nI was able to format the hard disk, but I could not boot from\\nit. I can boot from drive A: (which disk drive does not matter)\\nbut if I remove the disk from drive A and press the reset switch,\\nthe LED of drive A: continues to glow, and the hard disk is\\nnot accessed at all.\\nI guess this must be a problem of either the Multi I/o card\\nor floppy disk drive settings (jumper configuration?)\\nDoes someone have any hint what could be the reason for it.\\nPlease reply by email to GERTHD@MVS.SAS.COM\\nThanks,\\nThomas\\n+-------------------------------------------------------------------+\\n| Thomas Dachsel                                                    |\\n| Internet: GERTHD@MVS.SAS.COM                                      |\\n| Fidonet:  Thomas_Dachsel@camel.fido.de (2:247/40)                 |\\n| Subnet:   dachsel@rnivh.rni.sub.org (UUCP in Germany, now active) |\\n| Phone:    +49 6221 4150 (work), +49 6203 12274 (home)             |\\n| Fax:      +49 6221 415101                                         |\\n| Snail:    SAS Institute GmbH, P.O.Box 105307, D-W-6900 Heidelberg |\\n| Tagline:  One bad sector can ruin a whole day...                  |\\n+-------------------------------------------------------------------+\\n\")\n",
      "()\n",
      "=== #2 ===\n",
      "(1.1503043264096682, u'From: rpao@mts.mivj.ca.us (Roger C. Pao)\\nSubject: Re: Booting from B drive\\nOrganization: MicroTech Software\\nLines: 34\\n\\nglang@slee01.srl.ford.com (Gordon Lang) writes:\\n\\n>David Weisberger (djweisbe@unix.amherst.edu) wrote:\\n>: I have a 5 1/4\" drive as drive A.  How can I make the system boot from\\n>: my 3 1/2\" B drive?  (Optimally, the computer would be able to boot\\n>: from either A or B, checking them in order for a bootable disk.  But\\n>: if I have to switch cables around and simply switch the drives so that\\n>: it can\\'t boot 5 1/4\" disks, that\\'s OK.  Also, boot_b won\\'t do the trick\\n>: for me.)\\n>: \\n>: Thanks,\\n>:   Davebo\\n>We had the same issue plague us for months on our Gateway.  I finally\\n>got tired of it so I permanently interchanged the drives.  The only\\n>reason I didn\\'t do it in the first place was because I had several\\n>bootable 5-1/4\\'s and some 5-1/4 based install disks which expected\\n>the A drive.  I order all new software (and upgrades) to be 3-1/2 and\\n>the number of \"stupid\" install programs that can\\'t handle an alternate\\n>drive are declining with time - the ones I had are now upgraded.  And\\n>as for the bootable 5-1/4\\'s I just cut 3-1/2 replacements.\\n\\n>If switching the drives is not an option, you might be able to wire up\\n>a drive switch to your computer chasis.  I haven\\'t tried it but I think\\n>it would work as long as it is wired carefully.\\n\\nI did this.  I use a relay (Radio Shack 4PDT) instead of a huge\\nswitch.  This way, if the relay breaks, my drives will still work.\\n\\nIt works fine, but you may still need to change the CMOS before the\\ndrive switch will work correctly for some programs.\\n\\nrp93\\n-- \\nRoger C. Pao  {gordius,bagdad}!mts!rpao, rpao@mts.mivj.ca.us\\n')\n",
      "()\n",
      "=== #3 ===\n",
      "(1.2793959084781283, u'From: vg@volkmar.Stollmann.DE (Volkmar Grote)\\nSubject: IBM PS/1 vs TEAC FD\\nDistribution: world\\nOrganization: Me? Organized?\\nLines: 21\\n\\nHello,\\n\\nI already tried our national news group without success.\\n\\nI tried to replace a friend\\'s original IBM floppy disk in his PS/1-PC\\nwith a normal TEAC drive.\\nI already identified the power supply on pins 3 (5V) and 6 (12V), shorted\\npin 6 (5.25\"/3.5\" switch) and inserted pullup resistors (2K2) on pins\\n8, 26, 28, 30, and 34.\\nThe computer doesn\\'t complain about a missing FD, but the FD\\'s light\\nstays on all the time. The drive spins up o.k. when I insert a disk,\\nbut I can\\'t access it.\\nThe TEAC works fine in a normal PC.\\n\\nAre there any points I missed?\\n\\nThank you.\\n\\tVolkmar\\n\\n---\\nVolkmar.Grote@Stollmann.DE\\n')\n"
     ]
    }
   ],
   "source": [
    "show_at_1 = similar[0]\n",
    "show_at_2 = similar[int(len(similar) / 10)]\n",
    "show_at_3 = similar[int(len(similar) / 2)]\n",
    "\n",
    "print(\"=== #1 ===\")\n",
    "print(show_at_1)\n",
    "print()\n",
    "\n",
    "print(\"=== #2 ===\")\n",
    "print(show_at_2)\n",
    "print()\n",
    "\n",
    "print(\"=== #3 ===\")\n",
    "print(show_at_3)"
   ]
  }
 ],
 "metadata": {
  "kernelspec": {
   "display_name": "Python 2",
   "language": "python",
   "name": "python2"
  },
  "language_info": {
   "codemirror_mode": {
    "name": "ipython",
    "version": 2
   },
   "file_extension": ".py",
   "mimetype": "text/x-python",
   "name": "python",
   "nbconvert_exporter": "python",
   "pygments_lexer": "ipython2",
   "version": "2.7.12"
  }
 },
 "nbformat": 4,
 "nbformat_minor": 2
}
