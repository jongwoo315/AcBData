{
 "cells": [
  {
   "cell_type": "code",
   "execution_count": 1,
   "metadata": {
    "collapsed": true
   },
   "outputs": [],
   "source": [
    "#from scipy import stats\n",
    "#from scipy import optimize\n",
    "import scipy\n",
    "import numpy as np\n",
    "import random\n",
    "%matplotlib inline\n",
    "import matplotlib.pyplot as plt\n",
    "import seaborn as sns\n",
    "import pandas as pd"
   ]
  },
  {
   "cell_type": "code",
   "execution_count": 2,
   "metadata": {
    "collapsed": false
   },
   "outputs": [
    {
     "name": "stdout",
     "output_type": "stream",
     "text": [
      "3.1\n",
      "3.0\n",
      "0.9 6.7\n",
      "3.07\n",
      "1.75214154679\n"
     ]
    }
   ],
   "source": [
    "#sns.set_style('whitegrid')\n",
    "sns.set(style = 'whitegrid')\n",
    "x = np.array([3.5, 1.1, 3.2, 2.8, 6.7, 4.4, 0.9, 2.2])\n",
    "print np.mean(x)\n",
    "print np.median(x)\n",
    "print x.min(), x.max()\n",
    "print x.var()\n",
    "print x.std()"
   ]
  },
  {
   "cell_type": "code",
   "execution_count": 3,
   "metadata": {
    "collapsed": false
   },
   "outputs": [
    {
     "name": "stdout",
     "output_type": "stream",
     "text": [
      "0.641400616186\n",
      "5\n",
      "--------------------\n",
      "2.2129019979\n",
      "[ 0.50955304  0.71356403  0.25699895  0.75269361  0.88387918]\n",
      "---------------------\n",
      "[[ 2.1283978   0.4531316  -0.91691233  1.33864041]\n",
      " [ 0.85866797  0.7272307   0.56782948 -1.09536413]]\n",
      "[0 5 3 0 0 3 8 3 9 0]\n",
      "[[16 19 12 17 12 18 18 17 14 12]\n",
      " [14 10 16 19 15 13 15 18 11 17]]\n"
     ]
    }
   ],
   "source": [
    "random.seed(123456789)\n",
    "print random.random()\n",
    "print random.randint(0, 10)\n",
    "print '--------------------'\n",
    "np.random.seed(123456789)\n",
    "print np.random.randn()\n",
    "print np.random.rand(5)\n",
    "print '---------------------'\n",
    "print np.random.randn(2, 4)\n",
    "print np.random.randint(10, size = 10)\n",
    "print np.random.randint(low = 10, high = 20, size = (2, 10))"
   ]
  },
  {
   "cell_type": "markdown",
   "metadata": {},
   "source": [
    "# 정규 분포"
   ]
  },
  {
   "cell_type": "code",
   "execution_count": 2,
   "metadata": {
    "collapsed": false
   },
   "outputs": [
    {
     "name": "stdout",
     "output_type": "stream",
     "text": [
      "[[-0.60947712 -1.37237508  0.69292863  1.13295145]]\n",
      "[[-0.29139166 -1.83111541 -0.15919444 -0.06401919]]\n"
     ]
    }
   ],
   "source": [
    "print np.random.normal(size = (1, 4))\n",
    "# is the exact same thing as writing\n",
    "print np.random.randn(1, 4)"
   ]
  },
  {
   "cell_type": "code",
   "execution_count": 3,
   "metadata": {
    "collapsed": false
   },
   "outputs": [],
   "source": [
    "a = np.random.normal(size = 1000)\n",
    "bins = np.arange(-4, 5)\n",
    "\n",
    "# 1000개의 표준정규분포 난수들이 -4 ~ 4(x축) 사이에 들어간다\n",
    "# bins는 옵션이다. 없어도 됨\n",
    "relative_freq = np.histogram(a, bins = bins, normed = True)[0]\n",
    "# histogram은 계층적 array를 만드는데 [0]에는 y축(빈도수), [1]에는 x축(관측값, a 값)\n",
    "# normed = True를 쓰면, y축의 빈도수가 비율로 표시가 된다(전체 합 = 1일때)\n",
    "# a의 값들이 x축이지만, bins를 사용하면 값의 범위는 bins를 기준으로 x축에 표시된다\n",
    "\n",
    "# bins (범위 나누기)\n",
    "# array([-4, -3, -2, -1,  0,  1,  2,  3,  4])\n",
    "\n",
    "# relative_freq (원래는 빈도수인데, 정규화된 빈도수)\n",
    "# array([ 0.004,  0.024,  0.135,  0.346,  0.332,  0.139,  0.02 ,  0.   ])"
   ]
  },
  {
   "cell_type": "code",
   "execution_count": 4,
   "metadata": {
    "collapsed": false
   },
   "outputs": [
    {
     "data": {
      "text/plain": [
       "array([ 0.001,  0.016,  0.144,  0.333,  0.35 ,  0.136,  0.018,  0.002])"
      ]
     },
     "execution_count": 4,
     "metadata": {},
     "output_type": "execute_result"
    }
   ],
   "source": [
    "relative_freq"
   ]
  },
  {
   "cell_type": "code",
   "execution_count": 5,
   "metadata": {
    "collapsed": false
   },
   "outputs": [
    {
     "data": {
      "text/plain": [
       "(array([ 0.001,  0.016,  0.144,  0.333,  0.35 ,  0.136,  0.018,  0.002]),\n",
       " array([-4, -3, -2, -1,  0,  1,  2,  3,  4]),\n",
       " <a list of 8 Patch objects>)"
      ]
     },
     "execution_count": 5,
     "metadata": {},
     "output_type": "execute_result"
    },
    {
     "data": {
      "image/png": "[encoded data removed]",
      "text/plain": [
       "<matplotlib.figure.Figure at 0x7f8337b986d0>"
      ]
     },
     "metadata": {},
     "output_type": "display_data"
    }
   ],
   "source": [
    "# a = np.random.normal(size = 1000)\n",
    "# a의 값들은 x축에 들어간다. 하지만 bins를 정의했으므로 bins의 범위가 x축에 표시된다.\n",
    "plt.hist(a, bins = bins, normed = True)"
   ]
  },
  {
   "cell_type": "code",
   "execution_count": 6,
   "metadata": {
    "collapsed": true
   },
   "outputs": [],
   "source": [
    "# 원래의 bins가 범위가 9이므로 하나 줄이기 위한 작업과정\n",
    "bins = 0.5 * (bins[1:] + bins[:-1])"
   ]
  },
  {
   "cell_type": "code",
   "execution_count": 7,
   "metadata": {
    "collapsed": false
   },
   "outputs": [
    {
     "data": {
      "text/plain": [
       "[<matplotlib.lines.Line2D at 0x7f8337609d10>]"
      ]
     },
     "execution_count": 7,
     "metadata": {},
     "output_type": "execute_result"
    },
    {
     "data": {
      "image/png": "[encoded data removed]",
      "text/plain": [
       "<matplotlib.figure.Figure at 0x7f83374b7150>"
      ]
     },
     "metadata": {},
     "output_type": "display_data"
    }
   ],
   "source": [
    "# plot(x축내용, y축내용)\n",
    "plt.plot(bins, relative_freq)"
   ]
  },
  {
   "cell_type": "code",
   "execution_count": 8,
   "metadata": {
    "collapsed": false
   },
   "outputs": [
    {
     "data": {
      "text/plain": [
       "[<matplotlib.lines.Line2D at 0x7f8337402e10>]"
      ]
     },
     "execution_count": 8,
     "metadata": {},
     "output_type": "execute_result"
    },
    {
     "data": {
      "image/png": "[encoded data removed]",
      "text/plain": [
       "<matplotlib.figure.Figure at 0x7f83375afe90>"
      ]
     },
     "metadata": {},
     "output_type": "display_data"
    }
   ],
   "source": [
    "# scipy.stats.norm.pdf(bins) => z = bins일 때 이것이 가리키는 밀도함수 f(x)의 값\n",
    "# z = 1.96이 가리키는 밀도함수값( f(x)의 값 ) (r에서의 dnorm)\n",
    "b = scipy.stats.norm.pdf(bins)\n",
    "plt.plot(bins, b)"
   ]
  },
  {
   "cell_type": "markdown",
   "metadata": {},
   "source": [
    "# score at percent"
   ]
  },
  {
   "cell_type": "code",
   "execution_count": 9,
   "metadata": {
    "collapsed": false
   },
   "outputs": [
    {
     "name": "stdout",
     "output_type": "stream",
     "text": [
      "[1.3812928393305632, 0.078223992858123773, 1.2011596806114218, -0.56760256393834474]\n",
      "[-0.33073393098488052, -0.44500556601120111, -1.6830950870758883, -0.0059835940025256872]\n"
     ]
    }
   ],
   "source": [
    "# np.random.randn(1000)과 동일\n",
    "# 평균 0, 분산 1인 정규분포에서의 랜덤값\n",
    "a = np.random.normal(size = 1000)\n",
    "print list(a)[:4]\n",
    "print list(a)[-4:]"
   ]
  },
  {
   "cell_type": "code",
   "execution_count": 10,
   "metadata": {
    "collapsed": false
   },
   "outputs": [
    {
     "data": {
      "text/html": [
       "<div>\n",
       "<table border=\"1\" class=\"dataframe\">\n",
       "  <thead>\n",
       "    <tr style=\"text-align: right;\">\n",
       "      <th></th>\n",
       "      <th>0</th>\n",
       "    </tr>\n",
       "  </thead>\n",
       "  <tbody>\n",
       "    <tr>\n",
       "      <th>count</th>\n",
       "      <td>1000.000000</td>\n",
       "    </tr>\n",
       "    <tr>\n",
       "      <th>mean</th>\n",
       "      <td>0.040765</td>\n",
       "    </tr>\n",
       "    <tr>\n",
       "      <th>std</th>\n",
       "      <td>1.004415</td>\n",
       "    </tr>\n",
       "    <tr>\n",
       "      <th>min</th>\n",
       "      <td>-4.709801</td>\n",
       "    </tr>\n",
       "    <tr>\n",
       "      <th>25%</th>\n",
       "      <td>-0.611603</td>\n",
       "    </tr>\n",
       "    <tr>\n",
       "      <th>50%</th>\n",
       "      <td>0.027150</td>\n",
       "    </tr>\n",
       "    <tr>\n",
       "      <th>75%</th>\n",
       "      <td>0.701683</td>\n",
       "    </tr>\n",
       "    <tr>\n",
       "      <th>max</th>\n",
       "      <td>2.875425</td>\n",
       "    </tr>\n",
       "  </tbody>\n",
       "</table>\n",
       "</div>"
      ],
      "text/plain": [
       "                 0\n",
       "count  1000.000000\n",
       "mean      0.040765\n",
       "std       1.004415\n",
       "min      -4.709801\n",
       "25%      -0.611603\n",
       "50%       0.027150\n",
       "75%       0.701683\n",
       "max       2.875425"
      ]
     },
     "execution_count": 10,
     "metadata": {},
     "output_type": "execute_result"
    }
   ],
   "source": [
    "pd.DataFrame(a).describe()"
   ]
  },
  {
   "cell_type": "code",
   "execution_count": 11,
   "metadata": {
    "collapsed": false
   },
   "outputs": [
    {
     "data": {
      "text/plain": [
       "0.027149969157901667"
      ]
     },
     "execution_count": 11,
     "metadata": {},
     "output_type": "execute_result"
    }
   ],
   "source": [
    "scipy.stats.scoreatpercentile(a, 50)"
   ]
  },
  {
   "cell_type": "code",
   "execution_count": 12,
   "metadata": {
    "collapsed": false
   },
   "outputs": [
    {
     "data": {
      "text/plain": [
       "0.70168287430014797"
      ]
     },
     "execution_count": 12,
     "metadata": {},
     "output_type": "execute_result"
    }
   ],
   "source": [
    "scipy.stats.scoreatpercentile(a, 75)"
   ]
  },
  {
   "cell_type": "code",
   "execution_count": 13,
   "metadata": {
    "collapsed": false
   },
   "outputs": [
    {
     "data": {
      "text/plain": [
       "(0.040764537874049267, 1.0039130501269455)"
      ]
     },
     "execution_count": 13,
     "metadata": {},
     "output_type": "execute_result"
    }
   ],
   "source": [
    "# 평균, 표편 순으로 출력\n",
    "scipy.stats.norm.fit(a)"
   ]
  },
  {
   "cell_type": "markdown",
   "metadata": {},
   "source": [
    "# d"
   ]
  },
  {
   "cell_type": "code",
   "execution_count": 53,
   "metadata": {
    "collapsed": false
   },
   "outputs": [
    {
     "data": {
      "text/plain": [
       "<matplotlib.text.Text at 0x7f8719fc9690>"
      ]
     },
     "execution_count": 53,
     "metadata": {},
     "output_type": "execute_result"
    },
    {
     "data": {
      "image/png": "[encoded data removed]",
      "text/plain": [
       "<matplotlib.figure.Figure at 0x7f871a104a10>"
      ]
     },
     "metadata": {},
     "output_type": "display_data"
    }
   ],
   "source": [
    "fig, axes = plt.subplots(1, 3, figsize = (12, 3))\n",
    "\n",
    "axes[0].hist(np.random.rand(10000))\n",
    "axes[0].set_title('rand', color = 'r')\n",
    "\n",
    "axes[1].hist(np.random.normal(size = 10000))\n",
    "#axes[1].hist(np.random.randn(10000))\n",
    "axes[1].set_title('randn', color = 'r')\n",
    "\n",
    "axes[2].hist(np.random.randint(1, 10, 10000), bins = 9, align = 'left')\n",
    "axes[2].set_title('randint(low = 1, high = 10)', color = 'r')"
   ]
  },
  {
   "cell_type": "code",
   "execution_count": 72,
   "metadata": {
    "collapsed": false
   },
   "outputs": [
    {
     "data": {
      "text/plain": [
       "array(['z', 'a', 'c'], \n",
       "      dtype='|S1')"
      ]
     },
     "execution_count": 72,
     "metadata": {},
     "output_type": "execute_result"
    }
   ],
   "source": [
    "np.random.choice(['a', 'b', 'c', 'a', 'e', 'z'], 3, replace = False)"
   ]
  },
  {
   "cell_type": "code",
   "execution_count": 85,
   "metadata": {
    "collapsed": false
   },
   "outputs": [
    {
     "data": {
      "text/plain": [
       "array([5, 2, 7])"
      ]
     },
     "execution_count": 85,
     "metadata": {},
     "output_type": "execute_result"
    }
   ],
   "source": [
    "np.random.choice(np.arange(1, 10), 3)"
   ]
  },
  {
   "cell_type": "code",
   "execution_count": 60,
   "metadata": {
    "collapsed": false
   },
   "outputs": [
    {
     "data": {
      "text/plain": [
       "array([4, 4, 5])"
      ]
     },
     "execution_count": 60,
     "metadata": {},
     "output_type": "execute_result"
    }
   ],
   "source": [
    "np.random.randint(1, 10, 3)"
   ]
  },
  {
   "cell_type": "code",
   "execution_count": 103,
   "metadata": {
    "collapsed": false
   },
   "outputs": [
    {
     "data": {
      "text/plain": [
       "array([ 1.64507207,  2.25931161, -2.0511419 ,  1.0507482 ])"
      ]
     },
     "execution_count": 103,
     "metadata": {},
     "output_type": "execute_result"
    }
   ],
   "source": [
    "np.random.seed(5555)\n",
    "np.random.randn(4)"
   ]
  },
  {
   "cell_type": "code",
   "execution_count": 128,
   "metadata": {
    "collapsed": false
   },
   "outputs": [
    {
     "data": {
      "text/plain": [
       "array([ 1.64507207,  2.25931161, -2.0511419 ,  1.0507482 ])"
      ]
     },
     "execution_count": 128,
     "metadata": {},
     "output_type": "execute_result"
    }
   ],
   "source": [
    "# RandomState()는 클래스로 만든다.\n",
    "rr = np.random.RandomState(5555)"
   ]
  },
  {
   "cell_type": "code",
   "execution_count": 117,
   "metadata": {
    "collapsed": false
   },
   "outputs": [
    {
     "data": {
      "text/plain": [
       "array([ 1.64507207,  2.25931161, -2.0511419 ,  1.0507482 ])"
      ]
     },
     "execution_count": 117,
     "metadata": {},
     "output_type": "execute_result"
    }
   ],
   "source": [
    "# 다만, (다른 셀에서 사용할 때에만!!!)\n",
    "# 최초 실행시에만 동일한 값을 출력. 같은 결과를 얻고자 할 때에는 RandomState()를 다시 실행해야함\n",
    "rr.randn(4)"
   ]
  },
  {
   "cell_type": "code",
   "execution_count": 125,
   "metadata": {
    "collapsed": false
   },
   "outputs": [
    {
     "name": "stdout",
     "output_type": "stream",
     "text": [
      "[1 5 3 8 9]\n",
      "[[ 0.53283302  0.5341366   0.50955304  0.71356403]\n",
      " [ 0.25699895  0.75269361  0.88387918  0.15489908]]\n",
      "[[  1.00418922e+00   1.26859720e+00]\n",
      " [  2.02731988e+00   2.52605129e-05]]\n",
      "[[ 0.59734384 -1.27669959  0.09724793]\n",
      " [ 0.22451466  0.39697518 -0.19469463]]\n",
      "[[  0.77372119   0.1213796    1.64779052   1.21399831]\n",
      " [  0.45471421  17.64891848   1.48620557   2.55433261]]\n",
      "[8 3 4 2 4 5 4 4 7 5]\n"
     ]
    }
   ],
   "source": [
    "# choice는 문자형에도 쓸 수 있다.\n",
    "print np.random.choice(10, 5, replace = False)\n",
    "\n",
    "prng = np.random.RandomState(123456789)\n",
    "print prng.rand(2, 4)\n",
    "print prng.chisquare(1, size = (2, 2))\n",
    "print prng.standard_t(1, size = (2, 3))\n",
    "print prng.f(5, 2, size = (2, 4))\n",
    "print prng.binomial(10, 0.5, size = 10)"
   ]
  },
  {
   "cell_type": "code",
   "execution_count": 137,
   "metadata": {
    "collapsed": false
   },
   "outputs": [
    {
     "name": "stdout",
     "output_type": "stream",
     "text": [
      "1.0\n",
      "1.0\n",
      "0.5\n",
      "0.25\n"
     ]
    }
   ],
   "source": [
    "X = scipy.stats.norm(1, 0.5)\n",
    "print X.mean()\n",
    "print X.median()\n",
    "print X.std()\n",
    "print X.var()"
   ]
  },
  {
   "cell_type": "code",
   "execution_count": 51,
   "metadata": {
    "collapsed": false
   },
   "outputs": [
    {
     "data": {
      "text/plain": [
       "[1.0, 1.0, 1.25, 1.75, 2.6875]"
      ]
     },
     "execution_count": 51,
     "metadata": {},
     "output_type": "execute_result"
    }
   ],
   "source": [
    "# 적률생성함수\n",
    "[X.moment(n) for n in range(5)]"
   ]
  },
  {
   "cell_type": "code",
   "execution_count": 151,
   "metadata": {
    "collapsed": false
   },
   "outputs": [
    {
     "name": "stdout",
     "output_type": "stream",
     "text": [
      "(array(1.0), array(0.25))\n",
      "[ 0.10798193  0.79788456  0.10798193]\n",
      "[ 0.02275013  0.5         0.97724987]\n",
      "-------------------------------------------------------\n",
      "[ 0.32075157  1.04606179  0.69916426  1.08119962  1.20976092  0.26098519\n",
      "  0.42195838  0.6482979   0.99713773  0.5793934 ]\n",
      "[ 1.43177228  1.54499369  1.05999663  1.38346267  0.80926644  0.8363362\n",
      "  1.07352944  0.29707689  0.4860905   0.43006394]\n",
      "-------------------------------------------------------\n",
      "(array(1.0), array(0.25))\n",
      "(array(2.0), array(0.25))\n",
      "(0.020018007729972975, 1.979981992270027)\n",
      "(-0.28791465177445019, 2.2879146517744502)\n"
     ]
    }
   ],
   "source": [
    "print X.stats()\n",
    "print X.pdf([0, 1, 2])\n",
    "print X.cdf([0, 1, 2])\n",
    "print '-------------------------------------------------------'\n",
    "print X.rvs(10)\n",
    "print np.random.normal(1, 0.5, 10)\n",
    "# np.random.normal(평균, 표준편차, 표본크기)\n",
    "print '-------------------------------------------------------'\n",
    "print scipy.stats.norm(1, 0.5).stats()\n",
    "print scipy.stats.norm.stats(loc = 2, scale = 0.5)\n",
    "\n",
    "print X.interval(0.95)\n",
    "print X.interval(0.99)"
   ]
  },
  {
   "cell_type": "markdown",
   "metadata": {},
   "source": [
    "# pnorm, qnorm, dnorm"
   ]
  },
  {
   "cell_type": "code",
   "execution_count": 143,
   "metadata": {
    "collapsed": false
   },
   "outputs": [
    {
     "data": {
      "text/plain": [
       "0.97500210485177952"
      ]
     },
     "execution_count": 143,
     "metadata": {},
     "output_type": "execute_result"
    }
   ],
   "source": [
    "# default값이 평균 = 0, 분산 = 1 임\n",
    "# z = 1.96까지의 누적확률 (r에서의 pnorm)\n",
    "scipy.stats.norm.cdf(1.96, loc = 0, scale = 1)"
   ]
  },
  {
   "cell_type": "code",
   "execution_count": 60,
   "metadata": {
    "collapsed": false
   },
   "outputs": [
    {
     "data": {
      "text/plain": [
       "1.959963984540054"
      ]
     },
     "execution_count": 60,
     "metadata": {},
     "output_type": "execute_result"
    }
   ],
   "source": [
    "# p = 0.975일 때의 z 값 구하기 (r에서의 qnorm)\n",
    "scipy.stats.norm.ppf(0.975, loc = 0, scale = 1)"
   ]
  },
  {
   "cell_type": "code",
   "execution_count": 58,
   "metadata": {
    "collapsed": false
   },
   "outputs": [
    {
     "data": {
      "text/plain": [
       "0.058440944333451476"
      ]
     },
     "execution_count": 58,
     "metadata": {},
     "output_type": "execute_result"
    }
   ],
   "source": [
    "# z = 1.96이 가리키는 밀도함수값( f(x)의 값 ) (r에서의 dnorm)\n",
    "scipy.stats.norm.pdf(1.96, loc = 0, scale = 1)"
   ]
  },
  {
   "cell_type": "markdown",
   "metadata": {},
   "source": [
    "# 분포함수 그리기"
   ]
  },
  {
   "cell_type": "code",
   "execution_count": 171,
   "metadata": {
    "collapsed": true
   },
   "outputs": [],
   "source": [
    "def plot_rv_distribution(A, axes = None):\n",
    "    if axes is None:\n",
    "        fig, axes = plt.subplots(1, 3, figsize = (12, 3))\n",
    "    \n",
    "    # 최소값, 최대값을 담는다\n",
    "    x_min_999, x_max_999 = A.interval(0.999)\n",
    "    x999 = np.linspace(x_min_999, x_max_999, 1000)\n",
    "    \n",
    "    x_min_95, x_max_95 = A.interval(0.95)\n",
    "    x95 = np.linspace(x_min_95, x_max_95, 1000)\n",
    "    \n",
    "    # 연속형일 때 - pdf / 이산형일 때 - pmf\n",
    "    if hasattr(A.dist, 'pdf'):\n",
    "        axes[0].plot(x999, A.pdf(x999), label = 'pdf')\n",
    "        # fill_between - 그래프 아래 색을 더할 때 => 신뢰수준 95%인 부분만 색칠\n",
    "        axes[0].fill_between(x95, A.pdf(x95), color = 'r', alpha = 0.25)\n",
    "    else:\n",
    "        x999_int = np.unique(x999.astype(int))\n",
    "        # bar는 인자가 2개 필요하다(x축, y축)\n",
    "        # pmf, pdf는 z값에 대한 함수의 값을 의미 ( f(x) )\n",
    "        axes[0].bar(x999_int, A.pmf(x999_int), label = 'pmf')\n",
    "        \n",
    "    axes[1].plot(x999, A.cdf(x999), label = 'cdf')\n",
    "    # sf = 생존함수\n",
    "    axes[1].plot(x999, A.sf(x999), label = 'sf')\n",
    "    axes[2].plot(x999, A.ppf(x999), label = 'ppf')\n",
    "    \n",
    "    for ax in axes:\n",
    "        ax.legend()\n",
    "    return axes"
   ]
  },
  {
   "cell_type": "code",
   "execution_count": 172,
   "metadata": {
    "collapsed": false
   },
   "outputs": [
    {
     "data": {
      "text/plain": [
       "<matplotlib.text.Text at 0x7f8711f44450>"
      ]
     },
     "execution_count": 172,
     "metadata": {},
     "output_type": "execute_result"
    },
    {
     "data": {
      "image/png": "[encoded data removed]",
      "text/plain": [
       "<matplotlib.figure.Figure at 0x7f8712251110>"
      ]
     },
     "metadata": {},
     "output_type": "display_data"
    }
   ],
   "source": [
    "fig, axes = plt.subplots(3, 3, figsize = (12, 9))\n",
    "\n",
    "X1 = scipy.stats.norm()\n",
    "plot_rv_distribution(X1, axes = axes[0, :])\n",
    "axes[0, 0].set_ylabel('normal dist')\n",
    "\n",
    "X2 = scipy.stats.f(2, 50)\n",
    "plot_rv_distribution(X2, axes = axes[1, :])\n",
    "axes[1, 0].set_ylabel('F dist')\n",
    "\n",
    "X3 = scipy.stats.poisson(5)\n",
    "plot_rv_distribution(X3, axes = axes[2, :])\n",
    "axes[2, 0].set_ylabel('poisson dist')"
   ]
  },
  {
   "cell_type": "markdown",
   "metadata": {},
   "source": [
    "# 카이제곱 분포도 그리기"
   ]
  },
  {
   "cell_type": "code",
   "execution_count": 111,
   "metadata": {
    "collapsed": false
   },
   "outputs": [
    {
     "data": {
      "text/plain": [
       "<matplotlib.legend.Legend at 0x7efd7417eb50>"
      ]
     },
     "execution_count": 111,
     "metadata": {},
     "output_type": "execute_result"
    },
    {
     "data": {
      "image/png": "[encoded data removed]",
      "text/plain": [
       "<matplotlib.figure.Figure at 0x7efd73d92f50>"
      ]
     },
     "metadata": {},
     "output_type": "display_data"
    }
   ],
   "source": [
    "X = scipy.stats.chi2(df = 5)\n",
    "X_samples = X.rvs(500)\n",
    "\n",
    "df, loc, scale = scipy.stats.chi2.fit(X_samples)\n",
    "Y = scipy.stats.chi2(df = df, loc = loc, scale = scale)\n",
    "\n",
    "fig, ax = plt.subplots(1, 1, figsize = (8, 3))\n",
    "x_lim = X.interval(.99)\n",
    "x = np.linspace(*x_lim, num = 100)\n",
    "ax.plot(x, X.pdf(x), color = 'r', label = 'original')\n",
    "ax.plot(x, Y.pdf(x), label = 'recreated')\n",
    "ax.legend()"
   ]
  },
  {
   "cell_type": "markdown",
   "metadata": {},
   "source": [
    "# 회귀 분석과 피팅 그리고 요약"
   ]
  },
  {
   "cell_type": "code",
   "execution_count": 114,
   "metadata": {
    "collapsed": false
   },
   "outputs": [],
   "source": [
    "import statsmodels.api as sm\n",
    "import statsmodels.formula.api as smf\n",
    "import statsmodels.graphics.api as smg\n",
    "import patsy\n",
    "%matplotlib inline\n",
    "import matplotlib.pyplot as plt\n",
    "import numpy as np\n",
    "import pandas as pd\n",
    "import scipy\n",
    "import seaborn as sns"
   ]
  },
  {
   "cell_type": "code",
   "execution_count": 118,
   "metadata": {
    "collapsed": false
   },
   "outputs": [
    {
     "name": "stdout",
     "output_type": "stream",
     "text": [
      "                            OLS Regression Results                            \n",
      "==============================================================================\n",
      "Dep. Variable:                      y   R-squared:                       1.000\n",
      "Model:                            OLS   Adj. R-squared:                  1.000\n",
      "Method:                 Least Squares   F-statistic:                 1.561e+28\n",
      "Date:                Thu, 02 Mar 2017   Prob (F-statistic):           6.41e-29\n",
      "Time:                        16:26:07   Log-Likelihood:                 153.47\n",
      "No. Observations:                   5   AIC:                            -300.9\n",
      "Df Residuals:                       2   BIC:                            -302.1\n",
      "Df Model:                           2                                         \n",
      "Covariance Type:            nonrobust                                         \n",
      "==============================================================================\n",
      "                 coef    std err          t      P>|t|      [0.025      0.975]\n",
      "------------------------------------------------------------------------------\n",
      "Intercept     -0.5556   4.08e-14  -1.36e+13      0.000      -0.556      -0.556\n",
      "x1             1.8889   1.52e-13   1.24e+13      0.000       1.889       1.889\n",
      "x2            -0.8889   5.19e-14  -1.71e+13      0.000      -0.889      -0.889\n",
      "x1:x2      -1.665e-15   4.78e-15     -0.348      0.761   -2.22e-14    1.89e-14\n",
      "==============================================================================\n",
      "Omnibus:                          nan   Durbin-Watson:                   0.127\n",
      "Prob(Omnibus):                    nan   Jarque-Bera (JB):                0.580\n",
      "Skew:                           0.219   Prob(JB):                        0.748\n",
      "Kurtosis:                       1.390   Cond. No.                     8.28e+17\n",
      "==============================================================================\n",
      "\n",
      "Warnings:\n",
      "[1] Standard Errors assume that the covariance matrix of the errors is correctly specified.\n",
      "[2] The smallest eigenvalue is 9.02e-32. This might indicate that there are\n",
      "strong multicollinearity problems or that the design matrix is singular.\n"
     ]
    },
    {
     "name": "stderr",
     "output_type": "stream",
     "text": [
      "/usr/local/lib/python2.7/dist-packages/statsmodels/stats/stattools.py:72: ValueWarning: omni_normtest is not valid with less than 8 observations; 5 samples were given.\n",
      "  \"samples were given.\" % int(n), ValueWarning)\n"
     ]
    }
   ],
   "source": [
    "np.random.seed(123456789)\n",
    "x1 = np.array([6, 7, 8, 9, 10])\n",
    "x2 = np.array([11, 12, 13, 14, 15])\n",
    "\n",
    "X = np.vstack([np.ones(5), x1, x2, x2 * x2]).T\n",
    "y = np.array([1, 2, 3, 4, 5])\n",
    "\n",
    "beta, res, rank, sval = np.linalg.lstsq(X, y)\n",
    "\n",
    "data = {'y':y, 'x1':x1, 'x2':x2}\n",
    "\n",
    "y, X = patsy.dmatrices('y ~ 1 + x1 + x2 + x1 * x2', data)\n",
    "np.array(X)\n",
    "\n",
    "df_data = pd.DataFrame(data)\n",
    "\n",
    "y, X = patsy.dmatrices('y ~ 1 + x1 + x2 + x1:x2', df_data, return_type = 'dataframe')\n",
    "\n",
    "model = sm.OLS(y, X)\n",
    "result = model.fit()\n",
    "\n",
    "result.params\n",
    "model = smf.ols('y ~ 1 + x1 + x2 + x1:x2', df_data)\n",
    "\n",
    "result = model.fit()\n",
    "result.params\n",
    "print result.summary()"
   ]
  }
 ],
 "metadata": {
  "kernelspec": {
   "display_name": "Python 2",
   "language": "python",
   "name": "python2"
  },
  "language_info": {
   "codemirror_mode": {
    "name": "ipython",
    "version": 2
   },
   "file_extension": ".py",
   "mimetype": "text/x-python",
   "name": "python",
   "nbconvert_exporter": "python",
   "pygments_lexer": "ipython2",
   "version": "2.7.12"
  }
 },
 "nbformat": 4,
 "nbformat_minor": 2
}
