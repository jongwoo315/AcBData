{
 "cells": [
  {
   "cell_type": "code",
   "execution_count": 4,
   "metadata": {},
   "outputs": [],
   "source": [
    "#! /usr/bin/python3\n",
    "import tensorflow as tf\n",
    "import numpy as np"
   ]
  },
  {
   "cell_type": "code",
   "execution_count": 10,
   "metadata": {},
   "outputs": [],
   "source": [
    "g = tf.Graph()\n",
    "with g.as_default():\n",
    "    a = tf.multiply(2, 3)\n",
    "\n",
    "in_default_graph = tf.add(1, 2)\n",
    "with g.as_default():\n",
    "    in_graph_g = tf.multiply(2, 3)  # node 변수명이 항상 앞에 와야 한다\n",
    "\n",
    "default_graph = tf.get_default_graph()"
   ]
  },
  {
   "cell_type": "code",
   "execution_count": 8,
   "metadata": {},
   "outputs": [
    {
     "data": {
      "text/plain": [
       "6"
      ]
     },
     "execution_count": 8,
     "metadata": {},
     "output_type": "execute_result"
    }
   ],
   "source": [
    "g1 = tf.Graph()\n",
    "g2 = tf.Graph()\n",
    "with g1.as_default():\n",
    "    b = tf.multiply(10, 10)\n",
    "with g2.as_default():\n",
    "    c = tf.multiply(100, 100)\n",
    "\n",
    "g_sess = tf.Session(graph=g)\n",
    "g1_sess = tf.Session(graph=g1)\n",
    "g2_sess = tf.Session(graph=g2)\n",
    "\n",
    "g_sess.run(in_graph_g)"
   ]
  },
  {
   "cell_type": "code",
   "execution_count": 11,
   "metadata": {},
   "outputs": [
    {
     "data": {
      "text/plain": [
       "45"
      ]
     },
     "execution_count": 11,
     "metadata": {},
     "output_type": "execute_result"
    }
   ],
   "source": [
    "a = tf.add(2, 5)\n",
    "b = tf.multiply(a, 3)\n",
    "sess = tf.Session()  # 클래스 매개변수가 없을 때는 default graph임\n",
    "replace_dict = {a:15}  # key:value //// key는 tensorflow변수명과 일치해야 함\n",
    "\n",
    "sess.run(b, feed_dict=replace_dict) # placeholder를 명시적으로 지정하지 않았지만 변경가능"
   ]
  },
  {
   "cell_type": "code",
   "execution_count": 5,
   "metadata": {},
   "outputs": [
    {
     "data": {
      "text/plain": [
       "23"
      ]
     },
     "execution_count": 5,
     "metadata": {},
     "output_type": "execute_result"
    }
   ],
   "source": [
    "a = tf.placeholder(tf.int32, shape=[2], name='my_input')  # 명시적으로 placeholder를 지정하는 양식\n",
    "b = tf.reduce_prod(a, name='prod_b')  # reduce명령어: 모두 결합곱하여 하나의 값을 반환함\n",
    "c = tf.reduce_sum(a, name='sum_c')  # reduce명령어: 모두 결합합하여 하나의 값을 반환함\n",
    "d = tf.add(b, c, name='add_d')\n",
    "sess = tf.Session()\n",
    "input_dict = {a:np.array([5, 3], dtype=np.int32)}  # placeholder의 입력값을 numpy로 생성\n",
    "\n",
    "sess.run(d, feed_dict=input_dict)"
   ]
  }
 ],
 "metadata": {
  "kernelspec": {
   "display_name": "Python 3",
   "language": "python",
   "name": "python3"
  },
  "language_info": {
   "codemirror_mode": {
    "name": "ipython",
    "version": 3
   },
   "file_extension": ".py",
   "mimetype": "text/x-python",
   "name": "python",
   "nbconvert_exporter": "python",
   "pygments_lexer": "ipython3",
   "version": "3.5.2"
  }
 },
 "nbformat": 4,
 "nbformat_minor": 1
}
